{
 "cells": [
  {
   "cell_type": "code",
   "execution_count": 1,
   "metadata": {},
   "outputs": [],
   "source": [
    "import copy\n",
    "import pickle\n",
    "from datetime import datetime\n",
    "\n",
    "import numpy as np\n",
    "import optuna\n",
    "import pandas as pd\n",
    "import xgboost as xgb\n",
    "from sklearn.metrics import root_mean_squared_log_error\n",
    "from sklearn.model_selection import KFold\n",
    "import random\n",
    "from insurance.common import PREP_DATA_PATH\n",
    "from insurance.data_pipeline import get_feat_columns, make_xgboost_pipeline\n",
    "from insurance.logger import setup_logger"
   ]
  },
  {
   "cell_type": "code",
   "execution_count": 2,
   "metadata": {},
   "outputs": [],
   "source": [
    "log_file = datetime.now().strftime(\"xgboost_tune_log_%Y-%m-%d_%H-%M-%S.log\")\n",
    "logger = setup_logger(log_file=log_file)\n"
   ]
  },
  {
   "cell_type": "code",
   "execution_count": 3,
   "metadata": {},
   "outputs": [
    {
     "name": "stderr",
     "output_type": "stream",
     "text": [
      "2024-12-22 14:48:46,000 - logger - INFO - features shape: (1200000, 19)\n"
     ]
    }
   ],
   "source": [
    "prep_data_path = PREP_DATA_PATH / \"prepared_data.feather\"\n",
    "target_column = \"Premium Amount\"\n",
    "\n",
    "df = pd.read_feather(prep_data_path)\n",
    "\n",
    "feat_cols = get_feat_columns()\n",
    "feat_names = feat_cols.names\n",
    "\n",
    "features = df.drop(columns=[target_column])\n",
    "features = features[feat_names]\n",
    "logger.info(f\"features shape: {features.shape}\")\n",
    "\n",
    "labels = df[target_column]\n",
    "\n",
    "X_train = features[feat_names]\n",
    "y_train = np.log1p(labels)\n",
    "\n",
    "# Fit the pipeline\n",
    "data_pipeline = make_xgboost_pipeline()\n",
    "X_train = data_pipeline.fit_transform(X_train)\n",
    "for col in feat_cols.categorical:\n",
    "    X_train[col] = X_train[col].astype(\"category\")\n",
    "\n",
    "dtrain = xgb.DMatrix(\n",
    "    X_train,\n",
    "    label=y_train,\n",
    "    enable_categorical=True,\n",
    "    feature_names=X_train.columns.to_list(),\n",
    ")\n"
   ]
  },
  {
   "cell_type": "code",
   "execution_count": null,
   "metadata": {},
   "outputs": [
    {
     "name": "stderr",
     "output_type": "stream",
     "text": [
      "[I 2024-12-22 14:48:46,620] A new study created in memory with name: no-name-7561ccb7-7248-4020-a3a4-96b3cae59024\n",
      "2024-12-22 14:48:49,495 - logger - INFO - Out-of-fold RMSLE: 1.0471\n",
      "[I 2024-12-22 14:48:49,496] Trial 0 finished with value: 1.0471109441663062 and parameters: {'lambda': 81.16262258099887, 'max_depth': 10, 'min_child_weight': 8, 'eta': 0.20986584841970365}. Best is trial 0 with value: 1.0471109441663062.\n",
      "2024-12-22 14:48:50,876 - logger - INFO - Out-of-fold RMSLE: 1.0555\n",
      "[I 2024-12-22 14:48:50,876] Trial 1 finished with value: 1.0554830607889316 and parameters: {'lambda': 39.64354168406294, 'max_depth': 3, 'min_child_weight': 2, 'eta': 0.23661761457749353}. Best is trial 0 with value: 1.0471109441663062.\n",
      "2024-12-22 14:48:52,799 - logger - INFO - Out-of-fold RMSLE: 1.0464\n",
      "[I 2024-12-22 14:48:52,800] Trial 2 finished with value: 1.0463841771115396 and parameters: {'lambda': 124.21185223120968, 'max_depth': 8, 'min_child_weight': 2, 'eta': 0.24699098521619944}. Best is trial 2 with value: 1.0463841771115396.\n",
      "2024-12-22 14:48:54,171 - logger - INFO - Out-of-fold RMSLE: 1.0578\n",
      "[I 2024-12-22 14:48:54,171] Trial 3 finished with value: 1.0578319410344572 and parameters: {'lambda': 168.16410175208014, 'max_depth': 3, 'min_child_weight': 3, 'eta': 0.16834045098534337}. Best is trial 2 with value: 1.0463841771115396.\n",
      "2024-12-22 14:48:55,780 - logger - INFO - Out-of-fold RMSLE: 1.0474\n",
      "[I 2024-12-22 14:48:55,781] Trial 4 finished with value: 1.047368670415476 and parameters: {'lambda': 67.80602616231216, 'max_depth': 6, 'min_child_weight': 5, 'eta': 0.17912291401980418}. Best is trial 2 with value: 1.0463841771115396.\n",
      "[I 2024-12-22 14:48:56,842] Trial 5 pruned. Trial was pruned at iteration 0.\n",
      "2024-12-22 14:48:59,106 - logger - INFO - Out-of-fold RMSLE: 1.0465\n",
      "[I 2024-12-22 14:48:59,106] Trial 6 finished with value: 1.0465488322266128 and parameters: {'lambda': 96.65329700123682, 'max_depth': 9, 'min_child_weight': 3, 'eta': 0.20142344384136115}. Best is trial 2 with value: 1.0463841771115396.\n",
      "[I 2024-12-22 14:49:00,272] Trial 7 pruned. Trial was pruned at iteration 0.\n",
      "[I 2024-12-22 14:49:02,945] Trial 8 pruned. Trial was pruned at iteration 17.\n",
      "[I 2024-12-22 14:49:03,976] Trial 9 pruned. Trial was pruned at iteration 0.\n",
      "2024-12-22 14:49:05,670 - logger - INFO - Out-of-fold RMSLE: 1.0464\n",
      "[I 2024-12-22 14:49:05,671] Trial 10 finished with value: 1.0463899771493939 and parameters: {'lambda': 191.25801334957043, 'max_depth': 7, 'min_child_weight': 6, 'eta': 0.2455091613483603}. Best is trial 2 with value: 1.0463841771115396.\n",
      "2024-12-22 14:49:07,378 - logger - INFO - Out-of-fold RMSLE: 1.0465\n",
      "[I 2024-12-22 14:49:07,379] Trial 11 finished with value: 1.046505968860356 and parameters: {'lambda': 193.28052065242662, 'max_depth': 7, 'min_child_weight': 6, 'eta': 0.24866161322633198}. Best is trial 2 with value: 1.0463841771115396.\n",
      "[I 2024-12-22 14:49:08,524] Trial 12 pruned. Trial was pruned at iteration 3.\n",
      "[I 2024-12-22 14:49:09,612] Trial 13 pruned. Trial was pruned at iteration 2.\n",
      "2024-12-22 14:49:11,523 - logger - INFO - Out-of-fold RMSLE: 1.0463\n",
      "[I 2024-12-22 14:49:11,523] Trial 14 finished with value: 1.0463191654531865 and parameters: {'lambda': 152.3558802567305, 'max_depth': 8, 'min_child_weight': 2, 'eta': 0.22403445158956123}. Best is trial 14 with value: 1.0463191654531865.\n",
      "2024-12-22 14:49:13,451 - logger - INFO - Out-of-fold RMSLE: 1.0463\n",
      "[I 2024-12-22 14:49:13,452] Trial 15 finished with value: 1.0463212630026388 and parameters: {'lambda': 143.6425794504774, 'max_depth': 8, 'min_child_weight': 2, 'eta': 0.22431474393513626}. Best is trial 14 with value: 1.0463191654531865.\n",
      "[I 2024-12-22 14:49:14,526] Trial 16 pruned. Trial was pruned at iteration 0.\n",
      "[I 2024-12-22 14:49:15,602] Trial 17 pruned. Trial was pruned at iteration 0.\n",
      "2024-12-22 14:49:17,493 - logger - INFO - Out-of-fold RMSLE: 1.0464\n",
      "[I 2024-12-22 14:49:17,494] Trial 18 finished with value: 1.0463763023877224 and parameters: {'lambda': 171.63231336234185, 'max_depth': 8, 'min_child_weight': 4, 'eta': 0.22982609682476288}. Best is trial 14 with value: 1.0463191654531865.\n",
      "[I 2024-12-22 14:49:18,616] Trial 19 pruned. Trial was pruned at iteration 0.\n",
      "[I 2024-12-22 14:49:19,669] Trial 20 pruned. Trial was pruned at iteration 0.\n",
      "2024-12-22 14:49:21,598 - logger - INFO - Out-of-fold RMSLE: 1.0464\n",
      "[I 2024-12-22 14:49:21,599] Trial 21 finished with value: 1.046374781202393 and parameters: {'lambda': 171.71928695484053, 'max_depth': 8, 'min_child_weight': 4, 'eta': 0.2305867345324009}. Best is trial 14 with value: 1.0463191654531865.\n",
      "2024-12-22 14:49:23,653 - logger - INFO - Out-of-fold RMSLE: 1.0464\n",
      "[I 2024-12-22 14:49:23,653] Trial 22 finished with value: 1.0463604017342008 and parameters: {'lambda': 173.2337076183833, 'max_depth': 8, 'min_child_weight': 3, 'eta': 0.23203735844768722}. Best is trial 14 with value: 1.0463191654531865.\n",
      "[I 2024-12-22 14:49:24,697] Trial 23 pruned. Trial was pruned at iteration 0.\n",
      "[I 2024-12-22 14:49:25,799] Trial 24 pruned. Trial was pruned at iteration 0.\n",
      "[I 2024-12-22 14:49:27,019] Trial 25 pruned. Trial was pruned at iteration 2.\n",
      "[I 2024-12-22 14:49:28,101] Trial 26 pruned. Trial was pruned at iteration 0.\n",
      "[I 2024-12-22 14:49:29,263] Trial 27 pruned. Trial was pruned at iteration 0.\n",
      "2024-12-22 14:49:31,179 - logger - INFO - Out-of-fold RMSLE: 1.0463\n",
      "[I 2024-12-22 14:49:31,180] Trial 28 finished with value: 1.046324667676689 and parameters: {'lambda': 183.0336195408902, 'max_depth': 8, 'min_child_weight': 3, 'eta': 0.2381580350748775}. Best is trial 14 with value: 1.0463191654531865.\n",
      "[I 2024-12-22 14:49:33,133] Trial 29 pruned. Trial was pruned at iteration 10.\n",
      "[I 2024-12-22 14:49:34,173] Trial 30 pruned. Trial was pruned at iteration 0.\n",
      "[I 2024-12-22 14:49:35,223] Trial 31 pruned. Trial was pruned at iteration 0.\n",
      "[I 2024-12-22 14:49:37,196] Trial 32 pruned. Trial was pruned at iteration 16.\n",
      "[I 2024-12-22 14:49:38,366] Trial 33 pruned. Trial was pruned at iteration 4.\n",
      "[I 2024-12-22 14:49:39,461] Trial 34 pruned. Trial was pruned at iteration 1.\n",
      "[I 2024-12-22 14:49:40,429] Trial 35 pruned. Trial was pruned at iteration 0.\n",
      "[I 2024-12-22 14:49:42,120] Trial 36 pruned. Trial was pruned at iteration 17.\n",
      "[I 2024-12-22 14:49:43,177] Trial 37 pruned. Trial was pruned at iteration 0.\n",
      "[I 2024-12-22 14:49:44,220] Trial 38 pruned. Trial was pruned at iteration 0.\n",
      "2024-12-22 14:49:46,085 - logger - INFO - Out-of-fold RMSLE: 1.0464\n",
      "[I 2024-12-22 14:49:46,086] Trial 39 finished with value: 1.0463795917722019 and parameters: {'lambda': 132.94685447212055, 'max_depth': 8, 'min_child_weight': 5, 'eta': 0.23372605732632937}. Best is trial 14 with value: 1.0463191654531865.\n",
      "[I 2024-12-22 14:49:47,273] Trial 40 pruned. Trial was pruned at iteration 0.\n",
      "[I 2024-12-22 14:49:48,244] Trial 41 pruned. Trial was pruned at iteration 0.\n",
      "[I 2024-12-22 14:49:49,954] Trial 42 pruned. Trial was pruned at iteration 13.\n",
      "[I 2024-12-22 14:49:51,404] Trial 43 pruned. Trial was pruned at iteration 12.\n",
      "[I 2024-12-22 14:49:52,406] Trial 44 pruned. Trial was pruned at iteration 0.\n",
      "[I 2024-12-22 14:49:53,451] Trial 45 pruned. Trial was pruned at iteration 0.\n",
      "[I 2024-12-22 14:49:54,497] Trial 46 pruned. Trial was pruned at iteration 0.\n",
      "[I 2024-12-22 14:49:56,025] Trial 47 pruned. Trial was pruned at iteration 12.\n",
      "[I 2024-12-22 14:49:56,978] Trial 48 pruned. Trial was pruned at iteration 0.\n",
      "[I 2024-12-22 14:49:57,923] Trial 49 pruned. Trial was pruned at iteration 0.\n",
      "2024-12-22 14:49:57,959 - logger - INFO - Number of finished trials: 50\n",
      "2024-12-22 14:49:57,960 - logger - INFO - Best trial:\n",
      "2024-12-22 14:49:57,960 - logger - INFO -   Value: 1.0463191654531865\n",
      "2024-12-22 14:49:57,960 - logger - INFO -   Params: \n"
     ]
    },
    {
     "name": "stdout",
     "output_type": "stream",
     "text": [
      "    lambda: 152.3558802567305\n",
      "    max_depth: 8\n",
      "    min_child_weight: 2\n",
      "    eta: 0.22403445158956123\n"
     ]
    }
   ],
   "source": [
    "base_param = {\n",
    "    \"device\": \"cuda\",\n",
    "    \"verbosity\": 0,\n",
    "    \"objective\": \"reg:squarederror\",\n",
    "    \"random_state\": 42,\n",
    "    \"eval_metric\": \"rmse\",\n",
    "    # use exact for small dataset.\n",
    "    \"tree_method\": \"auto\",\n",
    "}\n",
    "\n",
    "\n",
    "def objective(trial):\n",
    "    param = copy.deepcopy(base_param)\n",
    "    param.update(\n",
    "        {\n",
    "            # # defines booster, gblinear for linear functions.\n",
    "            # \"booster\": trial.suggest_categorical(\"booster\", [\"gbtree\", \"dart\"]),\n",
    "            \"booster\": \"gbtree\",\n",
    "            # L2 regularization weight.\n",
    "            \"lambda\": trial.suggest_float(\"lambda\", 10, 200),\n",
    "            # L1 regularization weight.\n",
    "            # \"alpha\": trial.suggest_float(\"alpha\", 1e-3, 0.2, log=True),\n",
    "            \"alpha\": 0.1,\n",
    "            # sampling ratio for training data.\n",
    "            # \"subsample\": trial.suggest_float(\"subsample\", 0.2, 1.0),\n",
    "            # # sampling according to each tree.\n",
    "            # \"colsample_bytree\": trial.suggest_float(\"colsample_bytree\", 0.2, 1.0),\n",
    "        }\n",
    "    )\n",
    "\n",
    "    if param[\"booster\"] in [\"gbtree\", \"dart\"]:\n",
    "        # maximum depth of the tree, signifies complexity of the tree.\n",
    "        param[\"max_depth\"] = trial.suggest_int(\"max_depth\", 2, 10, step=1)\n",
    "        # minimum child weight, larger the term more conservative the tree.\n",
    "        param[\"min_child_weight\"] = trial.suggest_int(\"min_child_weight\", 2, 10)\n",
    "        param[\"eta\"] = trial.suggest_float(\"eta\", 0.15, 0.25)\n",
    "        # defines how selective algorithm is.\n",
    "        param[\"gamma\"] = 3e-6\n",
    "        # param[\"grow_policy\"] = trial.suggest_categorical(\"grow_policy\", [\"depthwise\", \"lossguide\"])\n",
    "        param[\"grow_policy\"] = \"depthwise\"\n",
    "\n",
    "    # if param[\"booster\"] == \"dart\":\n",
    "    #     param[\"sample_type\"] = trial.suggest_categorical(\"sample_type\", [\"uniform\", \"weighted\"])\n",
    "    #     param[\"normalize_type\"] = trial.suggest_categorical(\n",
    "    #         \"normalize_type\", [\"tree\", \"forest\"]\n",
    "    #     )\n",
    "    #     param[\"rate_drop\"] = trial.suggest_float(\"rate_drop\", 1e-8, 1.0, log=True)\n",
    "    #     param[\"skip_drop\"] = trial.suggest_float(\"skip_drop\", 1e-8, 1.0, log=True)\n",
    "\n",
    "    # num_boost_round = trial.suggest_int(\"num_boost_round\", 10, 40)\n",
    "    num_boost_round = 20\n",
    "\n",
    "    pruning_callback = optuna.integration.XGBoostPruningCallback(trial, \"test-rmse\")\n",
    "    history = xgb.cv(param, dtrain, num_boost_round=num_boost_round, callbacks=[pruning_callback])\n",
    "    mean_rmse = history[\"test-rmse-mean\"].values[-1]\n",
    "\n",
    "    logger.info(f\"Out-of-fold RMSLE: {mean_rmse:.4f}\")\n",
    "    return mean_rmse\n",
    "\n",
    "\n",
    "study = optuna.create_study(\n",
    "    direction=\"minimize\",\n",
    "    sampler=optuna.samplers.TPESampler(seed=42),\n",
    "    # pruner=optuna.pruners.MedianPruner(),\n",
    ")\n",
    "study.optimize(objective, n_trials=50)\n",
    "\n",
    "\n",
    "logger.info(f\"Number of finished trials: {len(study.trials)}\")\n",
    "logger.info(\"Best trial:\")\n",
    "trial = study.best_trial\n",
    "\n",
    "logger.info(\"  Value: {}\".format(trial.value))\n",
    "logger.info(\"  Params: \")\n",
    "for key, value in trial.params.items():\n",
    "    print(\"    {}: {}\".format(key, value))\n",
    "    base_param[key] = value"
   ]
  },
  {
   "cell_type": "code",
   "execution_count": 13,
   "metadata": {},
   "outputs": [
    {
     "name": "stdout",
     "output_type": "stream",
     "text": [
      "    lambda: 152.3558802567305\n",
      "    max_depth: 8\n",
      "    min_child_weight: 2\n",
      "    eta: 0.22403445158956123\n"
     ]
    }
   ],
   "source": [
    "for key, value in trial.params.items():\n",
    "    print(\"    {}: {}\".format(key, value))\n",
    "    base_param[key] = value"
   ]
  },
  {
   "cell_type": "code",
   "execution_count": 11,
   "metadata": {},
   "outputs": [],
   "source": [
    "from optuna.visualization import plot_contour\n",
    "from optuna.visualization import plot_edf\n",
    "from optuna.visualization import plot_intermediate_values\n",
    "from optuna.visualization import plot_optimization_history\n",
    "from optuna.visualization import plot_parallel_coordinate\n",
    "from optuna.visualization import plot_param_importances\n",
    "from optuna.visualization import plot_rank\n",
    "from optuna.visualization import plot_slice\n",
    "from optuna.visualization import plot_timeline"
   ]
  },
  {
   "cell_type": "code",
   "execution_count": 12,
   "metadata": {},
   "outputs": [
    {
     "data": {
      "application/vnd.plotly.v1+json": {
       "config": {
        "plotlyServerURL": "https://plot.ly"
       },
       "data": [
        {
         "type": "scatter",
         "xaxis": "x",
         "yaxis": "y"
        },
        {
         "colorbar": {
          "title": {
           "text": "Objective Value"
          }
         },
         "colorscale": [
          [
           0,
           "rgb(247,251,255)"
          ],
          [
           0.125,
           "rgb(222,235,247)"
          ],
          [
           0.25,
           "rgb(198,219,239)"
          ],
          [
           0.375,
           "rgb(158,202,225)"
          ],
          [
           0.5,
           "rgb(107,174,214)"
          ],
          [
           0.625,
           "rgb(66,146,198)"
          ],
          [
           0.75,
           "rgb(33,113,181)"
          ],
          [
           0.875,
           "rgb(8,81,156)"
          ],
          [
           1,
           "rgb(8,48,107)"
          ]
         ],
         "connectgaps": true,
         "contours": {
          "coloring": "heatmap"
         },
         "hoverinfo": "none",
         "line": {
          "smoothing": 1.3
         },
         "reversescale": true,
         "showscale": true,
         "type": "contour",
         "x": [
          0.16432439287329392,
          0.16834045098534337,
          0.17912291401980418,
          0.20142344384136115,
          0.20986584841970365,
          0.22403445158956123,
          0.22431474393513626,
          0.22982609682476288,
          0.2305867345324009,
          0.23203735844768722,
          0.23372605732632937,
          0.23661761457749353,
          0.2381580350748775,
          0.2455091613483603,
          0.24699098521619944,
          0.24866161322633198,
          0.2526776713383814
         ],
         "xaxis": "x5",
         "y": [
          31.961692735644753,
          39.64354168406294,
          67.80602616231216,
          81.16262258099887,
          96.65329700123682,
          124.21185223120968,
          132.94685447212055,
          143.6425794504774,
          152.3558802567305,
          168.16410175208014,
          171.63231336234185,
          171.71928695484053,
          173.2337076183833,
          183.0336195408902,
          191.25801334957043,
          193.28052065242662,
          200.9623696008448
         ],
         "yaxis": "y5",
         "z": [
          [
           null,
           null,
           null,
           null,
           null,
           null,
           null,
           null,
           null,
           null,
           null,
           null,
           null,
           null,
           null,
           null,
           null
          ],
          [
           null,
           null,
           null,
           null,
           null,
           null,
           null,
           null,
           null,
           null,
           null,
           1.0554830607889316,
           null,
           null,
           null,
           null,
           null
          ],
          [
           null,
           null,
           1.047368670415476,
           null,
           null,
           null,
           null,
           null,
           null,
           null,
           null,
           null,
           null,
           null,
           null,
           null,
           null
          ],
          [
           null,
           null,
           null,
           null,
           1.0471109441663062,
           null,
           null,
           null,
           null,
           null,
           null,
           null,
           null,
           null,
           null,
           null,
           null
          ],
          [
           null,
           null,
           null,
           1.0465488322266128,
           null,
           null,
           null,
           null,
           null,
           null,
           null,
           null,
           null,
           null,
           null,
           null,
           null
          ],
          [
           null,
           null,
           null,
           null,
           null,
           null,
           null,
           null,
           null,
           null,
           null,
           null,
           null,
           null,
           1.0463841771115396,
           null,
           null
          ],
          [
           null,
           null,
           null,
           null,
           null,
           null,
           null,
           null,
           null,
           null,
           1.0463795917722019,
           null,
           null,
           null,
           null,
           null,
           null
          ],
          [
           null,
           null,
           null,
           null,
           null,
           null,
           1.0463212630026388,
           null,
           null,
           null,
           null,
           null,
           null,
           null,
           null,
           null,
           null
          ],
          [
           null,
           null,
           null,
           null,
           null,
           1.0463191654531865,
           null,
           null,
           null,
           null,
           null,
           null,
           null,
           null,
           null,
           null,
           null
          ],
          [
           null,
           1.0578319410344572,
           null,
           null,
           null,
           null,
           null,
           null,
           null,
           null,
           null,
           null,
           null,
           null,
           null,
           null,
           null
          ],
          [
           null,
           null,
           null,
           null,
           null,
           null,
           null,
           1.0463763023877224,
           null,
           null,
           null,
           null,
           null,
           null,
           null,
           null,
           null
          ],
          [
           null,
           null,
           null,
           null,
           null,
           null,
           null,
           null,
           1.046374781202393,
           null,
           null,
           null,
           null,
           null,
           null,
           null,
           null
          ],
          [
           null,
           null,
           null,
           null,
           null,
           null,
           null,
           null,
           null,
           1.0463604017342008,
           null,
           null,
           null,
           null,
           null,
           null,
           null
          ],
          [
           null,
           null,
           null,
           null,
           null,
           null,
           null,
           null,
           null,
           null,
           null,
           null,
           1.046324667676689,
           null,
           null,
           null,
           null
          ],
          [
           null,
           null,
           null,
           null,
           null,
           null,
           null,
           null,
           null,
           null,
           null,
           null,
           null,
           1.0463899771493939,
           null,
           null,
           null
          ],
          [
           null,
           null,
           null,
           null,
           null,
           null,
           null,
           null,
           null,
           null,
           null,
           null,
           null,
           null,
           null,
           1.046505968860356,
           null
          ],
          [
           null,
           null,
           null,
           null,
           null,
           null,
           null,
           null,
           null,
           null,
           null,
           null,
           null,
           null,
           null,
           null,
           null
          ]
         ]
        },
        {
         "marker": {
          "color": "black",
          "line": {
           "color": "Gray",
           "width": 2
          }
         },
         "mode": "markers",
         "name": "Feasible Trial",
         "showlegend": false,
         "type": "scatter",
         "x": [
          0.20986584841970365,
          0.23661761457749353,
          0.24699098521619944,
          0.16834045098534337,
          0.17912291401980418,
          0.20142344384136115,
          0.2455091613483603,
          0.24866161322633198,
          0.22403445158956123,
          0.22431474393513626,
          0.22982609682476288,
          0.2305867345324009,
          0.23203735844768722,
          0.2381580350748775,
          0.23372605732632937
         ],
         "xaxis": "x5",
         "y": [
          81.16262258099887,
          39.64354168406294,
          124.21185223120968,
          168.16410175208014,
          67.80602616231216,
          96.65329700123682,
          191.25801334957043,
          193.28052065242662,
          152.3558802567305,
          143.6425794504774,
          171.63231336234185,
          171.71928695484053,
          173.2337076183833,
          183.0336195408902,
          132.94685447212055
         ],
         "yaxis": "y5"
        },
        {
         "colorbar": {
          "title": {
           "text": "Objective Value"
          }
         },
         "colorscale": [
          [
           0,
           "rgb(247,251,255)"
          ],
          [
           0.125,
           "rgb(222,235,247)"
          ],
          [
           0.25,
           "rgb(198,219,239)"
          ],
          [
           0.375,
           "rgb(158,202,225)"
          ],
          [
           0.5,
           "rgb(107,174,214)"
          ],
          [
           0.625,
           "rgb(66,146,198)"
          ],
          [
           0.75,
           "rgb(33,113,181)"
          ],
          [
           0.875,
           "rgb(8,81,156)"
          ],
          [
           1,
           "rgb(8,48,107)"
          ]
         ],
         "connectgaps": true,
         "contours": {
          "coloring": "heatmap"
         },
         "hoverinfo": "none",
         "line": {
          "smoothing": 1.3
         },
         "reversescale": true,
         "showscale": false,
         "type": "contour",
         "x": [
          0.16432439287329392,
          0.16834045098534337,
          0.17912291401980418,
          0.20142344384136115,
          0.20986584841970365,
          0.22403445158956123,
          0.22431474393513626,
          0.22982609682476288,
          0.2305867345324009,
          0.23203735844768722,
          0.23372605732632937,
          0.23661761457749353,
          0.2381580350748775,
          0.2455091613483603,
          0.24699098521619944,
          0.24866161322633198,
          0.2526776713383814
         ],
         "xaxis": "x9",
         "y": [
          2.65,
          3,
          6,
          7,
          8,
          9,
          10,
          10.35
         ],
         "yaxis": "y9",
         "z": [
          [
           null,
           null,
           null,
           null,
           null,
           null,
           null,
           null,
           null,
           null,
           null,
           null,
           null,
           null,
           null,
           null,
           null
          ],
          [
           null,
           1.0578319410344572,
           null,
           null,
           null,
           null,
           null,
           null,
           null,
           null,
           null,
           1.0554830607889316,
           null,
           null,
           null,
           null,
           null
          ],
          [
           null,
           null,
           1.047368670415476,
           null,
           null,
           null,
           null,
           null,
           null,
           null,
           null,
           null,
           null,
           null,
           null,
           null,
           null
          ],
          [
           null,
           null,
           null,
           null,
           null,
           null,
           null,
           null,
           null,
           null,
           null,
           null,
           null,
           1.0463899771493939,
           null,
           1.046505968860356,
           null
          ],
          [
           null,
           null,
           null,
           null,
           null,
           1.0463191654531865,
           1.0463212630026388,
           1.0463763023877224,
           1.046374781202393,
           1.0463604017342008,
           1.0463795917722019,
           null,
           1.046324667676689,
           null,
           1.0463841771115396,
           null,
           null
          ],
          [
           null,
           null,
           null,
           1.0465488322266128,
           null,
           null,
           null,
           null,
           null,
           null,
           null,
           null,
           null,
           null,
           null,
           null,
           null
          ],
          [
           null,
           null,
           null,
           null,
           1.0471109441663062,
           null,
           null,
           null,
           null,
           null,
           null,
           null,
           null,
           null,
           null,
           null,
           null
          ],
          [
           null,
           null,
           null,
           null,
           null,
           null,
           null,
           null,
           null,
           null,
           null,
           null,
           null,
           null,
           null,
           null,
           null
          ]
         ]
        },
        {
         "marker": {
          "color": "black",
          "line": {
           "color": "Gray",
           "width": 2
          }
         },
         "mode": "markers",
         "name": "Feasible Trial",
         "showlegend": false,
         "type": "scatter",
         "x": [
          0.20986584841970365,
          0.23661761457749353,
          0.24699098521619944,
          0.16834045098534337,
          0.17912291401980418,
          0.20142344384136115,
          0.2455091613483603,
          0.24866161322633198,
          0.22403445158956123,
          0.22431474393513626,
          0.22982609682476288,
          0.2305867345324009,
          0.23203735844768722,
          0.2381580350748775,
          0.23372605732632937
         ],
         "xaxis": "x9",
         "y": [
          10,
          3,
          8,
          3,
          6,
          9,
          7,
          7,
          8,
          8,
          8,
          8,
          8,
          8,
          8
         ],
         "yaxis": "y9"
        },
        {
         "colorbar": {
          "title": {
           "text": "Objective Value"
          }
         },
         "colorscale": [
          [
           0,
           "rgb(247,251,255)"
          ],
          [
           0.125,
           "rgb(222,235,247)"
          ],
          [
           0.25,
           "rgb(198,219,239)"
          ],
          [
           0.375,
           "rgb(158,202,225)"
          ],
          [
           0.5,
           "rgb(107,174,214)"
          ],
          [
           0.625,
           "rgb(66,146,198)"
          ],
          [
           0.75,
           "rgb(33,113,181)"
          ],
          [
           0.875,
           "rgb(8,81,156)"
          ],
          [
           1,
           "rgb(8,48,107)"
          ]
         ],
         "connectgaps": true,
         "contours": {
          "coloring": "heatmap"
         },
         "hoverinfo": "none",
         "line": {
          "smoothing": 1.3
         },
         "reversescale": true,
         "showscale": false,
         "type": "contour",
         "x": [
          0.16432439287329392,
          0.16834045098534337,
          0.17912291401980418,
          0.20142344384136115,
          0.20986584841970365,
          0.22403445158956123,
          0.22431474393513626,
          0.22982609682476288,
          0.2305867345324009,
          0.23203735844768722,
          0.23372605732632937,
          0.23661761457749353,
          0.2381580350748775,
          0.2455091613483603,
          0.24699098521619944,
          0.24866161322633198,
          0.2526776713383814
         ],
         "xaxis": "x13",
         "y": [
          1.7,
          2,
          3,
          4,
          5,
          6,
          8,
          8.3
         ],
         "yaxis": "y13",
         "z": [
          [
           null,
           null,
           null,
           null,
           null,
           null,
           null,
           null,
           null,
           null,
           null,
           null,
           null,
           null,
           null,
           null,
           null
          ],
          [
           null,
           null,
           null,
           null,
           null,
           1.0463191654531865,
           1.0463212630026388,
           null,
           null,
           null,
           null,
           1.0554830607889316,
           null,
           null,
           1.0463841771115396,
           null,
           null
          ],
          [
           null,
           1.0578319410344572,
           null,
           1.0465488322266128,
           null,
           null,
           null,
           null,
           null,
           1.0463604017342008,
           null,
           null,
           1.046324667676689,
           null,
           null,
           null,
           null
          ],
          [
           null,
           null,
           null,
           null,
           null,
           null,
           null,
           1.0463763023877224,
           1.046374781202393,
           null,
           null,
           null,
           null,
           null,
           null,
           null,
           null
          ],
          [
           null,
           null,
           1.047368670415476,
           null,
           null,
           null,
           null,
           null,
           null,
           null,
           1.0463795917722019,
           null,
           null,
           null,
           null,
           null,
           null
          ],
          [
           null,
           null,
           null,
           null,
           null,
           null,
           null,
           null,
           null,
           null,
           null,
           null,
           null,
           1.0463899771493939,
           null,
           1.046505968860356,
           null
          ],
          [
           null,
           null,
           null,
           null,
           1.0471109441663062,
           null,
           null,
           null,
           null,
           null,
           null,
           null,
           null,
           null,
           null,
           null,
           null
          ],
          [
           null,
           null,
           null,
           null,
           null,
           null,
           null,
           null,
           null,
           null,
           null,
           null,
           null,
           null,
           null,
           null,
           null
          ]
         ]
        },
        {
         "marker": {
          "color": "black",
          "line": {
           "color": "Gray",
           "width": 2
          }
         },
         "mode": "markers",
         "name": "Feasible Trial",
         "showlegend": false,
         "type": "scatter",
         "x": [
          0.20986584841970365,
          0.23661761457749353,
          0.24699098521619944,
          0.16834045098534337,
          0.17912291401980418,
          0.20142344384136115,
          0.2455091613483603,
          0.24866161322633198,
          0.22403445158956123,
          0.22431474393513626,
          0.22982609682476288,
          0.2305867345324009,
          0.23203735844768722,
          0.2381580350748775,
          0.23372605732632937
         ],
         "xaxis": "x13",
         "y": [
          8,
          2,
          2,
          3,
          5,
          3,
          6,
          6,
          2,
          2,
          4,
          4,
          3,
          3,
          5
         ],
         "yaxis": "y13"
        },
        {
         "colorbar": {
          "title": {
           "text": "Objective Value"
          }
         },
         "colorscale": [
          [
           0,
           "rgb(247,251,255)"
          ],
          [
           0.125,
           "rgb(222,235,247)"
          ],
          [
           0.25,
           "rgb(198,219,239)"
          ],
          [
           0.375,
           "rgb(158,202,225)"
          ],
          [
           0.5,
           "rgb(107,174,214)"
          ],
          [
           0.625,
           "rgb(66,146,198)"
          ],
          [
           0.75,
           "rgb(33,113,181)"
          ],
          [
           0.875,
           "rgb(8,81,156)"
          ],
          [
           1,
           "rgb(8,48,107)"
          ]
         ],
         "connectgaps": true,
         "contours": {
          "coloring": "heatmap"
         },
         "hoverinfo": "none",
         "line": {
          "smoothing": 1.3
         },
         "reversescale": true,
         "showscale": false,
         "type": "contour",
         "x": [
          31.961692735644753,
          39.64354168406294,
          67.80602616231216,
          81.16262258099887,
          96.65329700123682,
          124.21185223120968,
          132.94685447212055,
          143.6425794504774,
          152.3558802567305,
          168.16410175208014,
          171.63231336234185,
          171.71928695484053,
          173.2337076183833,
          183.0336195408902,
          191.25801334957043,
          193.28052065242662,
          200.9623696008448
         ],
         "xaxis": "x2",
         "y": [
          0.16432439287329392,
          0.16834045098534337,
          0.17912291401980418,
          0.20142344384136115,
          0.20986584841970365,
          0.22403445158956123,
          0.22431474393513626,
          0.22982609682476288,
          0.2305867345324009,
          0.23203735844768722,
          0.23372605732632937,
          0.23661761457749353,
          0.2381580350748775,
          0.2455091613483603,
          0.24699098521619944,
          0.24866161322633198,
          0.2526776713383814
         ],
         "yaxis": "y2",
         "z": [
          [
           null,
           null,
           null,
           null,
           null,
           null,
           null,
           null,
           null,
           null,
           null,
           null,
           null,
           null,
           null,
           null,
           null
          ],
          [
           null,
           null,
           null,
           null,
           null,
           null,
           null,
           null,
           null,
           1.0578319410344572,
           null,
           null,
           null,
           null,
           null,
           null,
           null
          ],
          [
           null,
           null,
           1.047368670415476,
           null,
           null,
           null,
           null,
           null,
           null,
           null,
           null,
           null,
           null,
           null,
           null,
           null,
           null
          ],
          [
           null,
           null,
           null,
           null,
           1.0465488322266128,
           null,
           null,
           null,
           null,
           null,
           null,
           null,
           null,
           null,
           null,
           null,
           null
          ],
          [
           null,
           null,
           null,
           1.0471109441663062,
           null,
           null,
           null,
           null,
           null,
           null,
           null,
           null,
           null,
           null,
           null,
           null,
           null
          ],
          [
           null,
           null,
           null,
           null,
           null,
           null,
           null,
           null,
           1.0463191654531865,
           null,
           null,
           null,
           null,
           null,
           null,
           null,
           null
          ],
          [
           null,
           null,
           null,
           null,
           null,
           null,
           null,
           1.0463212630026388,
           null,
           null,
           null,
           null,
           null,
           null,
           null,
           null,
           null
          ],
          [
           null,
           null,
           null,
           null,
           null,
           null,
           null,
           null,
           null,
           null,
           1.0463763023877224,
           null,
           null,
           null,
           null,
           null,
           null
          ],
          [
           null,
           null,
           null,
           null,
           null,
           null,
           null,
           null,
           null,
           null,
           null,
           1.046374781202393,
           null,
           null,
           null,
           null,
           null
          ],
          [
           null,
           null,
           null,
           null,
           null,
           null,
           null,
           null,
           null,
           null,
           null,
           null,
           1.0463604017342008,
           null,
           null,
           null,
           null
          ],
          [
           null,
           null,
           null,
           null,
           null,
           null,
           1.0463795917722019,
           null,
           null,
           null,
           null,
           null,
           null,
           null,
           null,
           null,
           null
          ],
          [
           null,
           1.0554830607889316,
           null,
           null,
           null,
           null,
           null,
           null,
           null,
           null,
           null,
           null,
           null,
           null,
           null,
           null,
           null
          ],
          [
           null,
           null,
           null,
           null,
           null,
           null,
           null,
           null,
           null,
           null,
           null,
           null,
           null,
           1.046324667676689,
           null,
           null,
           null
          ],
          [
           null,
           null,
           null,
           null,
           null,
           null,
           null,
           null,
           null,
           null,
           null,
           null,
           null,
           null,
           1.0463899771493939,
           null,
           null
          ],
          [
           null,
           null,
           null,
           null,
           null,
           1.0463841771115396,
           null,
           null,
           null,
           null,
           null,
           null,
           null,
           null,
           null,
           null,
           null
          ],
          [
           null,
           null,
           null,
           null,
           null,
           null,
           null,
           null,
           null,
           null,
           null,
           null,
           null,
           null,
           null,
           1.046505968860356,
           null
          ],
          [
           null,
           null,
           null,
           null,
           null,
           null,
           null,
           null,
           null,
           null,
           null,
           null,
           null,
           null,
           null,
           null,
           null
          ]
         ]
        },
        {
         "marker": {
          "color": "black",
          "line": {
           "color": "Gray",
           "width": 2
          }
         },
         "mode": "markers",
         "name": "Feasible Trial",
         "showlegend": false,
         "type": "scatter",
         "x": [
          81.16262258099887,
          39.64354168406294,
          124.21185223120968,
          168.16410175208014,
          67.80602616231216,
          96.65329700123682,
          191.25801334957043,
          193.28052065242662,
          152.3558802567305,
          143.6425794504774,
          171.63231336234185,
          171.71928695484053,
          173.2337076183833,
          183.0336195408902,
          132.94685447212055
         ],
         "xaxis": "x2",
         "y": [
          0.20986584841970365,
          0.23661761457749353,
          0.24699098521619944,
          0.16834045098534337,
          0.17912291401980418,
          0.20142344384136115,
          0.2455091613483603,
          0.24866161322633198,
          0.22403445158956123,
          0.22431474393513626,
          0.22982609682476288,
          0.2305867345324009,
          0.23203735844768722,
          0.2381580350748775,
          0.23372605732632937
         ],
         "yaxis": "y2"
        },
        {
         "type": "scatter",
         "xaxis": "x6",
         "yaxis": "y6"
        },
        {
         "colorbar": {
          "title": {
           "text": "Objective Value"
          }
         },
         "colorscale": [
          [
           0,
           "rgb(247,251,255)"
          ],
          [
           0.125,
           "rgb(222,235,247)"
          ],
          [
           0.25,
           "rgb(198,219,239)"
          ],
          [
           0.375,
           "rgb(158,202,225)"
          ],
          [
           0.5,
           "rgb(107,174,214)"
          ],
          [
           0.625,
           "rgb(66,146,198)"
          ],
          [
           0.75,
           "rgb(33,113,181)"
          ],
          [
           0.875,
           "rgb(8,81,156)"
          ],
          [
           1,
           "rgb(8,48,107)"
          ]
         ],
         "connectgaps": true,
         "contours": {
          "coloring": "heatmap"
         },
         "hoverinfo": "none",
         "line": {
          "smoothing": 1.3
         },
         "reversescale": true,
         "showscale": false,
         "type": "contour",
         "x": [
          31.961692735644753,
          39.64354168406294,
          67.80602616231216,
          81.16262258099887,
          96.65329700123682,
          124.21185223120968,
          132.94685447212055,
          143.6425794504774,
          152.3558802567305,
          168.16410175208014,
          171.63231336234185,
          171.71928695484053,
          173.2337076183833,
          183.0336195408902,
          191.25801334957043,
          193.28052065242662,
          200.9623696008448
         ],
         "xaxis": "x10",
         "y": [
          2.65,
          3,
          6,
          7,
          8,
          9,
          10,
          10.35
         ],
         "yaxis": "y10",
         "z": [
          [
           null,
           null,
           null,
           null,
           null,
           null,
           null,
           null,
           null,
           null,
           null,
           null,
           null,
           null,
           null,
           null,
           null
          ],
          [
           null,
           1.0554830607889316,
           null,
           null,
           null,
           null,
           null,
           null,
           null,
           1.0578319410344572,
           null,
           null,
           null,
           null,
           null,
           null,
           null
          ],
          [
           null,
           null,
           1.047368670415476,
           null,
           null,
           null,
           null,
           null,
           null,
           null,
           null,
           null,
           null,
           null,
           null,
           null,
           null
          ],
          [
           null,
           null,
           null,
           null,
           null,
           null,
           null,
           null,
           null,
           null,
           null,
           null,
           null,
           null,
           1.0463899771493939,
           1.046505968860356,
           null
          ],
          [
           null,
           null,
           null,
           null,
           null,
           1.0463841771115396,
           1.0463795917722019,
           1.0463212630026388,
           1.0463191654531865,
           null,
           1.0463763023877224,
           1.046374781202393,
           1.0463604017342008,
           1.046324667676689,
           null,
           null,
           null
          ],
          [
           null,
           null,
           null,
           null,
           1.0465488322266128,
           null,
           null,
           null,
           null,
           null,
           null,
           null,
           null,
           null,
           null,
           null,
           null
          ],
          [
           null,
           null,
           null,
           1.0471109441663062,
           null,
           null,
           null,
           null,
           null,
           null,
           null,
           null,
           null,
           null,
           null,
           null,
           null
          ],
          [
           null,
           null,
           null,
           null,
           null,
           null,
           null,
           null,
           null,
           null,
           null,
           null,
           null,
           null,
           null,
           null,
           null
          ]
         ]
        },
        {
         "marker": {
          "color": "black",
          "line": {
           "color": "Gray",
           "width": 2
          }
         },
         "mode": "markers",
         "name": "Feasible Trial",
         "showlegend": false,
         "type": "scatter",
         "x": [
          81.16262258099887,
          39.64354168406294,
          124.21185223120968,
          168.16410175208014,
          67.80602616231216,
          96.65329700123682,
          191.25801334957043,
          193.28052065242662,
          152.3558802567305,
          143.6425794504774,
          171.63231336234185,
          171.71928695484053,
          173.2337076183833,
          183.0336195408902,
          132.94685447212055
         ],
         "xaxis": "x10",
         "y": [
          10,
          3,
          8,
          3,
          6,
          9,
          7,
          7,
          8,
          8,
          8,
          8,
          8,
          8,
          8
         ],
         "yaxis": "y10"
        },
        {
         "colorbar": {
          "title": {
           "text": "Objective Value"
          }
         },
         "colorscale": [
          [
           0,
           "rgb(247,251,255)"
          ],
          [
           0.125,
           "rgb(222,235,247)"
          ],
          [
           0.25,
           "rgb(198,219,239)"
          ],
          [
           0.375,
           "rgb(158,202,225)"
          ],
          [
           0.5,
           "rgb(107,174,214)"
          ],
          [
           0.625,
           "rgb(66,146,198)"
          ],
          [
           0.75,
           "rgb(33,113,181)"
          ],
          [
           0.875,
           "rgb(8,81,156)"
          ],
          [
           1,
           "rgb(8,48,107)"
          ]
         ],
         "connectgaps": true,
         "contours": {
          "coloring": "heatmap"
         },
         "hoverinfo": "none",
         "line": {
          "smoothing": 1.3
         },
         "reversescale": true,
         "showscale": false,
         "type": "contour",
         "x": [
          31.961692735644753,
          39.64354168406294,
          67.80602616231216,
          81.16262258099887,
          96.65329700123682,
          124.21185223120968,
          132.94685447212055,
          143.6425794504774,
          152.3558802567305,
          168.16410175208014,
          171.63231336234185,
          171.71928695484053,
          173.2337076183833,
          183.0336195408902,
          191.25801334957043,
          193.28052065242662,
          200.9623696008448
         ],
         "xaxis": "x14",
         "y": [
          1.7,
          2,
          3,
          4,
          5,
          6,
          8,
          8.3
         ],
         "yaxis": "y14",
         "z": [
          [
           null,
           null,
           null,
           null,
           null,
           null,
           null,
           null,
           null,
           null,
           null,
           null,
           null,
           null,
           null,
           null,
           null
          ],
          [
           null,
           1.0554830607889316,
           null,
           null,
           null,
           1.0463841771115396,
           null,
           1.0463212630026388,
           1.0463191654531865,
           null,
           null,
           null,
           null,
           null,
           null,
           null,
           null
          ],
          [
           null,
           null,
           null,
           null,
           1.0465488322266128,
           null,
           null,
           null,
           null,
           1.0578319410344572,
           null,
           null,
           1.0463604017342008,
           1.046324667676689,
           null,
           null,
           null
          ],
          [
           null,
           null,
           null,
           null,
           null,
           null,
           null,
           null,
           null,
           null,
           1.0463763023877224,
           1.046374781202393,
           null,
           null,
           null,
           null,
           null
          ],
          [
           null,
           null,
           1.047368670415476,
           null,
           null,
           null,
           1.0463795917722019,
           null,
           null,
           null,
           null,
           null,
           null,
           null,
           null,
           null,
           null
          ],
          [
           null,
           null,
           null,
           null,
           null,
           null,
           null,
           null,
           null,
           null,
           null,
           null,
           null,
           null,
           1.0463899771493939,
           1.046505968860356,
           null
          ],
          [
           null,
           null,
           null,
           1.0471109441663062,
           null,
           null,
           null,
           null,
           null,
           null,
           null,
           null,
           null,
           null,
           null,
           null,
           null
          ],
          [
           null,
           null,
           null,
           null,
           null,
           null,
           null,
           null,
           null,
           null,
           null,
           null,
           null,
           null,
           null,
           null,
           null
          ]
         ]
        },
        {
         "marker": {
          "color": "black",
          "line": {
           "color": "Gray",
           "width": 2
          }
         },
         "mode": "markers",
         "name": "Feasible Trial",
         "showlegend": false,
         "type": "scatter",
         "x": [
          81.16262258099887,
          39.64354168406294,
          124.21185223120968,
          168.16410175208014,
          67.80602616231216,
          96.65329700123682,
          191.25801334957043,
          193.28052065242662,
          152.3558802567305,
          143.6425794504774,
          171.63231336234185,
          171.71928695484053,
          173.2337076183833,
          183.0336195408902,
          132.94685447212055
         ],
         "xaxis": "x14",
         "y": [
          8,
          2,
          2,
          3,
          5,
          3,
          6,
          6,
          2,
          2,
          4,
          4,
          3,
          3,
          5
         ],
         "yaxis": "y14"
        },
        {
         "colorbar": {
          "title": {
           "text": "Objective Value"
          }
         },
         "colorscale": [
          [
           0,
           "rgb(247,251,255)"
          ],
          [
           0.125,
           "rgb(222,235,247)"
          ],
          [
           0.25,
           "rgb(198,219,239)"
          ],
          [
           0.375,
           "rgb(158,202,225)"
          ],
          [
           0.5,
           "rgb(107,174,214)"
          ],
          [
           0.625,
           "rgb(66,146,198)"
          ],
          [
           0.75,
           "rgb(33,113,181)"
          ],
          [
           0.875,
           "rgb(8,81,156)"
          ],
          [
           1,
           "rgb(8,48,107)"
          ]
         ],
         "connectgaps": true,
         "contours": {
          "coloring": "heatmap"
         },
         "hoverinfo": "none",
         "line": {
          "smoothing": 1.3
         },
         "reversescale": true,
         "showscale": false,
         "type": "contour",
         "x": [
          2.65,
          3,
          6,
          7,
          8,
          9,
          10,
          10.35
         ],
         "xaxis": "x3",
         "y": [
          0.16432439287329392,
          0.16834045098534337,
          0.17912291401980418,
          0.20142344384136115,
          0.20986584841970365,
          0.22403445158956123,
          0.22431474393513626,
          0.22982609682476288,
          0.2305867345324009,
          0.23203735844768722,
          0.23372605732632937,
          0.23661761457749353,
          0.2381580350748775,
          0.2455091613483603,
          0.24699098521619944,
          0.24866161322633198,
          0.2526776713383814
         ],
         "yaxis": "y3",
         "z": [
          [
           null,
           null,
           null,
           null,
           null,
           null,
           null,
           null
          ],
          [
           null,
           1.0578319410344572,
           null,
           null,
           null,
           null,
           null,
           null
          ],
          [
           null,
           null,
           1.047368670415476,
           null,
           null,
           null,
           null,
           null
          ],
          [
           null,
           null,
           null,
           null,
           null,
           1.0465488322266128,
           null,
           null
          ],
          [
           null,
           null,
           null,
           null,
           null,
           null,
           1.0471109441663062,
           null
          ],
          [
           null,
           null,
           null,
           null,
           1.0463191654531865,
           null,
           null,
           null
          ],
          [
           null,
           null,
           null,
           null,
           1.0463212630026388,
           null,
           null,
           null
          ],
          [
           null,
           null,
           null,
           null,
           1.0463763023877224,
           null,
           null,
           null
          ],
          [
           null,
           null,
           null,
           null,
           1.046374781202393,
           null,
           null,
           null
          ],
          [
           null,
           null,
           null,
           null,
           1.0463604017342008,
           null,
           null,
           null
          ],
          [
           null,
           null,
           null,
           null,
           1.0463795917722019,
           null,
           null,
           null
          ],
          [
           null,
           1.0554830607889316,
           null,
           null,
           null,
           null,
           null,
           null
          ],
          [
           null,
           null,
           null,
           null,
           1.046324667676689,
           null,
           null,
           null
          ],
          [
           null,
           null,
           null,
           1.0463899771493939,
           null,
           null,
           null,
           null
          ],
          [
           null,
           null,
           null,
           null,
           1.0463841771115396,
           null,
           null,
           null
          ],
          [
           null,
           null,
           null,
           1.046505968860356,
           null,
           null,
           null,
           null
          ],
          [
           null,
           null,
           null,
           null,
           null,
           null,
           null,
           null
          ]
         ]
        },
        {
         "marker": {
          "color": "black",
          "line": {
           "color": "Gray",
           "width": 2
          }
         },
         "mode": "markers",
         "name": "Feasible Trial",
         "showlegend": false,
         "type": "scatter",
         "x": [
          10,
          3,
          8,
          3,
          6,
          9,
          7,
          7,
          8,
          8,
          8,
          8,
          8,
          8,
          8
         ],
         "xaxis": "x3",
         "y": [
          0.20986584841970365,
          0.23661761457749353,
          0.24699098521619944,
          0.16834045098534337,
          0.17912291401980418,
          0.20142344384136115,
          0.2455091613483603,
          0.24866161322633198,
          0.22403445158956123,
          0.22431474393513626,
          0.22982609682476288,
          0.2305867345324009,
          0.23203735844768722,
          0.2381580350748775,
          0.23372605732632937
         ],
         "yaxis": "y3"
        },
        {
         "colorbar": {
          "title": {
           "text": "Objective Value"
          }
         },
         "colorscale": [
          [
           0,
           "rgb(247,251,255)"
          ],
          [
           0.125,
           "rgb(222,235,247)"
          ],
          [
           0.25,
           "rgb(198,219,239)"
          ],
          [
           0.375,
           "rgb(158,202,225)"
          ],
          [
           0.5,
           "rgb(107,174,214)"
          ],
          [
           0.625,
           "rgb(66,146,198)"
          ],
          [
           0.75,
           "rgb(33,113,181)"
          ],
          [
           0.875,
           "rgb(8,81,156)"
          ],
          [
           1,
           "rgb(8,48,107)"
          ]
         ],
         "connectgaps": true,
         "contours": {
          "coloring": "heatmap"
         },
         "hoverinfo": "none",
         "line": {
          "smoothing": 1.3
         },
         "reversescale": true,
         "showscale": false,
         "type": "contour",
         "x": [
          2.65,
          3,
          6,
          7,
          8,
          9,
          10,
          10.35
         ],
         "xaxis": "x7",
         "y": [
          31.961692735644753,
          39.64354168406294,
          67.80602616231216,
          81.16262258099887,
          96.65329700123682,
          124.21185223120968,
          132.94685447212055,
          143.6425794504774,
          152.3558802567305,
          168.16410175208014,
          171.63231336234185,
          171.71928695484053,
          173.2337076183833,
          183.0336195408902,
          191.25801334957043,
          193.28052065242662,
          200.9623696008448
         ],
         "yaxis": "y7",
         "z": [
          [
           null,
           null,
           null,
           null,
           null,
           null,
           null,
           null
          ],
          [
           null,
           1.0554830607889316,
           null,
           null,
           null,
           null,
           null,
           null
          ],
          [
           null,
           null,
           1.047368670415476,
           null,
           null,
           null,
           null,
           null
          ],
          [
           null,
           null,
           null,
           null,
           null,
           null,
           1.0471109441663062,
           null
          ],
          [
           null,
           null,
           null,
           null,
           null,
           1.0465488322266128,
           null,
           null
          ],
          [
           null,
           null,
           null,
           null,
           1.0463841771115396,
           null,
           null,
           null
          ],
          [
           null,
           null,
           null,
           null,
           1.0463795917722019,
           null,
           null,
           null
          ],
          [
           null,
           null,
           null,
           null,
           1.0463212630026388,
           null,
           null,
           null
          ],
          [
           null,
           null,
           null,
           null,
           1.0463191654531865,
           null,
           null,
           null
          ],
          [
           null,
           1.0578319410344572,
           null,
           null,
           null,
           null,
           null,
           null
          ],
          [
           null,
           null,
           null,
           null,
           1.0463763023877224,
           null,
           null,
           null
          ],
          [
           null,
           null,
           null,
           null,
           1.046374781202393,
           null,
           null,
           null
          ],
          [
           null,
           null,
           null,
           null,
           1.0463604017342008,
           null,
           null,
           null
          ],
          [
           null,
           null,
           null,
           null,
           1.046324667676689,
           null,
           null,
           null
          ],
          [
           null,
           null,
           null,
           1.0463899771493939,
           null,
           null,
           null,
           null
          ],
          [
           null,
           null,
           null,
           1.046505968860356,
           null,
           null,
           null,
           null
          ],
          [
           null,
           null,
           null,
           null,
           null,
           null,
           null,
           null
          ]
         ]
        },
        {
         "marker": {
          "color": "black",
          "line": {
           "color": "Gray",
           "width": 2
          }
         },
         "mode": "markers",
         "name": "Feasible Trial",
         "showlegend": false,
         "type": "scatter",
         "x": [
          10,
          3,
          8,
          3,
          6,
          9,
          7,
          7,
          8,
          8,
          8,
          8,
          8,
          8,
          8
         ],
         "xaxis": "x7",
         "y": [
          81.16262258099887,
          39.64354168406294,
          124.21185223120968,
          168.16410175208014,
          67.80602616231216,
          96.65329700123682,
          191.25801334957043,
          193.28052065242662,
          152.3558802567305,
          143.6425794504774,
          171.63231336234185,
          171.71928695484053,
          173.2337076183833,
          183.0336195408902,
          132.94685447212055
         ],
         "yaxis": "y7"
        },
        {
         "type": "scatter",
         "xaxis": "x11",
         "yaxis": "y11"
        },
        {
         "colorbar": {
          "title": {
           "text": "Objective Value"
          }
         },
         "colorscale": [
          [
           0,
           "rgb(247,251,255)"
          ],
          [
           0.125,
           "rgb(222,235,247)"
          ],
          [
           0.25,
           "rgb(198,219,239)"
          ],
          [
           0.375,
           "rgb(158,202,225)"
          ],
          [
           0.5,
           "rgb(107,174,214)"
          ],
          [
           0.625,
           "rgb(66,146,198)"
          ],
          [
           0.75,
           "rgb(33,113,181)"
          ],
          [
           0.875,
           "rgb(8,81,156)"
          ],
          [
           1,
           "rgb(8,48,107)"
          ]
         ],
         "connectgaps": true,
         "contours": {
          "coloring": "heatmap"
         },
         "hoverinfo": "none",
         "line": {
          "smoothing": 1.3
         },
         "reversescale": true,
         "showscale": false,
         "type": "contour",
         "x": [
          2.65,
          3,
          6,
          7,
          8,
          9,
          10,
          10.35
         ],
         "xaxis": "x15",
         "y": [
          1.7,
          2,
          3,
          4,
          5,
          6,
          8,
          8.3
         ],
         "yaxis": "y15",
         "z": [
          [
           null,
           null,
           null,
           null,
           null,
           null,
           null,
           null
          ],
          [
           null,
           1.0554830607889316,
           null,
           null,
           1.0463191654531865,
           null,
           null,
           null
          ],
          [
           null,
           1.0578319410344572,
           null,
           null,
           1.046324667676689,
           1.0465488322266128,
           null,
           null
          ],
          [
           null,
           null,
           null,
           null,
           1.046374781202393,
           null,
           null,
           null
          ],
          [
           null,
           null,
           1.047368670415476,
           null,
           1.0463795917722019,
           null,
           null,
           null
          ],
          [
           null,
           null,
           null,
           1.0463899771493939,
           null,
           null,
           null,
           null
          ],
          [
           null,
           null,
           null,
           null,
           null,
           null,
           1.0471109441663062,
           null
          ],
          [
           null,
           null,
           null,
           null,
           null,
           null,
           null,
           null
          ]
         ]
        },
        {
         "marker": {
          "color": "black",
          "line": {
           "color": "Gray",
           "width": 2
          }
         },
         "mode": "markers",
         "name": "Feasible Trial",
         "showlegend": false,
         "type": "scatter",
         "x": [
          10,
          3,
          8,
          3,
          6,
          9,
          7,
          7,
          8,
          8,
          8,
          8,
          8,
          8,
          8
         ],
         "xaxis": "x15",
         "y": [
          8,
          2,
          2,
          3,
          5,
          3,
          6,
          6,
          2,
          2,
          4,
          4,
          3,
          3,
          5
         ],
         "yaxis": "y15"
        },
        {
         "colorbar": {
          "title": {
           "text": "Objective Value"
          }
         },
         "colorscale": [
          [
           0,
           "rgb(247,251,255)"
          ],
          [
           0.125,
           "rgb(222,235,247)"
          ],
          [
           0.25,
           "rgb(198,219,239)"
          ],
          [
           0.375,
           "rgb(158,202,225)"
          ],
          [
           0.5,
           "rgb(107,174,214)"
          ],
          [
           0.625,
           "rgb(66,146,198)"
          ],
          [
           0.75,
           "rgb(33,113,181)"
          ],
          [
           0.875,
           "rgb(8,81,156)"
          ],
          [
           1,
           "rgb(8,48,107)"
          ]
         ],
         "connectgaps": true,
         "contours": {
          "coloring": "heatmap"
         },
         "hoverinfo": "none",
         "line": {
          "smoothing": 1.3
         },
         "reversescale": true,
         "showscale": false,
         "type": "contour",
         "x": [
          1.7,
          2,
          3,
          4,
          5,
          6,
          8,
          8.3
         ],
         "xaxis": "x4",
         "y": [
          0.16432439287329392,
          0.16834045098534337,
          0.17912291401980418,
          0.20142344384136115,
          0.20986584841970365,
          0.22403445158956123,
          0.22431474393513626,
          0.22982609682476288,
          0.2305867345324009,
          0.23203735844768722,
          0.23372605732632937,
          0.23661761457749353,
          0.2381580350748775,
          0.2455091613483603,
          0.24699098521619944,
          0.24866161322633198,
          0.2526776713383814
         ],
         "yaxis": "y4",
         "z": [
          [
           null,
           null,
           null,
           null,
           null,
           null,
           null,
           null
          ],
          [
           null,
           null,
           1.0578319410344572,
           null,
           null,
           null,
           null,
           null
          ],
          [
           null,
           null,
           null,
           null,
           1.047368670415476,
           null,
           null,
           null
          ],
          [
           null,
           null,
           1.0465488322266128,
           null,
           null,
           null,
           null,
           null
          ],
          [
           null,
           null,
           null,
           null,
           null,
           null,
           1.0471109441663062,
           null
          ],
          [
           null,
           1.0463191654531865,
           null,
           null,
           null,
           null,
           null,
           null
          ],
          [
           null,
           1.0463212630026388,
           null,
           null,
           null,
           null,
           null,
           null
          ],
          [
           null,
           null,
           null,
           1.0463763023877224,
           null,
           null,
           null,
           null
          ],
          [
           null,
           null,
           null,
           1.046374781202393,
           null,
           null,
           null,
           null
          ],
          [
           null,
           null,
           1.0463604017342008,
           null,
           null,
           null,
           null,
           null
          ],
          [
           null,
           null,
           null,
           null,
           1.0463795917722019,
           null,
           null,
           null
          ],
          [
           null,
           1.0554830607889316,
           null,
           null,
           null,
           null,
           null,
           null
          ],
          [
           null,
           null,
           1.046324667676689,
           null,
           null,
           null,
           null,
           null
          ],
          [
           null,
           null,
           null,
           null,
           null,
           1.0463899771493939,
           null,
           null
          ],
          [
           null,
           1.0463841771115396,
           null,
           null,
           null,
           null,
           null,
           null
          ],
          [
           null,
           null,
           null,
           null,
           null,
           1.046505968860356,
           null,
           null
          ],
          [
           null,
           null,
           null,
           null,
           null,
           null,
           null,
           null
          ]
         ]
        },
        {
         "marker": {
          "color": "black",
          "line": {
           "color": "Gray",
           "width": 2
          }
         },
         "mode": "markers",
         "name": "Feasible Trial",
         "showlegend": false,
         "type": "scatter",
         "x": [
          8,
          2,
          2,
          3,
          5,
          3,
          6,
          6,
          2,
          2,
          4,
          4,
          3,
          3,
          5
         ],
         "xaxis": "x4",
         "y": [
          0.20986584841970365,
          0.23661761457749353,
          0.24699098521619944,
          0.16834045098534337,
          0.17912291401980418,
          0.20142344384136115,
          0.2455091613483603,
          0.24866161322633198,
          0.22403445158956123,
          0.22431474393513626,
          0.22982609682476288,
          0.2305867345324009,
          0.23203735844768722,
          0.2381580350748775,
          0.23372605732632937
         ],
         "yaxis": "y4"
        },
        {
         "colorbar": {
          "title": {
           "text": "Objective Value"
          }
         },
         "colorscale": [
          [
           0,
           "rgb(247,251,255)"
          ],
          [
           0.125,
           "rgb(222,235,247)"
          ],
          [
           0.25,
           "rgb(198,219,239)"
          ],
          [
           0.375,
           "rgb(158,202,225)"
          ],
          [
           0.5,
           "rgb(107,174,214)"
          ],
          [
           0.625,
           "rgb(66,146,198)"
          ],
          [
           0.75,
           "rgb(33,113,181)"
          ],
          [
           0.875,
           "rgb(8,81,156)"
          ],
          [
           1,
           "rgb(8,48,107)"
          ]
         ],
         "connectgaps": true,
         "contours": {
          "coloring": "heatmap"
         },
         "hoverinfo": "none",
         "line": {
          "smoothing": 1.3
         },
         "reversescale": true,
         "showscale": false,
         "type": "contour",
         "x": [
          1.7,
          2,
          3,
          4,
          5,
          6,
          8,
          8.3
         ],
         "xaxis": "x8",
         "y": [
          31.961692735644753,
          39.64354168406294,
          67.80602616231216,
          81.16262258099887,
          96.65329700123682,
          124.21185223120968,
          132.94685447212055,
          143.6425794504774,
          152.3558802567305,
          168.16410175208014,
          171.63231336234185,
          171.71928695484053,
          173.2337076183833,
          183.0336195408902,
          191.25801334957043,
          193.28052065242662,
          200.9623696008448
         ],
         "yaxis": "y8",
         "z": [
          [
           null,
           null,
           null,
           null,
           null,
           null,
           null,
           null
          ],
          [
           null,
           1.0554830607889316,
           null,
           null,
           null,
           null,
           null,
           null
          ],
          [
           null,
           null,
           null,
           null,
           1.047368670415476,
           null,
           null,
           null
          ],
          [
           null,
           null,
           null,
           null,
           null,
           null,
           1.0471109441663062,
           null
          ],
          [
           null,
           null,
           1.0465488322266128,
           null,
           null,
           null,
           null,
           null
          ],
          [
           null,
           1.0463841771115396,
           null,
           null,
           null,
           null,
           null,
           null
          ],
          [
           null,
           null,
           null,
           null,
           1.0463795917722019,
           null,
           null,
           null
          ],
          [
           null,
           1.0463212630026388,
           null,
           null,
           null,
           null,
           null,
           null
          ],
          [
           null,
           1.0463191654531865,
           null,
           null,
           null,
           null,
           null,
           null
          ],
          [
           null,
           null,
           1.0578319410344572,
           null,
           null,
           null,
           null,
           null
          ],
          [
           null,
           null,
           null,
           1.0463763023877224,
           null,
           null,
           null,
           null
          ],
          [
           null,
           null,
           null,
           1.046374781202393,
           null,
           null,
           null,
           null
          ],
          [
           null,
           null,
           1.0463604017342008,
           null,
           null,
           null,
           null,
           null
          ],
          [
           null,
           null,
           1.046324667676689,
           null,
           null,
           null,
           null,
           null
          ],
          [
           null,
           null,
           null,
           null,
           null,
           1.0463899771493939,
           null,
           null
          ],
          [
           null,
           null,
           null,
           null,
           null,
           1.046505968860356,
           null,
           null
          ],
          [
           null,
           null,
           null,
           null,
           null,
           null,
           null,
           null
          ]
         ]
        },
        {
         "marker": {
          "color": "black",
          "line": {
           "color": "Gray",
           "width": 2
          }
         },
         "mode": "markers",
         "name": "Feasible Trial",
         "showlegend": false,
         "type": "scatter",
         "x": [
          8,
          2,
          2,
          3,
          5,
          3,
          6,
          6,
          2,
          2,
          4,
          4,
          3,
          3,
          5
         ],
         "xaxis": "x8",
         "y": [
          81.16262258099887,
          39.64354168406294,
          124.21185223120968,
          168.16410175208014,
          67.80602616231216,
          96.65329700123682,
          191.25801334957043,
          193.28052065242662,
          152.3558802567305,
          143.6425794504774,
          171.63231336234185,
          171.71928695484053,
          173.2337076183833,
          183.0336195408902,
          132.94685447212055
         ],
         "yaxis": "y8"
        },
        {
         "colorbar": {
          "title": {
           "text": "Objective Value"
          }
         },
         "colorscale": [
          [
           0,
           "rgb(247,251,255)"
          ],
          [
           0.125,
           "rgb(222,235,247)"
          ],
          [
           0.25,
           "rgb(198,219,239)"
          ],
          [
           0.375,
           "rgb(158,202,225)"
          ],
          [
           0.5,
           "rgb(107,174,214)"
          ],
          [
           0.625,
           "rgb(66,146,198)"
          ],
          [
           0.75,
           "rgb(33,113,181)"
          ],
          [
           0.875,
           "rgb(8,81,156)"
          ],
          [
           1,
           "rgb(8,48,107)"
          ]
         ],
         "connectgaps": true,
         "contours": {
          "coloring": "heatmap"
         },
         "hoverinfo": "none",
         "line": {
          "smoothing": 1.3
         },
         "reversescale": true,
         "showscale": false,
         "type": "contour",
         "x": [
          1.7,
          2,
          3,
          4,
          5,
          6,
          8,
          8.3
         ],
         "xaxis": "x12",
         "y": [
          2.65,
          3,
          6,
          7,
          8,
          9,
          10,
          10.35
         ],
         "yaxis": "y12",
         "z": [
          [
           null,
           null,
           null,
           null,
           null,
           null,
           null,
           null
          ],
          [
           null,
           1.0554830607889316,
           1.0578319410344572,
           null,
           null,
           null,
           null,
           null
          ],
          [
           null,
           null,
           null,
           null,
           1.047368670415476,
           null,
           null,
           null
          ],
          [
           null,
           null,
           null,
           null,
           null,
           1.0463899771493939,
           null,
           null
          ],
          [
           null,
           1.0463191654531865,
           1.046324667676689,
           1.046374781202393,
           1.0463795917722019,
           null,
           null,
           null
          ],
          [
           null,
           null,
           1.0465488322266128,
           null,
           null,
           null,
           null,
           null
          ],
          [
           null,
           null,
           null,
           null,
           null,
           null,
           1.0471109441663062,
           null
          ],
          [
           null,
           null,
           null,
           null,
           null,
           null,
           null,
           null
          ]
         ]
        },
        {
         "marker": {
          "color": "black",
          "line": {
           "color": "Gray",
           "width": 2
          }
         },
         "mode": "markers",
         "name": "Feasible Trial",
         "showlegend": false,
         "type": "scatter",
         "x": [
          8,
          2,
          2,
          3,
          5,
          3,
          6,
          6,
          2,
          2,
          4,
          4,
          3,
          3,
          5
         ],
         "xaxis": "x12",
         "y": [
          10,
          3,
          8,
          3,
          6,
          9,
          7,
          7,
          8,
          8,
          8,
          8,
          8,
          8,
          8
         ],
         "yaxis": "y12"
        },
        {
         "type": "scatter",
         "xaxis": "x16",
         "yaxis": "y16"
        }
       ],
       "layout": {
        "template": {
         "data": {
          "bar": [
           {
            "error_x": {
             "color": "#2a3f5f"
            },
            "error_y": {
             "color": "#2a3f5f"
            },
            "marker": {
             "line": {
              "color": "#E5ECF6",
              "width": 0.5
             },
             "pattern": {
              "fillmode": "overlay",
              "size": 10,
              "solidity": 0.2
             }
            },
            "type": "bar"
           }
          ],
          "barpolar": [
           {
            "marker": {
             "line": {
              "color": "#E5ECF6",
              "width": 0.5
             },
             "pattern": {
              "fillmode": "overlay",
              "size": 10,
              "solidity": 0.2
             }
            },
            "type": "barpolar"
           }
          ],
          "carpet": [
           {
            "aaxis": {
             "endlinecolor": "#2a3f5f",
             "gridcolor": "white",
             "linecolor": "white",
             "minorgridcolor": "white",
             "startlinecolor": "#2a3f5f"
            },
            "baxis": {
             "endlinecolor": "#2a3f5f",
             "gridcolor": "white",
             "linecolor": "white",
             "minorgridcolor": "white",
             "startlinecolor": "#2a3f5f"
            },
            "type": "carpet"
           }
          ],
          "choropleth": [
           {
            "colorbar": {
             "outlinewidth": 0,
             "ticks": ""
            },
            "type": "choropleth"
           }
          ],
          "contour": [
           {
            "colorbar": {
             "outlinewidth": 0,
             "ticks": ""
            },
            "colorscale": [
             [
              0,
              "#0d0887"
             ],
             [
              0.1111111111111111,
              "#46039f"
             ],
             [
              0.2222222222222222,
              "#7201a8"
             ],
             [
              0.3333333333333333,
              "#9c179e"
             ],
             [
              0.4444444444444444,
              "#bd3786"
             ],
             [
              0.5555555555555556,
              "#d8576b"
             ],
             [
              0.6666666666666666,
              "#ed7953"
             ],
             [
              0.7777777777777778,
              "#fb9f3a"
             ],
             [
              0.8888888888888888,
              "#fdca26"
             ],
             [
              1,
              "#f0f921"
             ]
            ],
            "type": "contour"
           }
          ],
          "contourcarpet": [
           {
            "colorbar": {
             "outlinewidth": 0,
             "ticks": ""
            },
            "type": "contourcarpet"
           }
          ],
          "heatmap": [
           {
            "colorbar": {
             "outlinewidth": 0,
             "ticks": ""
            },
            "colorscale": [
             [
              0,
              "#0d0887"
             ],
             [
              0.1111111111111111,
              "#46039f"
             ],
             [
              0.2222222222222222,
              "#7201a8"
             ],
             [
              0.3333333333333333,
              "#9c179e"
             ],
             [
              0.4444444444444444,
              "#bd3786"
             ],
             [
              0.5555555555555556,
              "#d8576b"
             ],
             [
              0.6666666666666666,
              "#ed7953"
             ],
             [
              0.7777777777777778,
              "#fb9f3a"
             ],
             [
              0.8888888888888888,
              "#fdca26"
             ],
             [
              1,
              "#f0f921"
             ]
            ],
            "type": "heatmap"
           }
          ],
          "heatmapgl": [
           {
            "colorbar": {
             "outlinewidth": 0,
             "ticks": ""
            },
            "colorscale": [
             [
              0,
              "#0d0887"
             ],
             [
              0.1111111111111111,
              "#46039f"
             ],
             [
              0.2222222222222222,
              "#7201a8"
             ],
             [
              0.3333333333333333,
              "#9c179e"
             ],
             [
              0.4444444444444444,
              "#bd3786"
             ],
             [
              0.5555555555555556,
              "#d8576b"
             ],
             [
              0.6666666666666666,
              "#ed7953"
             ],
             [
              0.7777777777777778,
              "#fb9f3a"
             ],
             [
              0.8888888888888888,
              "#fdca26"
             ],
             [
              1,
              "#f0f921"
             ]
            ],
            "type": "heatmapgl"
           }
          ],
          "histogram": [
           {
            "marker": {
             "pattern": {
              "fillmode": "overlay",
              "size": 10,
              "solidity": 0.2
             }
            },
            "type": "histogram"
           }
          ],
          "histogram2d": [
           {
            "colorbar": {
             "outlinewidth": 0,
             "ticks": ""
            },
            "colorscale": [
             [
              0,
              "#0d0887"
             ],
             [
              0.1111111111111111,
              "#46039f"
             ],
             [
              0.2222222222222222,
              "#7201a8"
             ],
             [
              0.3333333333333333,
              "#9c179e"
             ],
             [
              0.4444444444444444,
              "#bd3786"
             ],
             [
              0.5555555555555556,
              "#d8576b"
             ],
             [
              0.6666666666666666,
              "#ed7953"
             ],
             [
              0.7777777777777778,
              "#fb9f3a"
             ],
             [
              0.8888888888888888,
              "#fdca26"
             ],
             [
              1,
              "#f0f921"
             ]
            ],
            "type": "histogram2d"
           }
          ],
          "histogram2dcontour": [
           {
            "colorbar": {
             "outlinewidth": 0,
             "ticks": ""
            },
            "colorscale": [
             [
              0,
              "#0d0887"
             ],
             [
              0.1111111111111111,
              "#46039f"
             ],
             [
              0.2222222222222222,
              "#7201a8"
             ],
             [
              0.3333333333333333,
              "#9c179e"
             ],
             [
              0.4444444444444444,
              "#bd3786"
             ],
             [
              0.5555555555555556,
              "#d8576b"
             ],
             [
              0.6666666666666666,
              "#ed7953"
             ],
             [
              0.7777777777777778,
              "#fb9f3a"
             ],
             [
              0.8888888888888888,
              "#fdca26"
             ],
             [
              1,
              "#f0f921"
             ]
            ],
            "type": "histogram2dcontour"
           }
          ],
          "mesh3d": [
           {
            "colorbar": {
             "outlinewidth": 0,
             "ticks": ""
            },
            "type": "mesh3d"
           }
          ],
          "parcoords": [
           {
            "line": {
             "colorbar": {
              "outlinewidth": 0,
              "ticks": ""
             }
            },
            "type": "parcoords"
           }
          ],
          "pie": [
           {
            "automargin": true,
            "type": "pie"
           }
          ],
          "scatter": [
           {
            "fillpattern": {
             "fillmode": "overlay",
             "size": 10,
             "solidity": 0.2
            },
            "type": "scatter"
           }
          ],
          "scatter3d": [
           {
            "line": {
             "colorbar": {
              "outlinewidth": 0,
              "ticks": ""
             }
            },
            "marker": {
             "colorbar": {
              "outlinewidth": 0,
              "ticks": ""
             }
            },
            "type": "scatter3d"
           }
          ],
          "scattercarpet": [
           {
            "marker": {
             "colorbar": {
              "outlinewidth": 0,
              "ticks": ""
             }
            },
            "type": "scattercarpet"
           }
          ],
          "scattergeo": [
           {
            "marker": {
             "colorbar": {
              "outlinewidth": 0,
              "ticks": ""
             }
            },
            "type": "scattergeo"
           }
          ],
          "scattergl": [
           {
            "marker": {
             "colorbar": {
              "outlinewidth": 0,
              "ticks": ""
             }
            },
            "type": "scattergl"
           }
          ],
          "scattermapbox": [
           {
            "marker": {
             "colorbar": {
              "outlinewidth": 0,
              "ticks": ""
             }
            },
            "type": "scattermapbox"
           }
          ],
          "scatterpolar": [
           {
            "marker": {
             "colorbar": {
              "outlinewidth": 0,
              "ticks": ""
             }
            },
            "type": "scatterpolar"
           }
          ],
          "scatterpolargl": [
           {
            "marker": {
             "colorbar": {
              "outlinewidth": 0,
              "ticks": ""
             }
            },
            "type": "scatterpolargl"
           }
          ],
          "scatterternary": [
           {
            "marker": {
             "colorbar": {
              "outlinewidth": 0,
              "ticks": ""
             }
            },
            "type": "scatterternary"
           }
          ],
          "surface": [
           {
            "colorbar": {
             "outlinewidth": 0,
             "ticks": ""
            },
            "colorscale": [
             [
              0,
              "#0d0887"
             ],
             [
              0.1111111111111111,
              "#46039f"
             ],
             [
              0.2222222222222222,
              "#7201a8"
             ],
             [
              0.3333333333333333,
              "#9c179e"
             ],
             [
              0.4444444444444444,
              "#bd3786"
             ],
             [
              0.5555555555555556,
              "#d8576b"
             ],
             [
              0.6666666666666666,
              "#ed7953"
             ],
             [
              0.7777777777777778,
              "#fb9f3a"
             ],
             [
              0.8888888888888888,
              "#fdca26"
             ],
             [
              1,
              "#f0f921"
             ]
            ],
            "type": "surface"
           }
          ],
          "table": [
           {
            "cells": {
             "fill": {
              "color": "#EBF0F8"
             },
             "line": {
              "color": "white"
             }
            },
            "header": {
             "fill": {
              "color": "#C8D4E3"
             },
             "line": {
              "color": "white"
             }
            },
            "type": "table"
           }
          ]
         },
         "layout": {
          "annotationdefaults": {
           "arrowcolor": "#2a3f5f",
           "arrowhead": 0,
           "arrowwidth": 1
          },
          "autotypenumbers": "strict",
          "coloraxis": {
           "colorbar": {
            "outlinewidth": 0,
            "ticks": ""
           }
          },
          "colorscale": {
           "diverging": [
            [
             0,
             "#8e0152"
            ],
            [
             0.1,
             "#c51b7d"
            ],
            [
             0.2,
             "#de77ae"
            ],
            [
             0.3,
             "#f1b6da"
            ],
            [
             0.4,
             "#fde0ef"
            ],
            [
             0.5,
             "#f7f7f7"
            ],
            [
             0.6,
             "#e6f5d0"
            ],
            [
             0.7,
             "#b8e186"
            ],
            [
             0.8,
             "#7fbc41"
            ],
            [
             0.9,
             "#4d9221"
            ],
            [
             1,
             "#276419"
            ]
           ],
           "sequential": [
            [
             0,
             "#0d0887"
            ],
            [
             0.1111111111111111,
             "#46039f"
            ],
            [
             0.2222222222222222,
             "#7201a8"
            ],
            [
             0.3333333333333333,
             "#9c179e"
            ],
            [
             0.4444444444444444,
             "#bd3786"
            ],
            [
             0.5555555555555556,
             "#d8576b"
            ],
            [
             0.6666666666666666,
             "#ed7953"
            ],
            [
             0.7777777777777778,
             "#fb9f3a"
            ],
            [
             0.8888888888888888,
             "#fdca26"
            ],
            [
             1,
             "#f0f921"
            ]
           ],
           "sequentialminus": [
            [
             0,
             "#0d0887"
            ],
            [
             0.1111111111111111,
             "#46039f"
            ],
            [
             0.2222222222222222,
             "#7201a8"
            ],
            [
             0.3333333333333333,
             "#9c179e"
            ],
            [
             0.4444444444444444,
             "#bd3786"
            ],
            [
             0.5555555555555556,
             "#d8576b"
            ],
            [
             0.6666666666666666,
             "#ed7953"
            ],
            [
             0.7777777777777778,
             "#fb9f3a"
            ],
            [
             0.8888888888888888,
             "#fdca26"
            ],
            [
             1,
             "#f0f921"
            ]
           ]
          },
          "colorway": [
           "#636efa",
           "#EF553B",
           "#00cc96",
           "#ab63fa",
           "#FFA15A",
           "#19d3f3",
           "#FF6692",
           "#B6E880",
           "#FF97FF",
           "#FECB52"
          ],
          "font": {
           "color": "#2a3f5f"
          },
          "geo": {
           "bgcolor": "white",
           "lakecolor": "white",
           "landcolor": "#E5ECF6",
           "showlakes": true,
           "showland": true,
           "subunitcolor": "white"
          },
          "hoverlabel": {
           "align": "left"
          },
          "hovermode": "closest",
          "mapbox": {
           "style": "light"
          },
          "paper_bgcolor": "white",
          "plot_bgcolor": "#E5ECF6",
          "polar": {
           "angularaxis": {
            "gridcolor": "white",
            "linecolor": "white",
            "ticks": ""
           },
           "bgcolor": "#E5ECF6",
           "radialaxis": {
            "gridcolor": "white",
            "linecolor": "white",
            "ticks": ""
           }
          },
          "scene": {
           "xaxis": {
            "backgroundcolor": "#E5ECF6",
            "gridcolor": "white",
            "gridwidth": 2,
            "linecolor": "white",
            "showbackground": true,
            "ticks": "",
            "zerolinecolor": "white"
           },
           "yaxis": {
            "backgroundcolor": "#E5ECF6",
            "gridcolor": "white",
            "gridwidth": 2,
            "linecolor": "white",
            "showbackground": true,
            "ticks": "",
            "zerolinecolor": "white"
           },
           "zaxis": {
            "backgroundcolor": "#E5ECF6",
            "gridcolor": "white",
            "gridwidth": 2,
            "linecolor": "white",
            "showbackground": true,
            "ticks": "",
            "zerolinecolor": "white"
           }
          },
          "shapedefaults": {
           "line": {
            "color": "#2a3f5f"
           }
          },
          "ternary": {
           "aaxis": {
            "gridcolor": "white",
            "linecolor": "white",
            "ticks": ""
           },
           "baxis": {
            "gridcolor": "white",
            "linecolor": "white",
            "ticks": ""
           },
           "bgcolor": "#E5ECF6",
           "caxis": {
            "gridcolor": "white",
            "linecolor": "white",
            "ticks": ""
           }
          },
          "title": {
           "x": 0.05
          },
          "xaxis": {
           "automargin": true,
           "gridcolor": "white",
           "linecolor": "white",
           "ticks": "",
           "title": {
            "standoff": 15
           },
           "zerolinecolor": "white",
           "zerolinewidth": 2
          },
          "yaxis": {
           "automargin": true,
           "gridcolor": "white",
           "linecolor": "white",
           "ticks": "",
           "title": {
            "standoff": 15
           },
           "zerolinecolor": "white",
           "zerolinewidth": 2
          }
         }
        },
        "title": {
         "text": "Contour Plot"
        },
        "xaxis": {
         "anchor": "y",
         "domain": [
          0,
          0.2125
         ],
         "matches": "x13",
         "range": [
          0.16432439287329392,
          0.2526776713383814
         ],
         "showticklabels": false
        },
        "xaxis10": {
         "anchor": "y10",
         "domain": [
          0.2625,
          0.475
         ],
         "matches": "x14",
         "range": [
          31.961692735644753,
          200.9623696008448
         ],
         "showticklabels": false
        },
        "xaxis11": {
         "anchor": "y11",
         "domain": [
          0.525,
          0.7375
         ],
         "matches": "x15",
         "range": [
          2.65,
          10.35
         ],
         "showticklabels": false
        },
        "xaxis12": {
         "anchor": "y12",
         "domain": [
          0.7875,
          1
         ],
         "matches": "x16",
         "range": [
          1.7,
          8.3
         ],
         "showticklabels": false
        },
        "xaxis13": {
         "anchor": "y13",
         "domain": [
          0,
          0.2125
         ],
         "range": [
          0.16432439287329392,
          0.2526776713383814
         ],
         "title": {
          "text": "eta"
         }
        },
        "xaxis14": {
         "anchor": "y14",
         "domain": [
          0.2625,
          0.475
         ],
         "range": [
          31.961692735644753,
          200.9623696008448
         ],
         "title": {
          "text": "lambda"
         }
        },
        "xaxis15": {
         "anchor": "y15",
         "domain": [
          0.525,
          0.7375
         ],
         "range": [
          2.65,
          10.35
         ],
         "title": {
          "text": "max_depth"
         }
        },
        "xaxis16": {
         "anchor": "y16",
         "domain": [
          0.7875,
          1
         ],
         "range": [
          1.7,
          8.3
         ],
         "title": {
          "text": "min_child_weight"
         }
        },
        "xaxis2": {
         "anchor": "y2",
         "domain": [
          0.2625,
          0.475
         ],
         "matches": "x14",
         "range": [
          31.961692735644753,
          200.9623696008448
         ],
         "showticklabels": false
        },
        "xaxis3": {
         "anchor": "y3",
         "domain": [
          0.525,
          0.7375
         ],
         "matches": "x15",
         "range": [
          2.65,
          10.35
         ],
         "showticklabels": false
        },
        "xaxis4": {
         "anchor": "y4",
         "domain": [
          0.7875,
          1
         ],
         "matches": "x16",
         "range": [
          1.7,
          8.3
         ],
         "showticklabels": false
        },
        "xaxis5": {
         "anchor": "y5",
         "domain": [
          0,
          0.2125
         ],
         "matches": "x13",
         "range": [
          0.16432439287329392,
          0.2526776713383814
         ],
         "showticklabels": false
        },
        "xaxis6": {
         "anchor": "y6",
         "domain": [
          0.2625,
          0.475
         ],
         "matches": "x14",
         "range": [
          31.961692735644753,
          200.9623696008448
         ],
         "showticklabels": false
        },
        "xaxis7": {
         "anchor": "y7",
         "domain": [
          0.525,
          0.7375
         ],
         "matches": "x15",
         "range": [
          2.65,
          10.35
         ],
         "showticklabels": false
        },
        "xaxis8": {
         "anchor": "y8",
         "domain": [
          0.7875,
          1
         ],
         "matches": "x16",
         "range": [
          1.7,
          8.3
         ],
         "showticklabels": false
        },
        "xaxis9": {
         "anchor": "y9",
         "domain": [
          0,
          0.2125
         ],
         "matches": "x13",
         "range": [
          0.16432439287329392,
          0.2526776713383814
         ],
         "showticklabels": false
        },
        "yaxis": {
         "anchor": "x",
         "domain": [
          0.80625,
          1
         ],
         "range": [
          0.16432439287329392,
          0.2526776713383814
         ],
         "title": {
          "text": "eta"
         }
        },
        "yaxis10": {
         "anchor": "x10",
         "domain": [
          0.26875,
          0.4625
         ],
         "matches": "y9",
         "range": [
          2.65,
          10.35
         ],
         "showticklabels": false
        },
        "yaxis11": {
         "anchor": "x11",
         "domain": [
          0.26875,
          0.4625
         ],
         "matches": "y9",
         "range": [
          2.65,
          10.35
         ],
         "showticklabels": false
        },
        "yaxis12": {
         "anchor": "x12",
         "domain": [
          0.26875,
          0.4625
         ],
         "matches": "y9",
         "range": [
          2.65,
          10.35
         ],
         "showticklabels": false
        },
        "yaxis13": {
         "anchor": "x13",
         "domain": [
          0,
          0.19375
         ],
         "range": [
          1.7,
          8.3
         ],
         "title": {
          "text": "min_child_weight"
         }
        },
        "yaxis14": {
         "anchor": "x14",
         "domain": [
          0,
          0.19375
         ],
         "matches": "y13",
         "range": [
          1.7,
          8.3
         ],
         "showticklabels": false
        },
        "yaxis15": {
         "anchor": "x15",
         "domain": [
          0,
          0.19375
         ],
         "matches": "y13",
         "range": [
          1.7,
          8.3
         ],
         "showticklabels": false
        },
        "yaxis16": {
         "anchor": "x16",
         "domain": [
          0,
          0.19375
         ],
         "matches": "y13",
         "range": [
          1.7,
          8.3
         ],
         "showticklabels": false
        },
        "yaxis2": {
         "anchor": "x2",
         "domain": [
          0.80625,
          1
         ],
         "matches": "y",
         "range": [
          0.16432439287329392,
          0.2526776713383814
         ],
         "showticklabels": false
        },
        "yaxis3": {
         "anchor": "x3",
         "domain": [
          0.80625,
          1
         ],
         "matches": "y",
         "range": [
          0.16432439287329392,
          0.2526776713383814
         ],
         "showticklabels": false
        },
        "yaxis4": {
         "anchor": "x4",
         "domain": [
          0.80625,
          1
         ],
         "matches": "y",
         "range": [
          0.16432439287329392,
          0.2526776713383814
         ],
         "showticklabels": false
        },
        "yaxis5": {
         "anchor": "x5",
         "domain": [
          0.5375,
          0.73125
         ],
         "range": [
          31.961692735644753,
          200.9623696008448
         ],
         "title": {
          "text": "lambda"
         }
        },
        "yaxis6": {
         "anchor": "x6",
         "domain": [
          0.5375,
          0.73125
         ],
         "matches": "y5",
         "range": [
          31.961692735644753,
          200.9623696008448
         ],
         "showticklabels": false
        },
        "yaxis7": {
         "anchor": "x7",
         "domain": [
          0.5375,
          0.73125
         ],
         "matches": "y5",
         "range": [
          31.961692735644753,
          200.9623696008448
         ],
         "showticklabels": false
        },
        "yaxis8": {
         "anchor": "x8",
         "domain": [
          0.5375,
          0.73125
         ],
         "matches": "y5",
         "range": [
          31.961692735644753,
          200.9623696008448
         ],
         "showticklabels": false
        },
        "yaxis9": {
         "anchor": "x9",
         "domain": [
          0.26875,
          0.4625
         ],
         "range": [
          2.65,
          10.35
         ],
         "title": {
          "text": "max_depth"
         }
        }
       }
      }
     },
     "metadata": {},
     "output_type": "display_data"
    }
   ],
   "source": [
    "plot_contour(study)\n"
   ]
  },
  {
   "cell_type": "code",
   "execution_count": 8,
   "metadata": {},
   "outputs": [
    {
     "data": {
      "application/vnd.plotly.v1+json": {
       "config": {
        "plotlyServerURL": "https://plot.ly"
       },
       "data": [
        {
         "cliponaxis": false,
         "hovertemplate": [
          "lambda (FloatDistribution): 0.04635585037162431<extra></extra>",
          "min_child_weight (IntDistribution): 0.10220377306746692<extra></extra>",
          "eta (FloatDistribution): 0.1647669475155284<extra></extra>",
          "max_depth (IntDistribution): 0.6866734290453803<extra></extra>"
         ],
         "name": "Objective Value",
         "orientation": "h",
         "text": [
          "0.05",
          "0.10",
          "0.16",
          "0.69"
         ],
         "textposition": "outside",
         "type": "bar",
         "x": [
          0.04635585037162431,
          0.10220377306746692,
          0.1647669475155284,
          0.6866734290453803
         ],
         "y": [
          "lambda",
          "min_child_weight",
          "eta",
          "max_depth"
         ]
        }
       ],
       "layout": {
        "template": {
         "data": {
          "bar": [
           {
            "error_x": {
             "color": "#2a3f5f"
            },
            "error_y": {
             "color": "#2a3f5f"
            },
            "marker": {
             "line": {
              "color": "#E5ECF6",
              "width": 0.5
             },
             "pattern": {
              "fillmode": "overlay",
              "size": 10,
              "solidity": 0.2
             }
            },
            "type": "bar"
           }
          ],
          "barpolar": [
           {
            "marker": {
             "line": {
              "color": "#E5ECF6",
              "width": 0.5
             },
             "pattern": {
              "fillmode": "overlay",
              "size": 10,
              "solidity": 0.2
             }
            },
            "type": "barpolar"
           }
          ],
          "carpet": [
           {
            "aaxis": {
             "endlinecolor": "#2a3f5f",
             "gridcolor": "white",
             "linecolor": "white",
             "minorgridcolor": "white",
             "startlinecolor": "#2a3f5f"
            },
            "baxis": {
             "endlinecolor": "#2a3f5f",
             "gridcolor": "white",
             "linecolor": "white",
             "minorgridcolor": "white",
             "startlinecolor": "#2a3f5f"
            },
            "type": "carpet"
           }
          ],
          "choropleth": [
           {
            "colorbar": {
             "outlinewidth": 0,
             "ticks": ""
            },
            "type": "choropleth"
           }
          ],
          "contour": [
           {
            "colorbar": {
             "outlinewidth": 0,
             "ticks": ""
            },
            "colorscale": [
             [
              0,
              "#0d0887"
             ],
             [
              0.1111111111111111,
              "#46039f"
             ],
             [
              0.2222222222222222,
              "#7201a8"
             ],
             [
              0.3333333333333333,
              "#9c179e"
             ],
             [
              0.4444444444444444,
              "#bd3786"
             ],
             [
              0.5555555555555556,
              "#d8576b"
             ],
             [
              0.6666666666666666,
              "#ed7953"
             ],
             [
              0.7777777777777778,
              "#fb9f3a"
             ],
             [
              0.8888888888888888,
              "#fdca26"
             ],
             [
              1,
              "#f0f921"
             ]
            ],
            "type": "contour"
           }
          ],
          "contourcarpet": [
           {
            "colorbar": {
             "outlinewidth": 0,
             "ticks": ""
            },
            "type": "contourcarpet"
           }
          ],
          "heatmap": [
           {
            "colorbar": {
             "outlinewidth": 0,
             "ticks": ""
            },
            "colorscale": [
             [
              0,
              "#0d0887"
             ],
             [
              0.1111111111111111,
              "#46039f"
             ],
             [
              0.2222222222222222,
              "#7201a8"
             ],
             [
              0.3333333333333333,
              "#9c179e"
             ],
             [
              0.4444444444444444,
              "#bd3786"
             ],
             [
              0.5555555555555556,
              "#d8576b"
             ],
             [
              0.6666666666666666,
              "#ed7953"
             ],
             [
              0.7777777777777778,
              "#fb9f3a"
             ],
             [
              0.8888888888888888,
              "#fdca26"
             ],
             [
              1,
              "#f0f921"
             ]
            ],
            "type": "heatmap"
           }
          ],
          "heatmapgl": [
           {
            "colorbar": {
             "outlinewidth": 0,
             "ticks": ""
            },
            "colorscale": [
             [
              0,
              "#0d0887"
             ],
             [
              0.1111111111111111,
              "#46039f"
             ],
             [
              0.2222222222222222,
              "#7201a8"
             ],
             [
              0.3333333333333333,
              "#9c179e"
             ],
             [
              0.4444444444444444,
              "#bd3786"
             ],
             [
              0.5555555555555556,
              "#d8576b"
             ],
             [
              0.6666666666666666,
              "#ed7953"
             ],
             [
              0.7777777777777778,
              "#fb9f3a"
             ],
             [
              0.8888888888888888,
              "#fdca26"
             ],
             [
              1,
              "#f0f921"
             ]
            ],
            "type": "heatmapgl"
           }
          ],
          "histogram": [
           {
            "marker": {
             "pattern": {
              "fillmode": "overlay",
              "size": 10,
              "solidity": 0.2
             }
            },
            "type": "histogram"
           }
          ],
          "histogram2d": [
           {
            "colorbar": {
             "outlinewidth": 0,
             "ticks": ""
            },
            "colorscale": [
             [
              0,
              "#0d0887"
             ],
             [
              0.1111111111111111,
              "#46039f"
             ],
             [
              0.2222222222222222,
              "#7201a8"
             ],
             [
              0.3333333333333333,
              "#9c179e"
             ],
             [
              0.4444444444444444,
              "#bd3786"
             ],
             [
              0.5555555555555556,
              "#d8576b"
             ],
             [
              0.6666666666666666,
              "#ed7953"
             ],
             [
              0.7777777777777778,
              "#fb9f3a"
             ],
             [
              0.8888888888888888,
              "#fdca26"
             ],
             [
              1,
              "#f0f921"
             ]
            ],
            "type": "histogram2d"
           }
          ],
          "histogram2dcontour": [
           {
            "colorbar": {
             "outlinewidth": 0,
             "ticks": ""
            },
            "colorscale": [
             [
              0,
              "#0d0887"
             ],
             [
              0.1111111111111111,
              "#46039f"
             ],
             [
              0.2222222222222222,
              "#7201a8"
             ],
             [
              0.3333333333333333,
              "#9c179e"
             ],
             [
              0.4444444444444444,
              "#bd3786"
             ],
             [
              0.5555555555555556,
              "#d8576b"
             ],
             [
              0.6666666666666666,
              "#ed7953"
             ],
             [
              0.7777777777777778,
              "#fb9f3a"
             ],
             [
              0.8888888888888888,
              "#fdca26"
             ],
             [
              1,
              "#f0f921"
             ]
            ],
            "type": "histogram2dcontour"
           }
          ],
          "mesh3d": [
           {
            "colorbar": {
             "outlinewidth": 0,
             "ticks": ""
            },
            "type": "mesh3d"
           }
          ],
          "parcoords": [
           {
            "line": {
             "colorbar": {
              "outlinewidth": 0,
              "ticks": ""
             }
            },
            "type": "parcoords"
           }
          ],
          "pie": [
           {
            "automargin": true,
            "type": "pie"
           }
          ],
          "scatter": [
           {
            "fillpattern": {
             "fillmode": "overlay",
             "size": 10,
             "solidity": 0.2
            },
            "type": "scatter"
           }
          ],
          "scatter3d": [
           {
            "line": {
             "colorbar": {
              "outlinewidth": 0,
              "ticks": ""
             }
            },
            "marker": {
             "colorbar": {
              "outlinewidth": 0,
              "ticks": ""
             }
            },
            "type": "scatter3d"
           }
          ],
          "scattercarpet": [
           {
            "marker": {
             "colorbar": {
              "outlinewidth": 0,
              "ticks": ""
             }
            },
            "type": "scattercarpet"
           }
          ],
          "scattergeo": [
           {
            "marker": {
             "colorbar": {
              "outlinewidth": 0,
              "ticks": ""
             }
            },
            "type": "scattergeo"
           }
          ],
          "scattergl": [
           {
            "marker": {
             "colorbar": {
              "outlinewidth": 0,
              "ticks": ""
             }
            },
            "type": "scattergl"
           }
          ],
          "scattermapbox": [
           {
            "marker": {
             "colorbar": {
              "outlinewidth": 0,
              "ticks": ""
             }
            },
            "type": "scattermapbox"
           }
          ],
          "scatterpolar": [
           {
            "marker": {
             "colorbar": {
              "outlinewidth": 0,
              "ticks": ""
             }
            },
            "type": "scatterpolar"
           }
          ],
          "scatterpolargl": [
           {
            "marker": {
             "colorbar": {
              "outlinewidth": 0,
              "ticks": ""
             }
            },
            "type": "scatterpolargl"
           }
          ],
          "scatterternary": [
           {
            "marker": {
             "colorbar": {
              "outlinewidth": 0,
              "ticks": ""
             }
            },
            "type": "scatterternary"
           }
          ],
          "surface": [
           {
            "colorbar": {
             "outlinewidth": 0,
             "ticks": ""
            },
            "colorscale": [
             [
              0,
              "#0d0887"
             ],
             [
              0.1111111111111111,
              "#46039f"
             ],
             [
              0.2222222222222222,
              "#7201a8"
             ],
             [
              0.3333333333333333,
              "#9c179e"
             ],
             [
              0.4444444444444444,
              "#bd3786"
             ],
             [
              0.5555555555555556,
              "#d8576b"
             ],
             [
              0.6666666666666666,
              "#ed7953"
             ],
             [
              0.7777777777777778,
              "#fb9f3a"
             ],
             [
              0.8888888888888888,
              "#fdca26"
             ],
             [
              1,
              "#f0f921"
             ]
            ],
            "type": "surface"
           }
          ],
          "table": [
           {
            "cells": {
             "fill": {
              "color": "#EBF0F8"
             },
             "line": {
              "color": "white"
             }
            },
            "header": {
             "fill": {
              "color": "#C8D4E3"
             },
             "line": {
              "color": "white"
             }
            },
            "type": "table"
           }
          ]
         },
         "layout": {
          "annotationdefaults": {
           "arrowcolor": "#2a3f5f",
           "arrowhead": 0,
           "arrowwidth": 1
          },
          "autotypenumbers": "strict",
          "coloraxis": {
           "colorbar": {
            "outlinewidth": 0,
            "ticks": ""
           }
          },
          "colorscale": {
           "diverging": [
            [
             0,
             "#8e0152"
            ],
            [
             0.1,
             "#c51b7d"
            ],
            [
             0.2,
             "#de77ae"
            ],
            [
             0.3,
             "#f1b6da"
            ],
            [
             0.4,
             "#fde0ef"
            ],
            [
             0.5,
             "#f7f7f7"
            ],
            [
             0.6,
             "#e6f5d0"
            ],
            [
             0.7,
             "#b8e186"
            ],
            [
             0.8,
             "#7fbc41"
            ],
            [
             0.9,
             "#4d9221"
            ],
            [
             1,
             "#276419"
            ]
           ],
           "sequential": [
            [
             0,
             "#0d0887"
            ],
            [
             0.1111111111111111,
             "#46039f"
            ],
            [
             0.2222222222222222,
             "#7201a8"
            ],
            [
             0.3333333333333333,
             "#9c179e"
            ],
            [
             0.4444444444444444,
             "#bd3786"
            ],
            [
             0.5555555555555556,
             "#d8576b"
            ],
            [
             0.6666666666666666,
             "#ed7953"
            ],
            [
             0.7777777777777778,
             "#fb9f3a"
            ],
            [
             0.8888888888888888,
             "#fdca26"
            ],
            [
             1,
             "#f0f921"
            ]
           ],
           "sequentialminus": [
            [
             0,
             "#0d0887"
            ],
            [
             0.1111111111111111,
             "#46039f"
            ],
            [
             0.2222222222222222,
             "#7201a8"
            ],
            [
             0.3333333333333333,
             "#9c179e"
            ],
            [
             0.4444444444444444,
             "#bd3786"
            ],
            [
             0.5555555555555556,
             "#d8576b"
            ],
            [
             0.6666666666666666,
             "#ed7953"
            ],
            [
             0.7777777777777778,
             "#fb9f3a"
            ],
            [
             0.8888888888888888,
             "#fdca26"
            ],
            [
             1,
             "#f0f921"
            ]
           ]
          },
          "colorway": [
           "#636efa",
           "#EF553B",
           "#00cc96",
           "#ab63fa",
           "#FFA15A",
           "#19d3f3",
           "#FF6692",
           "#B6E880",
           "#FF97FF",
           "#FECB52"
          ],
          "font": {
           "color": "#2a3f5f"
          },
          "geo": {
           "bgcolor": "white",
           "lakecolor": "white",
           "landcolor": "#E5ECF6",
           "showlakes": true,
           "showland": true,
           "subunitcolor": "white"
          },
          "hoverlabel": {
           "align": "left"
          },
          "hovermode": "closest",
          "mapbox": {
           "style": "light"
          },
          "paper_bgcolor": "white",
          "plot_bgcolor": "#E5ECF6",
          "polar": {
           "angularaxis": {
            "gridcolor": "white",
            "linecolor": "white",
            "ticks": ""
           },
           "bgcolor": "#E5ECF6",
           "radialaxis": {
            "gridcolor": "white",
            "linecolor": "white",
            "ticks": ""
           }
          },
          "scene": {
           "xaxis": {
            "backgroundcolor": "#E5ECF6",
            "gridcolor": "white",
            "gridwidth": 2,
            "linecolor": "white",
            "showbackground": true,
            "ticks": "",
            "zerolinecolor": "white"
           },
           "yaxis": {
            "backgroundcolor": "#E5ECF6",
            "gridcolor": "white",
            "gridwidth": 2,
            "linecolor": "white",
            "showbackground": true,
            "ticks": "",
            "zerolinecolor": "white"
           },
           "zaxis": {
            "backgroundcolor": "#E5ECF6",
            "gridcolor": "white",
            "gridwidth": 2,
            "linecolor": "white",
            "showbackground": true,
            "ticks": "",
            "zerolinecolor": "white"
           }
          },
          "shapedefaults": {
           "line": {
            "color": "#2a3f5f"
           }
          },
          "ternary": {
           "aaxis": {
            "gridcolor": "white",
            "linecolor": "white",
            "ticks": ""
           },
           "baxis": {
            "gridcolor": "white",
            "linecolor": "white",
            "ticks": ""
           },
           "bgcolor": "#E5ECF6",
           "caxis": {
            "gridcolor": "white",
            "linecolor": "white",
            "ticks": ""
           }
          },
          "title": {
           "x": 0.05
          },
          "xaxis": {
           "automargin": true,
           "gridcolor": "white",
           "linecolor": "white",
           "ticks": "",
           "title": {
            "standoff": 15
           },
           "zerolinecolor": "white",
           "zerolinewidth": 2
          },
          "yaxis": {
           "automargin": true,
           "gridcolor": "white",
           "linecolor": "white",
           "ticks": "",
           "title": {
            "standoff": 15
           },
           "zerolinecolor": "white",
           "zerolinewidth": 2
          }
         }
        },
        "title": {
         "text": "Hyperparameter Importances"
        },
        "xaxis": {
         "title": {
          "text": "Hyperparameter Importance"
         }
        },
        "yaxis": {
         "title": {
          "text": "Hyperparameter"
         }
        }
       }
      }
     },
     "metadata": {},
     "output_type": "display_data"
    }
   ],
   "source": [
    "plot_param_importances(study)"
   ]
  },
  {
   "cell_type": "code",
   "execution_count": null,
   "metadata": {},
   "outputs": [],
   "source": []
  },
  {
   "cell_type": "code",
   "execution_count": null,
   "metadata": {},
   "outputs": [],
   "source": []
  }
 ],
 "metadata": {
  "kernelspec": {
   "display_name": ".venv",
   "language": "python",
   "name": "python3"
  },
  "language_info": {
   "codemirror_mode": {
    "name": "ipython",
    "version": 3
   },
   "file_extension": ".py",
   "mimetype": "text/x-python",
   "name": "python",
   "nbconvert_exporter": "python",
   "pygments_lexer": "ipython3",
   "version": "3.11.2"
  }
 },
 "nbformat": 4,
 "nbformat_minor": 2
}
