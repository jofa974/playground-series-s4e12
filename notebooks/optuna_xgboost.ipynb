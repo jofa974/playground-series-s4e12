{
 "cells": [
  {
   "cell_type": "code",
   "execution_count": 1,
   "metadata": {},
   "outputs": [],
   "source": [
    "import copy\n",
    "import pickle\n",
    "from datetime import datetime\n",
    "\n",
    "import numpy as np\n",
    "import optuna\n",
    "import pandas as pd\n",
    "import xgboost as xgb\n",
    "from sklearn.metrics import root_mean_squared_log_error\n",
    "from sklearn.model_selection import KFold\n",
    "import random\n",
    "from insurance.common import PREP_DATA_PATH\n",
    "from insurance.data_pipeline import get_feat_columns, make_xgboost_pipeline\n",
    "from insurance.logger import setup_logger"
   ]
  },
  {
   "cell_type": "code",
   "execution_count": 2,
   "metadata": {},
   "outputs": [],
   "source": [
    "log_file = datetime.now().strftime(\"xgboost_tune_log_%Y-%m-%d_%H-%M-%S.log\")\n",
    "logger = setup_logger(log_file=log_file)\n"
   ]
  },
  {
   "cell_type": "code",
   "execution_count": 3,
   "metadata": {},
   "outputs": [
    {
     "name": "stderr",
     "output_type": "stream",
     "text": [
      "2024-12-22 11:38:29,173 - logger - INFO - features shape: (1200000, 19)\n",
      "[I 2024-12-22 11:38:31,820] A new study created in memory with name: no-name-40200b5b-c290-4b68-905f-ba4987e509fa\n",
      "2024-12-22 11:38:35,612 - logger - INFO - Out-of-fold RMSLE: 1.0527\n",
      "[I 2024-12-22 11:38:35,613] Trial 0 finished with value: 1.0526831455027024 and parameters: {'lambda': 81.16262258099887, 'max_depth': 10, 'min_child_weight': 8, 'eta': 0.20986584841970365}. Best is trial 0 with value: 1.0526831455027024.\n",
      "2024-12-22 11:38:37,495 - logger - INFO - Out-of-fold RMSLE: 1.0523\n",
      "[I 2024-12-22 11:38:37,495] Trial 1 finished with value: 1.0522698682146687 and parameters: {'lambda': 39.64354168406294, 'max_depth': 8, 'min_child_weight': 2, 'eta': 0.23661761457749353}. Best is trial 1 with value: 1.0522698682146687.\n",
      "2024-12-22 11:38:40,164 - logger - INFO - Out-of-fold RMSLE: 1.0528\n",
      "[I 2024-12-22 11:38:40,164] Trial 2 finished with value: 1.0528460754598776 and parameters: {'lambda': 124.21185223120968, 'max_depth': 10, 'min_child_weight': 2, 'eta': 0.24699098521619944}. Best is trial 1 with value: 1.0522698682146687.\n",
      "2024-12-22 11:38:42,030 - logger - INFO - Out-of-fold RMSLE: 1.0522\n",
      "[I 2024-12-22 11:38:42,031] Trial 3 finished with value: 1.0521976802099775 and parameters: {'lambda': 168.16410175208014, 'max_depth': 8, 'min_child_weight': 3, 'eta': 0.16834045098534337}. Best is trial 3 with value: 1.0521976802099775.\n",
      "2024-12-22 11:38:44,204 - logger - INFO - Out-of-fold RMSLE: 1.0522\n",
      "[I 2024-12-22 11:38:44,205] Trial 4 finished with value: 1.0522340135393051 and parameters: {'lambda': 67.80602616231216, 'max_depth': 9, 'min_child_weight': 5, 'eta': 0.17912291401980418}. Best is trial 3 with value: 1.0521976802099775.\n",
      "[I 2024-12-22 11:38:45,297] Trial 5 pruned. Trial was pruned at iteration 0.\n",
      "[I 2024-12-22 11:38:46,402] Trial 6 pruned. Trial was pruned at iteration 0.\n",
      "[I 2024-12-22 11:38:47,455] Trial 7 pruned. Trial was pruned at iteration 0.\n",
      "[I 2024-12-22 11:38:49,199] Trial 8 pruned. Trial was pruned at iteration 8.\n",
      "[I 2024-12-22 11:38:50,322] Trial 9 pruned. Trial was pruned at iteration 0.\n",
      "[I 2024-12-22 11:38:51,422] Trial 10 pruned. Trial was pruned at iteration 0.\n",
      "[I 2024-12-22 11:38:52,490] Trial 11 pruned. Trial was pruned at iteration 0.\n",
      "[I 2024-12-22 11:38:53,563] Trial 12 pruned. Trial was pruned at iteration 0.\n",
      "[I 2024-12-22 11:38:54,633] Trial 13 pruned. Trial was pruned at iteration 0.\n",
      "[I 2024-12-22 11:38:55,702] Trial 14 pruned. Trial was pruned at iteration 0.\n",
      "[I 2024-12-22 11:38:56,797] Trial 15 pruned. Trial was pruned at iteration 0.\n",
      "[I 2024-12-22 11:38:57,863] Trial 16 pruned. Trial was pruned at iteration 0.\n",
      "[I 2024-12-22 11:38:58,983] Trial 17 pruned. Trial was pruned at iteration 0.\n",
      "[I 2024-12-22 11:39:00,113] Trial 18 pruned. Trial was pruned at iteration 0.\n",
      "[I 2024-12-22 11:39:01,185] Trial 19 pruned. Trial was pruned at iteration 0.\n",
      "[I 2024-12-22 11:39:02,260] Trial 20 pruned. Trial was pruned at iteration 0.\n",
      "2024-12-22 11:39:04,089 - logger - INFO - Out-of-fold RMSLE: 1.0522\n",
      "[I 2024-12-22 11:39:04,090] Trial 21 finished with value: 1.0522479380596679 and parameters: {'lambda': 40.89979767605377, 'max_depth': 8, 'min_child_weight': 2, 'eta': 0.2469269852048718}. Best is trial 3 with value: 1.0521976802099775.\n",
      "[I 2024-12-22 11:39:05,180] Trial 22 pruned. Trial was pruned at iteration 0.\n",
      "[I 2024-12-22 11:39:06,252] Trial 23 pruned. Trial was pruned at iteration 0.\n",
      "2024-12-22 11:39:08,130 - logger - INFO - Out-of-fold RMSLE: 1.0522\n",
      "[I 2024-12-22 11:39:08,130] Trial 24 finished with value: 1.0522233686821665 and parameters: {'lambda': 43.11602813634241, 'max_depth': 8, 'min_child_weight': 2, 'eta': 0.24468049264135633}. Best is trial 3 with value: 1.0521976802099775.\n",
      "[I 2024-12-22 11:39:09,318] Trial 25 pruned. Trial was pruned at iteration 0.\n",
      "[I 2024-12-22 11:39:10,289] Trial 26 pruned. Trial was pruned at iteration 0.\n",
      "[I 2024-12-22 11:39:11,332] Trial 27 pruned. Trial was pruned at iteration 0.\n",
      "[I 2024-12-22 11:39:12,410] Trial 28 pruned. Trial was pruned at iteration 0.\n",
      "[I 2024-12-22 11:39:13,507] Trial 29 pruned. Trial was pruned at iteration 0.\n",
      "[I 2024-12-22 11:39:15,591] Trial 30 pruned. Trial was pruned at iteration 12.\n",
      "2024-12-22 11:39:17,574 - logger - INFO - Out-of-fold RMSLE: 1.0523\n",
      "[I 2024-12-22 11:39:17,575] Trial 31 finished with value: 1.0523062430270806 and parameters: {'lambda': 32.47449038460792, 'max_depth': 8, 'min_child_weight': 2, 'eta': 0.24753895016177294}. Best is trial 3 with value: 1.0521976802099775.\n",
      "[I 2024-12-22 11:39:18,639] Trial 32 pruned. Trial was pruned at iteration 0.\n",
      "[I 2024-12-22 11:39:19,642] Trial 33 pruned. Trial was pruned at iteration 0.\n",
      "[I 2024-12-22 11:39:21,298] Trial 34 pruned. Trial was pruned at iteration 16.\n",
      "[I 2024-12-22 11:39:22,348] Trial 35 pruned. Trial was pruned at iteration 0.\n",
      "[I 2024-12-22 11:39:23,404] Trial 36 pruned. Trial was pruned at iteration 0.\n",
      "2024-12-22 11:39:25,331 - logger - INFO - Out-of-fold RMSLE: 1.0522\n",
      "[I 2024-12-22 11:39:25,331] Trial 37 finished with value: 1.052158303202547 and parameters: {'lambda': 135.17005713633648, 'max_depth': 8, 'min_child_weight': 3, 'eta': 0.2489461255532115}. Best is trial 37 with value: 1.052158303202547.\n",
      "[I 2024-12-22 11:39:26,486] Trial 38 pruned. Trial was pruned at iteration 0.\n",
      "[I 2024-12-22 11:39:27,559] Trial 39 pruned. Trial was pruned at iteration 0.\n",
      "[I 2024-12-22 11:39:28,546] Trial 40 pruned. Trial was pruned at iteration 0.\n",
      "[I 2024-12-22 11:39:29,717] Trial 41 pruned. Trial was pruned at iteration 4.\n",
      "[I 2024-12-22 11:39:30,706] Trial 42 pruned. Trial was pruned at iteration 0.\n",
      "[I 2024-12-22 11:39:31,711] Trial 43 pruned. Trial was pruned at iteration 0.\n",
      "[I 2024-12-22 11:39:32,842] Trial 44 pruned. Trial was pruned at iteration 0.\n",
      "2024-12-22 11:39:34,680 - logger - INFO - Out-of-fold RMSLE: 1.0521\n",
      "[I 2024-12-22 11:39:34,681] Trial 45 finished with value: 1.052065022541493 and parameters: {'lambda': 148.99629545002682, 'max_depth': 8, 'min_child_weight': 4, 'eta': 0.24952668897998526}. Best is trial 45 with value: 1.052065022541493.\n",
      "[I 2024-12-22 11:39:35,710] Trial 46 pruned. Trial was pruned at iteration 0.\n",
      "[I 2024-12-22 11:39:36,710] Trial 47 pruned. Trial was pruned at iteration 0.\n",
      "[I 2024-12-22 11:39:37,719] Trial 48 pruned. Trial was pruned at iteration 0.\n",
      "[I 2024-12-22 11:39:38,712] Trial 49 pruned. Trial was pruned at iteration 0.\n",
      "[I 2024-12-22 11:39:39,713] Trial 50 pruned. Trial was pruned at iteration 0.\n",
      "[I 2024-12-22 11:39:41,488] Trial 51 pruned. Trial was pruned at iteration 16.\n",
      "[I 2024-12-22 11:39:42,534] Trial 52 pruned. Trial was pruned at iteration 0.\n",
      "[I 2024-12-22 11:39:43,532] Trial 53 pruned. Trial was pruned at iteration 0.\n",
      "[I 2024-12-22 11:39:44,525] Trial 54 pruned. Trial was pruned at iteration 0.\n",
      "[I 2024-12-22 11:39:45,519] Trial 55 pruned. Trial was pruned at iteration 0.\n",
      "[I 2024-12-22 11:39:46,586] Trial 56 pruned. Trial was pruned at iteration 0.\n",
      "[I 2024-12-22 11:39:47,723] Trial 57 pruned. Trial was pruned at iteration 0.\n",
      "2024-12-22 11:39:49,793 - logger - INFO - Out-of-fold RMSLE: 1.0521\n",
      "[I 2024-12-22 11:39:49,794] Trial 58 finished with value: 1.0520773546523614 and parameters: {'lambda': 129.42010993632587, 'max_depth': 8, 'min_child_weight': 4, 'eta': 0.24997766879025657}. Best is trial 45 with value: 1.052065022541493.\n",
      "[I 2024-12-22 11:39:50,805] Trial 59 pruned. Trial was pruned at iteration 0.\n",
      "[I 2024-12-22 11:39:51,846] Trial 60 pruned. Trial was pruned at iteration 0.\n",
      "[I 2024-12-22 11:39:53,408] Trial 61 pruned. Trial was pruned at iteration 14.\n",
      "[I 2024-12-22 11:39:54,394] Trial 62 pruned. Trial was pruned at iteration 0.\n",
      "[I 2024-12-22 11:39:55,436] Trial 63 pruned. Trial was pruned at iteration 0.\n",
      "[I 2024-12-22 11:39:56,602] Trial 64 pruned. Trial was pruned at iteration 0.\n",
      "[I 2024-12-22 11:39:57,884] Trial 65 pruned. Trial was pruned at iteration 0.\n",
      "[I 2024-12-22 11:39:58,880] Trial 66 pruned. Trial was pruned at iteration 0.\n",
      "[I 2024-12-22 11:39:59,880] Trial 67 pruned. Trial was pruned at iteration 0.\n",
      "[I 2024-12-22 11:40:00,881] Trial 68 pruned. Trial was pruned at iteration 0.\n",
      "[I 2024-12-22 11:40:01,882] Trial 69 pruned. Trial was pruned at iteration 0.\n",
      "[I 2024-12-22 11:40:02,900] Trial 70 pruned. Trial was pruned at iteration 0.\n",
      "[I 2024-12-22 11:40:04,003] Trial 71 pruned. Trial was pruned at iteration 0.\n",
      "[I 2024-12-22 11:40:05,167] Trial 72 pruned. Trial was pruned at iteration 0.\n",
      "[I 2024-12-22 11:40:06,376] Trial 73 pruned. Trial was pruned at iteration 5.\n",
      "[I 2024-12-22 11:40:07,373] Trial 74 pruned. Trial was pruned at iteration 0.\n",
      "[I 2024-12-22 11:40:08,420] Trial 75 pruned. Trial was pruned at iteration 0.\n",
      "[I 2024-12-22 11:40:09,713] Trial 76 pruned. Trial was pruned at iteration 7.\n",
      "[I 2024-12-22 11:40:10,711] Trial 77 pruned. Trial was pruned at iteration 0.\n",
      "[I 2024-12-22 11:40:11,795] Trial 78 pruned. Trial was pruned at iteration 0.\n",
      "[I 2024-12-22 11:40:12,791] Trial 79 pruned. Trial was pruned at iteration 0.\n",
      "[I 2024-12-22 11:40:13,792] Trial 80 pruned. Trial was pruned at iteration 0.\n",
      "[I 2024-12-22 11:40:15,361] Trial 81 pruned. Trial was pruned at iteration 14.\n",
      "[I 2024-12-22 11:40:16,361] Trial 82 pruned. Trial was pruned at iteration 0.\n",
      "[I 2024-12-22 11:40:17,937] Trial 83 pruned. Trial was pruned at iteration 14.\n",
      "[I 2024-12-22 11:40:19,012] Trial 84 pruned. Trial was pruned at iteration 0.\n",
      "[I 2024-12-22 11:40:20,013] Trial 85 pruned. Trial was pruned at iteration 0.\n",
      "[I 2024-12-22 11:40:21,014] Trial 86 pruned. Trial was pruned at iteration 0.\n",
      "[I 2024-12-22 11:40:22,032] Trial 87 pruned. Trial was pruned at iteration 0.\n",
      "[I 2024-12-22 11:40:23,485] Trial 88 pruned. Trial was pruned at iteration 11.\n",
      "[I 2024-12-22 11:40:24,484] Trial 89 pruned. Trial was pruned at iteration 0.\n",
      "[I 2024-12-22 11:40:25,650] Trial 90 pruned. Trial was pruned at iteration 0.\n",
      "[I 2024-12-22 11:40:26,702] Trial 91 pruned. Trial was pruned at iteration 0.\n",
      "[I 2024-12-22 11:40:27,749] Trial 92 pruned. Trial was pruned at iteration 0.\n",
      "[I 2024-12-22 11:40:28,757] Trial 93 pruned. Trial was pruned at iteration 0.\n",
      "[I 2024-12-22 11:40:29,813] Trial 94 pruned. Trial was pruned at iteration 0.\n",
      "[I 2024-12-22 11:40:30,839] Trial 95 pruned. Trial was pruned at iteration 0.\n",
      "[I 2024-12-22 11:40:31,862] Trial 96 pruned. Trial was pruned at iteration 0.\n",
      "[I 2024-12-22 11:40:32,945] Trial 97 pruned. Trial was pruned at iteration 0.\n",
      "[I 2024-12-22 11:40:33,942] Trial 98 pruned. Trial was pruned at iteration 0.\n",
      "[I 2024-12-22 11:40:34,976] Trial 99 pruned. Trial was pruned at iteration 0.\n",
      "[I 2024-12-22 11:40:35,978] Trial 100 pruned. Trial was pruned at iteration 0.\n",
      "[I 2024-12-22 11:40:37,027] Trial 101 pruned. Trial was pruned at iteration 0.\n",
      "[I 2024-12-22 11:40:38,823] Trial 102 pruned. Trial was pruned at iteration 8.\n",
      "[I 2024-12-22 11:40:40,851] Trial 103 pruned. Trial was pruned at iteration 11.\n",
      "[I 2024-12-22 11:40:41,894] Trial 104 pruned. Trial was pruned at iteration 0.\n",
      "[I 2024-12-22 11:40:42,926] Trial 105 pruned. Trial was pruned at iteration 0.\n",
      "[I 2024-12-22 11:40:43,919] Trial 106 pruned. Trial was pruned at iteration 0.\n",
      "[I 2024-12-22 11:40:44,917] Trial 107 pruned. Trial was pruned at iteration 0.\n",
      "[I 2024-12-22 11:40:46,002] Trial 108 pruned. Trial was pruned at iteration 0.\n",
      "[I 2024-12-22 11:40:48,166] Trial 109 pruned. Trial was pruned at iteration 16.\n",
      "[I 2024-12-22 11:40:49,191] Trial 110 pruned. Trial was pruned at iteration 0.\n",
      "2024-12-22 11:40:51,302 - logger - INFO - Out-of-fold RMSLE: 1.0522\n",
      "[I 2024-12-22 11:40:51,302] Trial 111 finished with value: 1.0522001111453327 and parameters: {'lambda': 141.44200727996292, 'max_depth': 9, 'min_child_weight': 8, 'eta': 0.24971386963476672}. Best is trial 45 with value: 1.052065022541493.\n",
      "[I 2024-12-22 11:40:52,377] Trial 112 pruned. Trial was pruned at iteration 0.\n",
      "[I 2024-12-22 11:40:54,217] Trial 113 pruned. Trial was pruned at iteration 14.\n",
      "[I 2024-12-22 11:40:56,199] Trial 114 pruned. Trial was pruned at iteration 17.\n",
      "[I 2024-12-22 11:40:57,249] Trial 115 pruned. Trial was pruned at iteration 0.\n",
      "[I 2024-12-22 11:40:58,445] Trial 116 pruned. Trial was pruned at iteration 0.\n",
      "[I 2024-12-22 11:41:00,062] Trial 117 pruned. Trial was pruned at iteration 10.\n",
      "[I 2024-12-22 11:41:01,100] Trial 118 pruned. Trial was pruned at iteration 0.\n",
      "[I 2024-12-22 11:41:02,133] Trial 119 pruned. Trial was pruned at iteration 0.\n",
      "[I 2024-12-22 11:41:03,167] Trial 120 pruned. Trial was pruned at iteration 0.\n",
      "[I 2024-12-22 11:41:05,171] Trial 121 pruned. Trial was pruned at iteration 17.\n",
      "[I 2024-12-22 11:41:07,455] Trial 122 pruned. Trial was pruned at iteration 19.\n",
      "[I 2024-12-22 11:41:09,457] Trial 123 pruned. Trial was pruned at iteration 17.\n",
      "[I 2024-12-22 11:41:10,530] Trial 124 pruned. Trial was pruned at iteration 0.\n",
      "[I 2024-12-22 11:41:11,561] Trial 125 pruned. Trial was pruned at iteration 0.\n",
      "[I 2024-12-22 11:41:13,060] Trial 126 pruned. Trial was pruned at iteration 8.\n",
      "[I 2024-12-22 11:41:14,092] Trial 127 pruned. Trial was pruned at iteration 0.\n",
      "[I 2024-12-22 11:41:15,930] Trial 128 pruned. Trial was pruned at iteration 8.\n",
      "[I 2024-12-22 11:41:17,048] Trial 129 pruned. Trial was pruned at iteration 0.\n",
      "[I 2024-12-22 11:41:18,085] Trial 130 pruned. Trial was pruned at iteration 0.\n",
      "[I 2024-12-22 11:41:19,923] Trial 131 pruned. Trial was pruned at iteration 14.\n",
      "2024-12-22 11:41:22,043 - logger - INFO - Out-of-fold RMSLE: 1.0522\n",
      "[I 2024-12-22 11:41:22,044] Trial 132 finished with value: 1.0522071267574429 and parameters: {'lambda': 183.3448418096625, 'max_depth': 9, 'min_child_weight': 10, 'eta': 0.2496168685630858}. Best is trial 45 with value: 1.052065022541493.\n",
      "[I 2024-12-22 11:41:23,118] Trial 133 pruned. Trial was pruned at iteration 0.\n",
      "[I 2024-12-22 11:41:24,176] Trial 134 pruned. Trial was pruned at iteration 0.\n",
      "2024-12-22 11:41:26,380 - logger - INFO - Out-of-fold RMSLE: 1.0522\n",
      "[I 2024-12-22 11:41:26,381] Trial 135 finished with value: 1.0521972356239793 and parameters: {'lambda': 194.03705901460268, 'max_depth': 9, 'min_child_weight': 10, 'eta': 0.24758500422390978}. Best is trial 45 with value: 1.052065022541493.\n",
      "[I 2024-12-22 11:41:27,598] Trial 136 pruned. Trial was pruned at iteration 0.\n",
      "[I 2024-12-22 11:41:28,654] Trial 137 pruned. Trial was pruned at iteration 0.\n",
      "[I 2024-12-22 11:41:29,723] Trial 138 pruned. Trial was pruned at iteration 0.\n",
      "[I 2024-12-22 11:41:30,773] Trial 139 pruned. Trial was pruned at iteration 0.\n",
      "[I 2024-12-22 11:41:31,808] Trial 140 pruned. Trial was pruned at iteration 0.\n",
      "2024-12-22 11:41:33,915 - logger - INFO - Out-of-fold RMSLE: 1.0522\n",
      "[I 2024-12-22 11:41:33,916] Trial 141 finished with value: 1.0522269925107022 and parameters: {'lambda': 194.2859635443494, 'max_depth': 9, 'min_child_weight': 10, 'eta': 0.24801078016965392}. Best is trial 45 with value: 1.052065022541493.\n",
      "2024-12-22 11:41:36,053 - logger - INFO - Out-of-fold RMSLE: 1.0523\n",
      "[I 2024-12-22 11:41:36,053] Trial 142 finished with value: 1.0522627664310866 and parameters: {'lambda': 197.1855642693683, 'max_depth': 9, 'min_child_weight': 10, 'eta': 0.2483212158770654}. Best is trial 45 with value: 1.052065022541493.\n",
      "[I 2024-12-22 11:41:37,876] Trial 143 pruned. Trial was pruned at iteration 13.\n",
      "[I 2024-12-22 11:41:39,010] Trial 144 pruned. Trial was pruned at iteration 0.\n",
      "[I 2024-12-22 11:41:40,065] Trial 145 pruned. Trial was pruned at iteration 0.\n",
      "[I 2024-12-22 11:41:41,132] Trial 146 pruned. Trial was pruned at iteration 0.\n",
      "[I 2024-12-22 11:41:42,933] Trial 147 pruned. Trial was pruned at iteration 13.\n",
      "[I 2024-12-22 11:41:44,074] Trial 148 pruned. Trial was pruned at iteration 0.\n",
      "[I 2024-12-22 11:41:45,312] Trial 149 pruned. Trial was pruned at iteration 0.\n",
      "[I 2024-12-22 11:41:46,511] Trial 150 pruned. Trial was pruned at iteration 0.\n",
      "[I 2024-12-22 11:41:48,034] Trial 151 pruned. Trial was pruned at iteration 8.\n",
      "[I 2024-12-22 11:41:49,073] Trial 152 pruned. Trial was pruned at iteration 0.\n",
      "[I 2024-12-22 11:41:50,122] Trial 153 pruned. Trial was pruned at iteration 0.\n",
      "[I 2024-12-22 11:41:51,156] Trial 154 pruned. Trial was pruned at iteration 0.\n",
      "[I 2024-12-22 11:41:52,207] Trial 155 pruned. Trial was pruned at iteration 0.\n",
      "[I 2024-12-22 11:41:53,610] Trial 156 pruned. Trial was pruned at iteration 5.\n",
      "[I 2024-12-22 11:41:54,689] Trial 157 pruned. Trial was pruned at iteration 1.\n",
      "[I 2024-12-22 11:41:55,777] Trial 158 pruned. Trial was pruned at iteration 0.\n",
      "[I 2024-12-22 11:41:56,814] Trial 159 pruned. Trial was pruned at iteration 0.\n",
      "[I 2024-12-22 11:41:57,869] Trial 160 pruned. Trial was pruned at iteration 0.\n",
      "2024-12-22 11:41:59,978 - logger - INFO - Out-of-fold RMSLE: 1.0522\n",
      "[I 2024-12-22 11:41:59,979] Trial 161 finished with value: 1.0522420071555807 and parameters: {'lambda': 168.46466094183324, 'max_depth': 9, 'min_child_weight': 9, 'eta': 0.24835694062356345}. Best is trial 45 with value: 1.052065022541493.\n",
      "[I 2024-12-22 11:42:01,671] Trial 162 pruned. Trial was pruned at iteration 11.\n",
      "[I 2024-12-22 11:42:02,849] Trial 163 pruned. Trial was pruned at iteration 0.\n",
      "[I 2024-12-22 11:42:04,136] Trial 164 pruned. Trial was pruned at iteration 6.\n",
      "[I 2024-12-22 11:42:05,960] Trial 165 pruned. Trial was pruned at iteration 9.\n",
      "[I 2024-12-22 11:42:07,019] Trial 166 pruned. Trial was pruned at iteration 0.\n",
      "[I 2024-12-22 11:42:08,073] Trial 167 pruned. Trial was pruned at iteration 0.\n",
      "[I 2024-12-22 11:42:09,111] Trial 168 pruned. Trial was pruned at iteration 0.\n",
      "[I 2024-12-22 11:42:10,239] Trial 169 pruned. Trial was pruned at iteration 0.\n",
      "[I 2024-12-22 11:42:11,357] Trial 170 pruned. Trial was pruned at iteration 0.\n",
      "[I 2024-12-22 11:42:13,106] Trial 171 pruned. Trial was pruned at iteration 12.\n",
      "[I 2024-12-22 11:42:14,176] Trial 172 pruned. Trial was pruned at iteration 0.\n",
      "[I 2024-12-22 11:42:15,232] Trial 173 pruned. Trial was pruned at iteration 0.\n",
      "2024-12-22 11:42:17,338 - logger - INFO - Out-of-fold RMSLE: 1.0522\n",
      "[I 2024-12-22 11:42:17,338] Trial 174 finished with value: 1.0522140204529327 and parameters: {'lambda': 192.39583284220797, 'max_depth': 9, 'min_child_weight': 9, 'eta': 0.24976913156403052}. Best is trial 45 with value: 1.052065022541493.\n",
      "[I 2024-12-22 11:42:19,094] Trial 175 pruned. Trial was pruned at iteration 12.\n",
      "[I 2024-12-22 11:42:20,217] Trial 176 pruned. Trial was pruned at iteration 0.\n",
      "[I 2024-12-22 11:42:21,275] Trial 177 pruned. Trial was pruned at iteration 0.\n",
      "[I 2024-12-22 11:42:23,054] Trial 178 pruned. Trial was pruned at iteration 13.\n",
      "[I 2024-12-22 11:42:24,110] Trial 179 pruned. Trial was pruned at iteration 0.\n",
      "[I 2024-12-22 11:42:25,169] Trial 180 pruned. Trial was pruned at iteration 0.\n",
      "[I 2024-12-22 11:42:26,793] Trial 181 pruned. Trial was pruned at iteration 10.\n",
      "[I 2024-12-22 11:42:28,629] Trial 182 pruned. Trial was pruned at iteration 12.\n",
      "[I 2024-12-22 11:42:29,771] Trial 183 pruned. Trial was pruned at iteration 0.\n",
      "[I 2024-12-22 11:42:30,849] Trial 184 pruned. Trial was pruned at iteration 0.\n",
      "[I 2024-12-22 11:42:31,907] Trial 185 pruned. Trial was pruned at iteration 0.\n",
      "[I 2024-12-22 11:42:32,962] Trial 186 pruned. Trial was pruned at iteration 0.\n",
      "[I 2024-12-22 11:42:34,001] Trial 187 pruned. Trial was pruned at iteration 0.\n",
      "[I 2024-12-22 11:42:35,716] Trial 188 pruned. Trial was pruned at iteration 10.\n",
      "[I 2024-12-22 11:42:37,248] Trial 189 pruned. Trial was pruned at iteration 6.\n",
      "[I 2024-12-22 11:42:38,327] Trial 190 pruned. Trial was pruned at iteration 0.\n",
      "[I 2024-12-22 11:42:39,414] Trial 191 pruned. Trial was pruned at iteration 0.\n",
      "2024-12-22 11:42:41,528 - logger - INFO - Out-of-fold RMSLE: 1.0522\n",
      "[I 2024-12-22 11:42:41,528] Trial 192 finished with value: 1.0522117112812917 and parameters: {'lambda': 174.0582746076279, 'max_depth': 9, 'min_child_weight': 10, 'eta': 0.24812316705034101}. Best is trial 45 with value: 1.052065022541493.\n",
      "[I 2024-12-22 11:42:42,617] Trial 193 pruned. Trial was pruned at iteration 0.\n",
      "[I 2024-12-22 11:42:44,457] Trial 194 pruned. Trial was pruned at iteration 9.\n",
      "[I 2024-12-22 11:42:45,520] Trial 195 pruned. Trial was pruned at iteration 0.\n",
      "[I 2024-12-22 11:42:47,452] Trial 196 pruned. Trial was pruned at iteration 12.\n",
      "[I 2024-12-22 11:42:48,488] Trial 197 pruned. Trial was pruned at iteration 0.\n",
      "[I 2024-12-22 11:42:50,381] Trial 198 pruned. Trial was pruned at iteration 15.\n",
      "[I 2024-12-22 11:42:51,972] Trial 199 pruned. Trial was pruned at iteration 6.\n",
      "[I 2024-12-22 11:42:53,011] Trial 200 pruned. Trial was pruned at iteration 0.\n",
      "[I 2024-12-22 11:42:54,754] Trial 201 pruned. Trial was pruned at iteration 12.\n",
      "[I 2024-12-22 11:42:56,736] Trial 202 pruned. Trial was pruned at iteration 13.\n",
      "[I 2024-12-22 11:42:57,813] Trial 203 pruned. Trial was pruned at iteration 0.\n",
      "[I 2024-12-22 11:42:58,867] Trial 204 pruned. Trial was pruned at iteration 0.\n",
      "[I 2024-12-22 11:43:00,387] Trial 205 pruned. Trial was pruned at iteration 8.\n",
      "[I 2024-12-22 11:43:01,447] Trial 206 pruned. Trial was pruned at iteration 0.\n",
      "[I 2024-12-22 11:43:02,504] Trial 207 pruned. Trial was pruned at iteration 0.\n",
      "[I 2024-12-22 11:43:03,666] Trial 208 pruned. Trial was pruned at iteration 0.\n",
      "[I 2024-12-22 11:43:05,380] Trial 209 pruned. Trial was pruned at iteration 10.\n",
      "[I 2024-12-22 11:43:06,436] Trial 210 pruned. Trial was pruned at iteration 0.\n",
      "[I 2024-12-22 11:43:08,179] Trial 211 pruned. Trial was pruned at iteration 12.\n",
      "[I 2024-12-22 11:43:09,241] Trial 212 pruned. Trial was pruned at iteration 0.\n",
      "[I 2024-12-22 11:43:10,714] Trial 213 pruned. Trial was pruned at iteration 7.\n",
      "[I 2024-12-22 11:43:11,876] Trial 214 pruned. Trial was pruned at iteration 0.\n",
      "[I 2024-12-22 11:43:13,183] Trial 215 pruned. Trial was pruned at iteration 0.\n",
      "[I 2024-12-22 11:43:14,984] Trial 216 pruned. Trial was pruned at iteration 13.\n",
      "[I 2024-12-22 11:43:16,393] Trial 217 pruned. Trial was pruned at iteration 6.\n",
      "[I 2024-12-22 11:43:18,120] Trial 218 pruned. Trial was pruned at iteration 12.\n",
      "[I 2024-12-22 11:43:19,175] Trial 219 pruned. Trial was pruned at iteration 0.\n",
      "[I 2024-12-22 11:43:20,265] Trial 220 pruned. Trial was pruned at iteration 0.\n",
      "[I 2024-12-22 11:43:22,184] Trial 221 pruned. Trial was pruned at iteration 12.\n",
      "[I 2024-12-22 11:43:23,909] Trial 222 pruned. Trial was pruned at iteration 12.\n",
      "[I 2024-12-22 11:43:25,631] Trial 223 pruned. Trial was pruned at iteration 12.\n",
      "[I 2024-12-22 11:43:26,692] Trial 224 pruned. Trial was pruned at iteration 0.\n",
      "[I 2024-12-22 11:43:27,770] Trial 225 pruned. Trial was pruned at iteration 0.\n",
      "[I 2024-12-22 11:43:28,854] Trial 226 pruned. Trial was pruned at iteration 0.\n",
      "[I 2024-12-22 11:43:30,592] Trial 227 pruned. Trial was pruned at iteration 10.\n",
      "[I 2024-12-22 11:43:31,807] Trial 228 pruned. Trial was pruned at iteration 0.\n",
      "[I 2024-12-22 11:43:32,869] Trial 229 pruned. Trial was pruned at iteration 0.\n",
      "[I 2024-12-22 11:43:34,120] Trial 230 pruned. Trial was pruned at iteration 5.\n",
      "[I 2024-12-22 11:43:35,953] Trial 231 pruned. Trial was pruned at iteration 9.\n",
      "[I 2024-12-22 11:43:37,581] Trial 232 pruned. Trial was pruned at iteration 10.\n",
      "[I 2024-12-22 11:43:38,647] Trial 233 pruned. Trial was pruned at iteration 0.\n",
      "[I 2024-12-22 11:43:39,853] Trial 234 pruned. Trial was pruned at iteration 0.\n",
      "[I 2024-12-22 11:43:41,653] Trial 235 pruned. Trial was pruned at iteration 13.\n",
      "[I 2024-12-22 11:43:43,069] Trial 236 pruned. Trial was pruned at iteration 9.\n",
      "[I 2024-12-22 11:43:44,683] Trial 237 pruned. Trial was pruned at iteration 10.\n",
      "[I 2024-12-22 11:43:45,735] Trial 238 pruned. Trial was pruned at iteration 0.\n",
      "[I 2024-12-22 11:43:47,337] Trial 239 pruned. Trial was pruned at iteration 6.\n",
      "[I 2024-12-22 11:43:48,474] Trial 240 pruned. Trial was pruned at iteration 0.\n",
      "[I 2024-12-22 11:43:49,646] Trial 241 pruned. Trial was pruned at iteration 3.\n",
      "[I 2024-12-22 11:43:50,906] Trial 242 pruned. Trial was pruned at iteration 5.\n",
      "[I 2024-12-22 11:43:51,957] Trial 243 pruned. Trial was pruned at iteration 0.\n",
      "[I 2024-12-22 11:43:53,008] Trial 244 pruned. Trial was pruned at iteration 0.\n",
      "[I 2024-12-22 11:43:54,054] Trial 245 pruned. Trial was pruned at iteration 0.\n",
      "[I 2024-12-22 11:43:55,592] Trial 246 pruned. Trial was pruned at iteration 7.\n",
      "[I 2024-12-22 11:43:56,930] Trial 247 pruned. Trial was pruned at iteration 5.\n",
      "[I 2024-12-22 11:43:57,994] Trial 248 pruned. Trial was pruned at iteration 0.\n",
      "[I 2024-12-22 11:43:59,038] Trial 249 pruned. Trial was pruned at iteration 0.\n",
      "[I 2024-12-22 11:44:00,097] Trial 250 pruned. Trial was pruned at iteration 0.\n",
      "[I 2024-12-22 11:44:01,152] Trial 251 pruned. Trial was pruned at iteration 0.\n",
      "[I 2024-12-22 11:44:02,392] Trial 252 pruned. Trial was pruned at iteration 3.\n",
      "[I 2024-12-22 11:44:03,690] Trial 253 pruned. Trial was pruned at iteration 0.\n",
      "[I 2024-12-22 11:44:04,758] Trial 254 pruned. Trial was pruned at iteration 0.\n",
      "[I 2024-12-22 11:44:05,794] Trial 255 pruned. Trial was pruned at iteration 0.\n",
      "[I 2024-12-22 11:44:07,415] Trial 256 pruned. Trial was pruned at iteration 10.\n",
      "[I 2024-12-22 11:44:08,476] Trial 257 pruned. Trial was pruned at iteration 0.\n",
      "[I 2024-12-22 11:44:09,522] Trial 258 pruned. Trial was pruned at iteration 0.\n",
      "[I 2024-12-22 11:44:10,677] Trial 259 pruned. Trial was pruned at iteration 0.\n",
      "[I 2024-12-22 11:44:11,807] Trial 260 pruned. Trial was pruned at iteration 0.\n",
      "2024-12-22 11:44:13,914 - logger - INFO - Out-of-fold RMSLE: 1.0522\n",
      "[I 2024-12-22 11:44:13,914] Trial 261 finished with value: 1.052191937494924 and parameters: {'lambda': 183.59230572154684, 'max_depth': 9, 'min_child_weight': 9, 'eta': 0.24993118242690152}. Best is trial 45 with value: 1.052065022541493.\n",
      "[I 2024-12-22 11:44:14,994] Trial 262 pruned. Trial was pruned at iteration 0.\n",
      "[I 2024-12-22 11:44:16,730] Trial 263 pruned. Trial was pruned at iteration 12.\n",
      "2024-12-22 11:44:18,844 - logger - INFO - Out-of-fold RMSLE: 1.0521\n",
      "[I 2024-12-22 11:44:18,845] Trial 264 finished with value: 1.0521266936231262 and parameters: {'lambda': 194.32166149510252, 'max_depth': 9, 'min_child_weight': 9, 'eta': 0.2482906706149228}. Best is trial 45 with value: 1.052065022541493.\n",
      "[I 2024-12-22 11:44:19,935] Trial 265 pruned. Trial was pruned at iteration 0.\n",
      "[I 2024-12-22 11:44:20,989] Trial 266 pruned. Trial was pruned at iteration 0.\n",
      "[I 2024-12-22 11:44:22,199] Trial 267 pruned. Trial was pruned at iteration 0.\n",
      "[I 2024-12-22 11:44:23,258] Trial 268 pruned. Trial was pruned at iteration 0.\n",
      "[I 2024-12-22 11:44:24,317] Trial 269 pruned. Trial was pruned at iteration 0.\n",
      "[I 2024-12-22 11:44:26,056] Trial 270 pruned. Trial was pruned at iteration 8.\n",
      "[I 2024-12-22 11:44:27,109] Trial 271 pruned. Trial was pruned at iteration 0.\n",
      "[I 2024-12-22 11:44:28,186] Trial 272 pruned. Trial was pruned at iteration 0.\n",
      "[I 2024-12-22 11:44:29,377] Trial 273 pruned. Trial was pruned at iteration 0.\n",
      "[I 2024-12-22 11:44:30,447] Trial 274 pruned. Trial was pruned at iteration 0.\n",
      "[I 2024-12-22 11:44:31,513] Trial 275 pruned. Trial was pruned at iteration 0.\n",
      "[I 2024-12-22 11:44:32,608] Trial 276 pruned. Trial was pruned at iteration 0.\n",
      "[I 2024-12-22 11:44:34,261] Trial 277 pruned. Trial was pruned at iteration 10.\n",
      "[I 2024-12-22 11:44:35,332] Trial 278 pruned. Trial was pruned at iteration 0.\n",
      "[I 2024-12-22 11:44:37,009] Trial 279 pruned. Trial was pruned at iteration 9.\n",
      "[I 2024-12-22 11:44:38,311] Trial 280 pruned. Trial was pruned at iteration 0.\n",
      "[I 2024-12-22 11:44:39,352] Trial 281 pruned. Trial was pruned at iteration 0.\n",
      "[I 2024-12-22 11:44:40,414] Trial 282 pruned. Trial was pruned at iteration 0.\n",
      "[I 2024-12-22 11:44:41,447] Trial 283 pruned. Trial was pruned at iteration 0.\n",
      "[I 2024-12-22 11:44:43,186] Trial 284 pruned. Trial was pruned at iteration 8.\n",
      "[I 2024-12-22 11:44:44,246] Trial 285 pruned. Trial was pruned at iteration 0.\n",
      "[I 2024-12-22 11:44:45,413] Trial 286 pruned. Trial was pruned at iteration 0.\n",
      "[I 2024-12-22 11:44:46,692] Trial 287 pruned. Trial was pruned at iteration 0.\n",
      "[I 2024-12-22 11:44:47,742] Trial 288 pruned. Trial was pruned at iteration 0.\n",
      "[I 2024-12-22 11:44:48,856] Trial 289 pruned. Trial was pruned at iteration 2.\n",
      "[I 2024-12-22 11:44:49,909] Trial 290 pruned. Trial was pruned at iteration 0.\n",
      "[I 2024-12-22 11:44:50,986] Trial 291 pruned. Trial was pruned at iteration 1.\n",
      "[I 2024-12-22 11:44:52,489] Trial 292 pruned. Trial was pruned at iteration 5.\n",
      "[I 2024-12-22 11:44:53,666] Trial 293 pruned. Trial was pruned at iteration 0.\n",
      "[I 2024-12-22 11:44:54,961] Trial 294 pruned. Trial was pruned at iteration 0.\n",
      "[I 2024-12-22 11:44:55,994] Trial 295 pruned. Trial was pruned at iteration 0.\n",
      "[I 2024-12-22 11:44:57,028] Trial 296 pruned. Trial was pruned at iteration 0.\n",
      "[I 2024-12-22 11:44:58,084] Trial 297 pruned. Trial was pruned at iteration 0.\n",
      "[I 2024-12-22 11:44:59,131] Trial 298 pruned. Trial was pruned at iteration 0.\n",
      "[I 2024-12-22 11:45:00,872] Trial 299 pruned. Trial was pruned at iteration 12.\n",
      "[I 2024-12-22 11:45:02,362] Trial 300 pruned. Trial was pruned at iteration 6.\n",
      "[I 2024-12-22 11:45:03,495] Trial 301 pruned. Trial was pruned at iteration 0.\n",
      "[I 2024-12-22 11:45:04,540] Trial 302 pruned. Trial was pruned at iteration 0.\n",
      "[I 2024-12-22 11:45:05,986] Trial 303 pruned. Trial was pruned at iteration 7.\n",
      "[I 2024-12-22 11:45:07,059] Trial 304 pruned. Trial was pruned at iteration 0.\n",
      "[I 2024-12-22 11:45:08,452] Trial 305 pruned. Trial was pruned at iteration 6.\n",
      "[I 2024-12-22 11:45:10,312] Trial 306 pruned. Trial was pruned at iteration 8.\n",
      "[I 2024-12-22 11:45:11,940] Trial 307 pruned. Trial was pruned at iteration 4.\n",
      "[I 2024-12-22 11:45:12,941] Trial 308 pruned. Trial was pruned at iteration 0.\n",
      "[I 2024-12-22 11:45:14,592] Trial 309 pruned. Trial was pruned at iteration 11.\n",
      "[I 2024-12-22 11:45:15,592] Trial 310 pruned. Trial was pruned at iteration 0.\n",
      "[I 2024-12-22 11:45:17,112] Trial 311 pruned. Trial was pruned at iteration 9.\n",
      "[I 2024-12-22 11:45:18,471] Trial 312 pruned. Trial was pruned at iteration 6.\n",
      "[I 2024-12-22 11:45:19,481] Trial 313 pruned. Trial was pruned at iteration 0.\n",
      "[I 2024-12-22 11:45:20,735] Trial 314 pruned. Trial was pruned at iteration 0.\n",
      "[I 2024-12-22 11:45:21,787] Trial 315 pruned. Trial was pruned at iteration 0.\n",
      "[I 2024-12-22 11:45:22,850] Trial 316 pruned. Trial was pruned at iteration 0.\n",
      "[I 2024-12-22 11:45:24,575] Trial 317 pruned. Trial was pruned at iteration 11.\n",
      "[I 2024-12-22 11:45:25,652] Trial 318 pruned. Trial was pruned at iteration 0.\n",
      "[I 2024-12-22 11:45:26,702] Trial 319 pruned. Trial was pruned at iteration 0.\n",
      "[I 2024-12-22 11:45:27,819] Trial 320 pruned. Trial was pruned at iteration 2.\n",
      "[I 2024-12-22 11:45:29,597] Trial 321 pruned. Trial was pruned at iteration 13.\n",
      "[I 2024-12-22 11:45:30,701] Trial 322 pruned. Trial was pruned at iteration 0.\n",
      "[I 2024-12-22 11:45:31,756] Trial 323 pruned. Trial was pruned at iteration 0.\n",
      "[I 2024-12-22 11:45:32,809] Trial 324 pruned. Trial was pruned at iteration 0.\n",
      "[I 2024-12-22 11:45:33,882] Trial 325 pruned. Trial was pruned at iteration 0.\n",
      "[I 2024-12-22 11:45:34,913] Trial 326 pruned. Trial was pruned at iteration 0.\n",
      "[I 2024-12-22 11:45:36,328] Trial 327 pruned. Trial was pruned at iteration 6.\n",
      "[I 2024-12-22 11:45:38,081] Trial 328 pruned. Trial was pruned at iteration 11.\n",
      "[I 2024-12-22 11:45:39,197] Trial 329 pruned. Trial was pruned at iteration 0.\n",
      "[I 2024-12-22 11:45:40,247] Trial 330 pruned. Trial was pruned at iteration 0.\n",
      "[I 2024-12-22 11:45:41,297] Trial 331 pruned. Trial was pruned at iteration 0.\n",
      "[I 2024-12-22 11:45:42,333] Trial 332 pruned. Trial was pruned at iteration 0.\n",
      "[I 2024-12-22 11:45:43,410] Trial 333 pruned. Trial was pruned at iteration 0.\n",
      "[I 2024-12-22 11:45:44,457] Trial 334 pruned. Trial was pruned at iteration 0.\n",
      "[I 2024-12-22 11:45:46,008] Trial 335 pruned. Trial was pruned at iteration 6.\n",
      "2024-12-22 11:45:48,105 - logger - INFO - Out-of-fold RMSLE: 1.0522\n",
      "[I 2024-12-22 11:45:48,105] Trial 336 finished with value: 1.0522220522294448 and parameters: {'lambda': 189.49282767820483, 'max_depth': 9, 'min_child_weight': 10, 'eta': 0.24997456747858884}. Best is trial 45 with value: 1.052065022541493.\n",
      "2024-12-22 11:45:50,212 - logger - INFO - Out-of-fold RMSLE: 1.0522\n",
      "[I 2024-12-22 11:45:50,213] Trial 337 finished with value: 1.0522349775231727 and parameters: {'lambda': 188.56296528716115, 'max_depth': 9, 'min_child_weight': 10, 'eta': 0.248269484952899}. Best is trial 45 with value: 1.052065022541493.\n",
      "[I 2024-12-22 11:45:51,623] Trial 338 pruned. Trial was pruned at iteration 6.\n",
      "[I 2024-12-22 11:45:52,675] Trial 339 pruned. Trial was pruned at iteration 0.\n",
      "2024-12-22 11:45:54,766 - logger - INFO - Out-of-fold RMSLE: 1.0522\n",
      "[I 2024-12-22 11:45:54,767] Trial 340 finished with value: 1.0522329278391123 and parameters: {'lambda': 189.35845620327572, 'max_depth': 9, 'min_child_weight': 10, 'eta': 0.24991783192812148}. Best is trial 45 with value: 1.052065022541493.\n",
      "[I 2024-12-22 11:45:55,827] Trial 341 pruned. Trial was pruned at iteration 0.\n",
      "[I 2024-12-22 11:45:57,552] Trial 342 pruned. Trial was pruned at iteration 12.\n",
      "[I 2024-12-22 11:45:58,678] Trial 343 pruned. Trial was pruned at iteration 0.\n",
      "[I 2024-12-22 11:46:00,419] Trial 344 pruned. Trial was pruned at iteration 8.\n",
      "[I 2024-12-22 11:46:01,448] Trial 345 pruned. Trial was pruned at iteration 0.\n",
      "[I 2024-12-22 11:46:02,499] Trial 346 pruned. Trial was pruned at iteration 0.\n",
      "[I 2024-12-22 11:46:03,551] Trial 347 pruned. Trial was pruned at iteration 0.\n",
      "[I 2024-12-22 11:46:04,604] Trial 348 pruned. Trial was pruned at iteration 0.\n",
      "[I 2024-12-22 11:46:05,814] Trial 349 pruned. Trial was pruned at iteration 0.\n",
      "[I 2024-12-22 11:46:06,859] Trial 350 pruned. Trial was pruned at iteration 0.\n",
      "[I 2024-12-22 11:46:07,906] Trial 351 pruned. Trial was pruned at iteration 0.\n",
      "[I 2024-12-22 11:46:08,938] Trial 352 pruned. Trial was pruned at iteration 0.\n",
      "[I 2024-12-22 11:46:09,987] Trial 353 pruned. Trial was pruned at iteration 0.\n",
      "[I 2024-12-22 11:46:11,036] Trial 354 pruned. Trial was pruned at iteration 0.\n",
      "[I 2024-12-22 11:46:12,323] Trial 355 pruned. Trial was pruned at iteration 4.\n",
      "[I 2024-12-22 11:46:13,490] Trial 356 pruned. Trial was pruned at iteration 0.\n",
      "[I 2024-12-22 11:46:14,535] Trial 357 pruned. Trial was pruned at iteration 0.\n",
      "[I 2024-12-22 11:46:15,600] Trial 358 pruned. Trial was pruned at iteration 0.\n",
      "2024-12-22 11:46:17,723 - logger - INFO - Out-of-fold RMSLE: 1.0522\n",
      "[I 2024-12-22 11:46:17,724] Trial 359 finished with value: 1.0521827683454765 and parameters: {'lambda': 197.08319843383177, 'max_depth': 9, 'min_child_weight': 5, 'eta': 0.24997595916056628}. Best is trial 45 with value: 1.052065022541493.\n",
      "[I 2024-12-22 11:46:18,798] Trial 360 pruned. Trial was pruned at iteration 0.\n",
      "[I 2024-12-22 11:46:19,842] Trial 361 pruned. Trial was pruned at iteration 0.\n",
      "[I 2024-12-22 11:46:20,968] Trial 362 pruned. Trial was pruned at iteration 0.\n",
      "[I 2024-12-22 11:46:22,543] Trial 363 pruned. Trial was pruned at iteration 8.\n",
      "[I 2024-12-22 11:46:23,583] Trial 364 pruned. Trial was pruned at iteration 0.\n",
      "[I 2024-12-22 11:46:25,094] Trial 365 pruned. Trial was pruned at iteration 8.\n",
      "[I 2024-12-22 11:46:26,155] Trial 366 pruned. Trial was pruned at iteration 0.\n",
      "[I 2024-12-22 11:46:27,238] Trial 367 pruned. Trial was pruned at iteration 1.\n",
      "[I 2024-12-22 11:46:28,370] Trial 368 pruned. Trial was pruned at iteration 0.\n",
      "[I 2024-12-22 11:46:30,253] Trial 369 pruned. Trial was pruned at iteration 9.\n",
      "[I 2024-12-22 11:46:31,292] Trial 370 pruned. Trial was pruned at iteration 0.\n",
      "[I 2024-12-22 11:46:32,682] Trial 371 pruned. Trial was pruned at iteration 6.\n",
      "[I 2024-12-22 11:46:33,734] Trial 372 pruned. Trial was pruned at iteration 0.\n",
      "[I 2024-12-22 11:46:35,362] Trial 373 pruned. Trial was pruned at iteration 10.\n",
      "[I 2024-12-22 11:46:36,680] Trial 374 pruned. Trial was pruned at iteration 4.\n",
      "[I 2024-12-22 11:46:37,811] Trial 375 pruned. Trial was pruned at iteration 0.\n",
      "[I 2024-12-22 11:46:38,863] Trial 376 pruned. Trial was pruned at iteration 0.\n",
      "[I 2024-12-22 11:46:40,482] Trial 377 pruned. Trial was pruned at iteration 6.\n",
      "[I 2024-12-22 11:46:41,560] Trial 378 pruned. Trial was pruned at iteration 0.\n",
      "[I 2024-12-22 11:46:42,637] Trial 379 pruned. Trial was pruned at iteration 0.\n",
      "[I 2024-12-22 11:46:43,843] Trial 380 pruned. Trial was pruned at iteration 0.\n",
      "[I 2024-12-22 11:46:45,004] Trial 381 pruned. Trial was pruned at iteration 0.\n",
      "[I 2024-12-22 11:46:46,072] Trial 382 pruned. Trial was pruned at iteration 0.\n",
      "[I 2024-12-22 11:46:47,135] Trial 383 pruned. Trial was pruned at iteration 0.\n",
      "[I 2024-12-22 11:46:48,362] Trial 384 pruned. Trial was pruned at iteration 3.\n",
      "[I 2024-12-22 11:46:49,781] Trial 385 pruned. Trial was pruned at iteration 6.\n",
      "[I 2024-12-22 11:46:50,956] Trial 386 pruned. Trial was pruned at iteration 0.\n",
      "[I 2024-12-22 11:46:52,686] Trial 387 pruned. Trial was pruned at iteration 6.\n",
      "[I 2024-12-22 11:46:54,070] Trial 388 pruned. Trial was pruned at iteration 6.\n",
      "[I 2024-12-22 11:46:55,102] Trial 389 pruned. Trial was pruned at iteration 0.\n",
      "[I 2024-12-22 11:46:56,148] Trial 390 pruned. Trial was pruned at iteration 0.\n",
      "[I 2024-12-22 11:46:57,888] Trial 391 pruned. Trial was pruned at iteration 8.\n",
      "[I 2024-12-22 11:46:58,924] Trial 392 pruned. Trial was pruned at iteration 0.\n",
      "[I 2024-12-22 11:46:59,986] Trial 393 pruned. Trial was pruned at iteration 0.\n",
      "[I 2024-12-22 11:47:01,115] Trial 394 pruned. Trial was pruned at iteration 0.\n",
      "[I 2024-12-22 11:47:02,149] Trial 395 pruned. Trial was pruned at iteration 0.\n",
      "[I 2024-12-22 11:47:03,207] Trial 396 pruned. Trial was pruned at iteration 0.\n",
      "[I 2024-12-22 11:47:04,263] Trial 397 pruned. Trial was pruned at iteration 0.\n",
      "[I 2024-12-22 11:47:05,386] Trial 398 pruned. Trial was pruned at iteration 2.\n",
      "[I 2024-12-22 11:47:06,954] Trial 399 pruned. Trial was pruned at iteration 8.\n",
      "[I 2024-12-22 11:47:08,071] Trial 400 pruned. Trial was pruned at iteration 0.\n",
      "[I 2024-12-22 11:47:09,146] Trial 401 pruned. Trial was pruned at iteration 0.\n",
      "[I 2024-12-22 11:47:10,190] Trial 402 pruned. Trial was pruned at iteration 0.\n",
      "[I 2024-12-22 11:47:11,232] Trial 403 pruned. Trial was pruned at iteration 0.\n",
      "[I 2024-12-22 11:47:12,264] Trial 404 pruned. Trial was pruned at iteration 0.\n",
      "[I 2024-12-22 11:47:13,945] Trial 405 pruned. Trial was pruned at iteration 10.\n",
      "[I 2024-12-22 11:47:15,155] Trial 406 pruned. Trial was pruned at iteration 0.\n",
      "[I 2024-12-22 11:47:16,201] Trial 407 pruned. Trial was pruned at iteration 0.\n",
      "[I 2024-12-22 11:47:17,713] Trial 408 pruned. Trial was pruned at iteration 8.\n",
      "2024-12-22 11:47:19,810 - logger - INFO - Out-of-fold RMSLE: 1.0521\n",
      "[I 2024-12-22 11:47:19,810] Trial 409 finished with value: 1.0521474207363393 and parameters: {'lambda': 186.0179496350655, 'max_depth': 9, 'min_child_weight': 10, 'eta': 0.24993894389778556}. Best is trial 45 with value: 1.052065022541493.\n",
      "[I 2024-12-22 11:47:21,452] Trial 410 pruned. Trial was pruned at iteration 10.\n",
      "[I 2024-12-22 11:47:23,112] Trial 411 pruned. Trial was pruned at iteration 11.\n",
      "[I 2024-12-22 11:47:24,155] Trial 412 pruned. Trial was pruned at iteration 0.\n",
      "[I 2024-12-22 11:47:25,359] Trial 413 pruned. Trial was pruned at iteration 0.\n",
      "[I 2024-12-22 11:47:26,406] Trial 414 pruned. Trial was pruned at iteration 0.\n",
      "[I 2024-12-22 11:47:27,450] Trial 415 pruned. Trial was pruned at iteration 0.\n",
      "[I 2024-12-22 11:47:28,491] Trial 416 pruned. Trial was pruned at iteration 0.\n",
      "[I 2024-12-22 11:47:29,829] Trial 417 pruned. Trial was pruned at iteration 5.\n",
      "[I 2024-12-22 11:47:31,248] Trial 418 pruned. Trial was pruned at iteration 6.\n",
      "[I 2024-12-22 11:47:33,237] Trial 419 pruned. Trial was pruned at iteration 14.\n",
      "[I 2024-12-22 11:47:34,516] Trial 420 pruned. Trial was pruned at iteration 4.\n",
      "[I 2024-12-22 11:47:35,566] Trial 421 pruned. Trial was pruned at iteration 0.\n",
      "[I 2024-12-22 11:47:37,076] Trial 422 pruned. Trial was pruned at iteration 8.\n",
      "[I 2024-12-22 11:47:38,129] Trial 423 pruned. Trial was pruned at iteration 0.\n",
      "[I 2024-12-22 11:47:39,180] Trial 424 pruned. Trial was pruned at iteration 0.\n",
      "[I 2024-12-22 11:47:40,315] Trial 425 pruned. Trial was pruned at iteration 0.\n",
      "[I 2024-12-22 11:47:42,131] Trial 426 pruned. Trial was pruned at iteration 12.\n",
      "[I 2024-12-22 11:47:43,167] Trial 427 pruned. Trial was pruned at iteration 0.\n",
      "[I 2024-12-22 11:47:44,231] Trial 428 pruned. Trial was pruned at iteration 0.\n",
      "[I 2024-12-22 11:47:45,273] Trial 429 pruned. Trial was pruned at iteration 0.\n",
      "[I 2024-12-22 11:47:46,328] Trial 430 pruned. Trial was pruned at iteration 0.\n",
      "[I 2024-12-22 11:47:47,462] Trial 431 pruned. Trial was pruned at iteration 0.\n",
      "[I 2024-12-22 11:47:48,699] Trial 432 pruned. Trial was pruned at iteration 0.\n",
      "[I 2024-12-22 11:47:49,746] Trial 433 pruned. Trial was pruned at iteration 0.\n",
      "[I 2024-12-22 11:47:51,133] Trial 434 pruned. Trial was pruned at iteration 6.\n",
      "[I 2024-12-22 11:47:52,175] Trial 435 pruned. Trial was pruned at iteration 0.\n",
      "[I 2024-12-22 11:47:53,225] Trial 436 pruned. Trial was pruned at iteration 0.\n",
      "[I 2024-12-22 11:47:54,628] Trial 437 pruned. Trial was pruned at iteration 6.\n",
      "[I 2024-12-22 11:47:55,747] Trial 438 pruned. Trial was pruned at iteration 0.\n",
      "[I 2024-12-22 11:47:57,347] Trial 439 pruned. Trial was pruned at iteration 8.\n",
      "[I 2024-12-22 11:47:58,400] Trial 440 pruned. Trial was pruned at iteration 0.\n",
      "[I 2024-12-22 11:48:00,147] Trial 441 pruned. Trial was pruned at iteration 12.\n",
      "[I 2024-12-22 11:48:01,215] Trial 442 pruned. Trial was pruned at iteration 0.\n",
      "[I 2024-12-22 11:48:02,283] Trial 443 pruned. Trial was pruned at iteration 0.\n",
      "[I 2024-12-22 11:48:03,417] Trial 444 pruned. Trial was pruned at iteration 0.\n",
      "[I 2024-12-22 11:48:04,555] Trial 445 pruned. Trial was pruned at iteration 0.\n",
      "[I 2024-12-22 11:48:05,622] Trial 446 pruned. Trial was pruned at iteration 0.\n",
      "[I 2024-12-22 11:48:06,660] Trial 447 pruned. Trial was pruned at iteration 0.\n",
      "[I 2024-12-22 11:48:08,178] Trial 448 pruned. Trial was pruned at iteration 8.\n",
      "[I 2024-12-22 11:48:09,223] Trial 449 pruned. Trial was pruned at iteration 0.\n",
      "[I 2024-12-22 11:48:10,352] Trial 450 pruned. Trial was pruned at iteration 0.\n",
      "[I 2024-12-22 11:48:11,627] Trial 451 pruned. Trial was pruned at iteration 0.\n",
      "[I 2024-12-22 11:48:12,683] Trial 452 pruned. Trial was pruned at iteration 0.\n",
      "[I 2024-12-22 11:48:13,726] Trial 453 pruned. Trial was pruned at iteration 0.\n",
      "[I 2024-12-22 11:48:14,808] Trial 454 pruned. Trial was pruned at iteration 1.\n",
      "[I 2024-12-22 11:48:15,879] Trial 455 pruned. Trial was pruned at iteration 0.\n",
      "[I 2024-12-22 11:48:17,288] Trial 456 pruned. Trial was pruned at iteration 6.\n",
      "[I 2024-12-22 11:48:19,069] Trial 457 pruned. Trial was pruned at iteration 11.\n",
      "[I 2024-12-22 11:48:20,150] Trial 458 pruned. Trial was pruned at iteration 0.\n",
      "[I 2024-12-22 11:48:21,231] Trial 459 pruned. Trial was pruned at iteration 0.\n",
      "[I 2024-12-22 11:48:22,929] Trial 460 pruned. Trial was pruned at iteration 11.\n",
      "[I 2024-12-22 11:48:24,007] Trial 461 pruned. Trial was pruned at iteration 0.\n",
      "[I 2024-12-22 11:48:25,077] Trial 462 pruned. Trial was pruned at iteration 0.\n",
      "[I 2024-12-22 11:48:26,288] Trial 463 pruned. Trial was pruned at iteration 0.\n",
      "[I 2024-12-22 11:48:27,690] Trial 464 pruned. Trial was pruned at iteration 0.\n",
      "[I 2024-12-22 11:48:28,773] Trial 465 pruned. Trial was pruned at iteration 2.\n",
      "[I 2024-12-22 11:48:29,787] Trial 466 pruned. Trial was pruned at iteration 0.\n",
      "[I 2024-12-22 11:48:30,742] Trial 467 pruned. Trial was pruned at iteration 0.\n",
      "[I 2024-12-22 11:48:31,710] Trial 468 pruned. Trial was pruned at iteration 0.\n",
      "[I 2024-12-22 11:48:33,195] Trial 469 pruned. Trial was pruned at iteration 10.\n",
      "[I 2024-12-22 11:48:34,175] Trial 470 pruned. Trial was pruned at iteration 0.\n",
      "[I 2024-12-22 11:48:35,290] Trial 471 pruned. Trial was pruned at iteration 1.\n",
      "[I 2024-12-22 11:48:36,712] Trial 472 pruned. Trial was pruned at iteration 7.\n",
      "[I 2024-12-22 11:48:37,774] Trial 473 pruned. Trial was pruned at iteration 0.\n",
      "[I 2024-12-22 11:48:39,181] Trial 474 pruned. Trial was pruned at iteration 6.\n",
      "[I 2024-12-22 11:48:40,436] Trial 475 pruned. Trial was pruned at iteration 4.\n",
      "[I 2024-12-22 11:48:41,561] Trial 476 pruned. Trial was pruned at iteration 0.\n",
      "[I 2024-12-22 11:48:42,711] Trial 477 pruned. Trial was pruned at iteration 1.\n",
      "[I 2024-12-22 11:48:43,742] Trial 478 pruned. Trial was pruned at iteration 0.\n",
      "[I 2024-12-22 11:48:44,776] Trial 479 pruned. Trial was pruned at iteration 0.\n",
      "[I 2024-12-22 11:48:45,791] Trial 480 pruned. Trial was pruned at iteration 0.\n",
      "[I 2024-12-22 11:48:47,038] Trial 481 pruned. Trial was pruned at iteration 4.\n",
      "[I 2024-12-22 11:48:48,135] Trial 482 pruned. Trial was pruned at iteration 0.\n",
      "[I 2024-12-22 11:48:49,370] Trial 483 pruned. Trial was pruned at iteration 0.\n",
      "[I 2024-12-22 11:48:50,399] Trial 484 pruned. Trial was pruned at iteration 0.\n",
      "[I 2024-12-22 11:48:51,413] Trial 485 pruned. Trial was pruned at iteration 0.\n",
      "[I 2024-12-22 11:48:52,441] Trial 486 pruned. Trial was pruned at iteration 0.\n",
      "[I 2024-12-22 11:48:53,468] Trial 487 pruned. Trial was pruned at iteration 0.\n",
      "[I 2024-12-22 11:48:54,490] Trial 488 pruned. Trial was pruned at iteration 0.\n",
      "[I 2024-12-22 11:48:55,601] Trial 489 pruned. Trial was pruned at iteration 0.\n",
      "[I 2024-12-22 11:48:56,711] Trial 490 pruned. Trial was pruned at iteration 0.\n",
      "[I 2024-12-22 11:48:57,721] Trial 491 pruned. Trial was pruned at iteration 0.\n",
      "[I 2024-12-22 11:48:59,277] Trial 492 pruned. Trial was pruned at iteration 10.\n",
      "[I 2024-12-22 11:49:00,305] Trial 493 pruned. Trial was pruned at iteration 0.\n",
      "[I 2024-12-22 11:49:01,333] Trial 494 pruned. Trial was pruned at iteration 0.\n",
      "[I 2024-12-22 11:49:03,100] Trial 495 pruned. Trial was pruned at iteration 13.\n",
      "[I 2024-12-22 11:49:04,336] Trial 496 pruned. Trial was pruned at iteration 0.\n",
      "[I 2024-12-22 11:49:05,368] Trial 497 pruned. Trial was pruned at iteration 0.\n",
      "[I 2024-12-22 11:49:06,382] Trial 498 pruned. Trial was pruned at iteration 0.\n",
      "[I 2024-12-22 11:49:07,398] Trial 499 pruned. Trial was pruned at iteration 0.\n",
      "[I 2024-12-22 11:49:08,745] Trial 500 pruned. Trial was pruned at iteration 6.\n",
      "[I 2024-12-22 11:49:09,785] Trial 501 pruned. Trial was pruned at iteration 0.\n",
      "[I 2024-12-22 11:49:11,259] Trial 502 pruned. Trial was pruned at iteration 7.\n",
      "[I 2024-12-22 11:49:12,372] Trial 503 pruned. Trial was pruned at iteration 0.\n",
      "[I 2024-12-22 11:49:13,728] Trial 504 pruned. Trial was pruned at iteration 6.\n",
      "[I 2024-12-22 11:49:15,177] Trial 505 pruned. Trial was pruned at iteration 8.\n",
      "[I 2024-12-22 11:49:16,198] Trial 506 pruned. Trial was pruned at iteration 0.\n",
      "[I 2024-12-22 11:49:17,248] Trial 507 pruned. Trial was pruned at iteration 0.\n",
      "[I 2024-12-22 11:49:18,366] Trial 508 pruned. Trial was pruned at iteration 0.\n",
      "[I 2024-12-22 11:49:19,394] Trial 509 pruned. Trial was pruned at iteration 0.\n",
      "[I 2024-12-22 11:49:20,427] Trial 510 pruned. Trial was pruned at iteration 0.\n",
      "2024-12-22 11:49:22,412 - logger - INFO - Out-of-fold RMSLE: 1.0521\n",
      "[I 2024-12-22 11:49:22,413] Trial 511 finished with value: 1.0521424054056012 and parameters: {'lambda': 186.0475127969662, 'max_depth': 9, 'min_child_weight': 10, 'eta': 0.24845390578304163}. Best is trial 45 with value: 1.052065022541493.\n",
      "[I 2024-12-22 11:49:24,126] Trial 512 pruned. Trial was pruned at iteration 13.\n",
      "[I 2024-12-22 11:49:25,159] Trial 513 pruned. Trial was pruned at iteration 0.\n",
      "[I 2024-12-22 11:49:26,210] Trial 514 pruned. Trial was pruned at iteration 0.\n",
      "[I 2024-12-22 11:49:27,320] Trial 515 pruned. Trial was pruned at iteration 0.\n",
      "[I 2024-12-22 11:49:28,635] Trial 516 pruned. Trial was pruned at iteration 4.\n",
      "[I 2024-12-22 11:49:29,664] Trial 517 pruned. Trial was pruned at iteration 0.\n",
      "[I 2024-12-22 11:49:30,710] Trial 518 pruned. Trial was pruned at iteration 0.\n",
      "[I 2024-12-22 11:49:32,157] Trial 519 pruned. Trial was pruned at iteration 8.\n",
      "[I 2024-12-22 11:49:33,728] Trial 520 pruned. Trial was pruned at iteration 10.\n",
      "[I 2024-12-22 11:49:34,822] Trial 521 pruned. Trial was pruned at iteration 0.\n",
      "[I 2024-12-22 11:49:35,930] Trial 522 pruned. Trial was pruned at iteration 0.\n",
      "[I 2024-12-22 11:49:37,376] Trial 523 pruned. Trial was pruned at iteration 8.\n",
      "[I 2024-12-22 11:49:38,392] Trial 524 pruned. Trial was pruned at iteration 0.\n",
      "[I 2024-12-22 11:49:39,436] Trial 525 pruned. Trial was pruned at iteration 0.\n",
      "[I 2024-12-22 11:49:40,480] Trial 526 pruned. Trial was pruned at iteration 0.\n",
      "[I 2024-12-22 11:49:42,053] Trial 527 pruned. Trial was pruned at iteration 9.\n",
      "[I 2024-12-22 11:49:43,308] Trial 528 pruned. Trial was pruned at iteration 0.\n",
      "[I 2024-12-22 11:49:44,356] Trial 529 pruned. Trial was pruned at iteration 0.\n",
      "[I 2024-12-22 11:49:45,611] Trial 530 pruned. Trial was pruned at iteration 4.\n",
      "[I 2024-12-22 11:49:46,644] Trial 531 pruned. Trial was pruned at iteration 0.\n",
      "[I 2024-12-22 11:49:47,692] Trial 532 pruned. Trial was pruned at iteration 0.\n",
      "[I 2024-12-22 11:49:48,841] Trial 533 pruned. Trial was pruned at iteration 2.\n",
      "[I 2024-12-22 11:49:49,974] Trial 534 pruned. Trial was pruned at iteration 0.\n",
      "[I 2024-12-22 11:49:51,107] Trial 535 pruned. Trial was pruned at iteration 0.\n",
      "[I 2024-12-22 11:49:52,139] Trial 536 pruned. Trial was pruned at iteration 0.\n",
      "[I 2024-12-22 11:49:53,151] Trial 537 pruned. Trial was pruned at iteration 0.\n",
      "[I 2024-12-22 11:49:54,187] Trial 538 pruned. Trial was pruned at iteration 0.\n",
      "[I 2024-12-22 11:49:55,217] Trial 539 pruned. Trial was pruned at iteration 0.\n",
      "[I 2024-12-22 11:49:56,321] Trial 540 pruned. Trial was pruned at iteration 0.\n",
      "[I 2024-12-22 11:49:57,654] Trial 541 pruned. Trial was pruned at iteration 0.\n",
      "[I 2024-12-22 11:49:59,096] Trial 542 pruned. Trial was pruned at iteration 8.\n",
      "[I 2024-12-22 11:50:00,109] Trial 543 pruned. Trial was pruned at iteration 0.\n",
      "[I 2024-12-22 11:50:01,136] Trial 544 pruned. Trial was pruned at iteration 0.\n",
      "[I 2024-12-22 11:50:02,686] Trial 545 pruned. Trial was pruned at iteration 10.\n",
      "[I 2024-12-22 11:50:03,785] Trial 546 pruned. Trial was pruned at iteration 2.\n",
      "[I 2024-12-22 11:50:04,907] Trial 547 pruned. Trial was pruned at iteration 1.\n",
      "[I 2024-12-22 11:50:06,022] Trial 548 pruned. Trial was pruned at iteration 0.\n",
      "[I 2024-12-22 11:50:07,043] Trial 549 pruned. Trial was pruned at iteration 0.\n",
      "[I 2024-12-22 11:50:08,106] Trial 550 pruned. Trial was pruned at iteration 0.\n",
      "[I 2024-12-22 11:50:09,143] Trial 551 pruned. Trial was pruned at iteration 0.\n",
      "[I 2024-12-22 11:50:10,590] Trial 552 pruned. Trial was pruned at iteration 8.\n",
      "[I 2024-12-22 11:50:11,640] Trial 553 pruned. Trial was pruned at iteration 0.\n",
      "[I 2024-12-22 11:50:12,847] Trial 554 pruned. Trial was pruned at iteration 0.\n",
      "[I 2024-12-22 11:50:13,867] Trial 555 pruned. Trial was pruned at iteration 0.\n",
      "[I 2024-12-22 11:50:14,912] Trial 556 pruned. Trial was pruned at iteration 0.\n",
      "[I 2024-12-22 11:50:15,956] Trial 557 pruned. Trial was pruned at iteration 0.\n",
      "[I 2024-12-22 11:50:16,980] Trial 558 pruned. Trial was pruned at iteration 0.\n",
      "[I 2024-12-22 11:50:18,241] Trial 559 pruned. Trial was pruned at iteration 4.\n",
      "[I 2024-12-22 11:50:19,310] Trial 560 pruned. Trial was pruned at iteration 0.\n",
      "[I 2024-12-22 11:50:20,420] Trial 561 pruned. Trial was pruned at iteration 0.\n",
      "[I 2024-12-22 11:50:21,440] Trial 562 pruned. Trial was pruned at iteration 0.\n",
      "[I 2024-12-22 11:50:22,789] Trial 563 pruned. Trial was pruned at iteration 6.\n",
      "2024-12-22 11:50:24,781 - logger - INFO - Out-of-fold RMSLE: 1.0522\n",
      "[I 2024-12-22 11:50:24,782] Trial 564 finished with value: 1.0521696109764485 and parameters: {'lambda': 191.49309636383265, 'max_depth': 9, 'min_child_weight': 9, 'eta': 0.24989860916354575}. Best is trial 45 with value: 1.052065022541493.\n",
      "[I 2024-12-22 11:50:26,503] Trial 565 pruned. Trial was pruned at iteration 13.\n",
      "[I 2024-12-22 11:50:28,200] Trial 566 pruned. Trial was pruned at iteration 13.\n",
      "[I 2024-12-22 11:50:29,331] Trial 567 pruned. Trial was pruned at iteration 0.\n",
      "[I 2024-12-22 11:50:30,369] Trial 568 pruned. Trial was pruned at iteration 0.\n",
      "[I 2024-12-22 11:50:31,426] Trial 569 pruned. Trial was pruned at iteration 0.\n",
      "[I 2024-12-22 11:50:32,461] Trial 570 pruned. Trial was pruned at iteration 0.\n",
      "[I 2024-12-22 11:50:34,020] Trial 571 pruned. Trial was pruned at iteration 10.\n",
      "[I 2024-12-22 11:50:35,712] Trial 572 pruned. Trial was pruned at iteration 13.\n",
      "[I 2024-12-22 11:50:36,821] Trial 573 pruned. Trial was pruned at iteration 0.\n",
      "[I 2024-12-22 11:50:37,934] Trial 574 pruned. Trial was pruned at iteration 0.\n",
      "[I 2024-12-22 11:50:38,969] Trial 575 pruned. Trial was pruned at iteration 0.\n",
      "[I 2024-12-22 11:50:40,005] Trial 576 pruned. Trial was pruned at iteration 0.\n",
      "[I 2024-12-22 11:50:41,053] Trial 577 pruned. Trial was pruned at iteration 0.\n",
      "[I 2024-12-22 11:50:42,090] Trial 578 pruned. Trial was pruned at iteration 0.\n",
      "[I 2024-12-22 11:50:43,209] Trial 579 pruned. Trial was pruned at iteration 0.\n",
      "[I 2024-12-22 11:50:44,469] Trial 580 pruned. Trial was pruned at iteration 0.\n",
      "[I 2024-12-22 11:50:45,869] Trial 581 pruned. Trial was pruned at iteration 7.\n",
      "[I 2024-12-22 11:50:46,906] Trial 582 pruned. Trial was pruned at iteration 0.\n",
      "[I 2024-12-22 11:50:48,302] Trial 583 pruned. Trial was pruned at iteration 7.\n",
      "[I 2024-12-22 11:50:49,355] Trial 584 pruned. Trial was pruned at iteration 0.\n",
      "[I 2024-12-22 11:50:50,939] Trial 585 pruned. Trial was pruned at iteration 10.\n",
      "[I 2024-12-22 11:50:52,087] Trial 586 pruned. Trial was pruned at iteration 0.\n",
      "[I 2024-12-22 11:50:53,213] Trial 587 pruned. Trial was pruned at iteration 0.\n",
      "[I 2024-12-22 11:50:54,929] Trial 588 pruned. Trial was pruned at iteration 13.\n",
      "[I 2024-12-22 11:50:55,991] Trial 589 pruned. Trial was pruned at iteration 0.\n",
      "[I 2024-12-22 11:50:57,051] Trial 590 pruned. Trial was pruned at iteration 0.\n",
      "[I 2024-12-22 11:50:58,116] Trial 591 pruned. Trial was pruned at iteration 0.\n",
      "[I 2024-12-22 11:50:59,299] Trial 592 pruned. Trial was pruned at iteration 0.\n",
      "[I 2024-12-22 11:51:00,563] Trial 593 pruned. Trial was pruned at iteration 0.\n",
      "[I 2024-12-22 11:51:02,014] Trial 594 pruned. Trial was pruned at iteration 8.\n",
      "[I 2024-12-22 11:51:03,052] Trial 595 pruned. Trial was pruned at iteration 0.\n",
      "[I 2024-12-22 11:51:04,549] Trial 596 pruned. Trial was pruned at iteration 9.\n",
      "[I 2024-12-22 11:51:05,589] Trial 597 pruned. Trial was pruned at iteration 0.\n",
      "[I 2024-12-22 11:51:07,288] Trial 598 pruned. Trial was pruned at iteration 13.\n",
      "[I 2024-12-22 11:51:08,504] Trial 599 pruned. Trial was pruned at iteration 0.\n",
      "[I 2024-12-22 11:51:09,544] Trial 600 pruned. Trial was pruned at iteration 0.\n",
      "[I 2024-12-22 11:51:10,966] Trial 601 pruned. Trial was pruned at iteration 7.\n",
      "[I 2024-12-22 11:51:11,996] Trial 602 pruned. Trial was pruned at iteration 0.\n",
      "[I 2024-12-22 11:51:13,047] Trial 603 pruned. Trial was pruned at iteration 0.\n",
      "[I 2024-12-22 11:51:14,760] Trial 604 pruned. Trial was pruned at iteration 13.\n",
      "[I 2024-12-22 11:51:15,903] Trial 605 pruned. Trial was pruned at iteration 0.\n",
      "[I 2024-12-22 11:51:17,274] Trial 606 pruned. Trial was pruned at iteration 0.\n",
      "[I 2024-12-22 11:51:18,615] Trial 607 pruned. Trial was pruned at iteration 6.\n",
      "[I 2024-12-22 11:51:19,646] Trial 608 pruned. Trial was pruned at iteration 0.\n",
      "[I 2024-12-22 11:51:20,680] Trial 609 pruned. Trial was pruned at iteration 0.\n",
      "[I 2024-12-22 11:51:21,712] Trial 610 pruned. Trial was pruned at iteration 0.\n",
      "[I 2024-12-22 11:51:22,750] Trial 611 pruned. Trial was pruned at iteration 0.\n",
      "[I 2024-12-22 11:51:23,876] Trial 612 pruned. Trial was pruned at iteration 0.\n",
      "[I 2024-12-22 11:51:25,756] Trial 613 pruned. Trial was pruned at iteration 10.\n",
      "[I 2024-12-22 11:51:26,802] Trial 614 pruned. Trial was pruned at iteration 0.\n",
      "[I 2024-12-22 11:51:27,782] Trial 615 pruned. Trial was pruned at iteration 0.\n",
      "[I 2024-12-22 11:51:28,776] Trial 616 pruned. Trial was pruned at iteration 0.\n",
      "[I 2024-12-22 11:51:30,029] Trial 617 pruned. Trial was pruned at iteration 5.\n",
      "[I 2024-12-22 11:51:31,245] Trial 618 pruned. Trial was pruned at iteration 4.\n",
      "[I 2024-12-22 11:51:32,386] Trial 619 pruned. Trial was pruned at iteration 0.\n",
      "[I 2024-12-22 11:51:33,645] Trial 620 pruned. Trial was pruned at iteration 0.\n",
      "[I 2024-12-22 11:51:35,038] Trial 621 pruned. Trial was pruned at iteration 7.\n",
      "[I 2024-12-22 11:51:36,054] Trial 622 pruned. Trial was pruned at iteration 0.\n",
      "[I 2024-12-22 11:51:37,089] Trial 623 pruned. Trial was pruned at iteration 0.\n",
      "[I 2024-12-22 11:51:38,529] Trial 624 pruned. Trial was pruned at iteration 8.\n",
      "[I 2024-12-22 11:51:39,577] Trial 625 pruned. Trial was pruned at iteration 0.\n",
      "[I 2024-12-22 11:51:40,794] Trial 626 pruned. Trial was pruned at iteration 0.\n",
      "[I 2024-12-22 11:51:41,828] Trial 627 pruned. Trial was pruned at iteration 0.\n",
      "[I 2024-12-22 11:51:42,864] Trial 628 pruned. Trial was pruned at iteration 0.\n",
      "[I 2024-12-22 11:51:43,913] Trial 629 pruned. Trial was pruned at iteration 0.\n",
      "[I 2024-12-22 11:51:44,948] Trial 630 pruned. Trial was pruned at iteration 0.\n",
      "[I 2024-12-22 11:51:46,292] Trial 631 pruned. Trial was pruned at iteration 6.\n",
      "[I 2024-12-22 11:51:47,736] Trial 632 pruned. Trial was pruned at iteration 7.\n",
      "[I 2024-12-22 11:51:48,924] Trial 633 pruned. Trial was pruned at iteration 0.\n",
      "[I 2024-12-22 11:51:49,955] Trial 634 pruned. Trial was pruned at iteration 0.\n",
      "[I 2024-12-22 11:51:50,988] Trial 635 pruned. Trial was pruned at iteration 0.\n",
      "[I 2024-12-22 11:51:52,026] Trial 636 pruned. Trial was pruned at iteration 0.\n",
      "[I 2024-12-22 11:51:53,059] Trial 637 pruned. Trial was pruned at iteration 0.\n",
      "[I 2024-12-22 11:51:54,098] Trial 638 pruned. Trial was pruned at iteration 0.\n",
      "[I 2024-12-22 11:51:55,165] Trial 639 pruned. Trial was pruned at iteration 0.\n",
      "[I 2024-12-22 11:51:56,702] Trial 640 pruned. Trial was pruned at iteration 6.\n",
      "[I 2024-12-22 11:51:57,740] Trial 641 pruned. Trial was pruned at iteration 0.\n",
      "[I 2024-12-22 11:51:58,792] Trial 642 pruned. Trial was pruned at iteration 0.\n",
      "[I 2024-12-22 11:52:00,357] Trial 643 pruned. Trial was pruned at iteration 10.\n",
      "[I 2024-12-22 11:52:01,776] Trial 644 pruned. Trial was pruned at iteration 7.\n",
      "[I 2024-12-22 11:52:02,813] Trial 645 pruned. Trial was pruned at iteration 0.\n",
      "[I 2024-12-22 11:52:03,909] Trial 646 pruned. Trial was pruned at iteration 0.\n",
      "[I 2024-12-22 11:52:05,037] Trial 647 pruned. Trial was pruned at iteration 0.\n",
      "[I 2024-12-22 11:52:06,050] Trial 648 pruned. Trial was pruned at iteration 0.\n",
      "[I 2024-12-22 11:52:07,076] Trial 649 pruned. Trial was pruned at iteration 0.\n",
      "[I 2024-12-22 11:52:08,089] Trial 650 pruned. Trial was pruned at iteration 0.\n",
      "[I 2024-12-22 11:52:09,117] Trial 651 pruned. Trial was pruned at iteration 0.\n",
      "[I 2024-12-22 11:52:10,186] Trial 652 pruned. Trial was pruned at iteration 0.\n",
      "[I 2024-12-22 11:52:11,367] Trial 653 pruned. Trial was pruned at iteration 1.\n",
      "[I 2024-12-22 11:52:12,505] Trial 654 pruned. Trial was pruned at iteration 0.\n",
      "[I 2024-12-22 11:52:13,918] Trial 655 pruned. Trial was pruned at iteration 7.\n",
      "[I 2024-12-22 11:52:14,966] Trial 656 pruned. Trial was pruned at iteration 0.\n",
      "[I 2024-12-22 11:52:15,999] Trial 657 pruned. Trial was pruned at iteration 0.\n",
      "[I 2024-12-22 11:52:17,053] Trial 658 pruned. Trial was pruned at iteration 0.\n",
      "[I 2024-12-22 11:52:18,153] Trial 659 pruned. Trial was pruned at iteration 0.\n",
      "[I 2024-12-22 11:52:19,417] Trial 660 pruned. Trial was pruned at iteration 0.\n",
      "[I 2024-12-22 11:52:20,474] Trial 661 pruned. Trial was pruned at iteration 0.\n",
      "[I 2024-12-22 11:52:21,528] Trial 662 pruned. Trial was pruned at iteration 0.\n",
      "[I 2024-12-22 11:52:22,941] Trial 663 pruned. Trial was pruned at iteration 7.\n",
      "[I 2024-12-22 11:52:23,994] Trial 664 pruned. Trial was pruned at iteration 0.\n",
      "[I 2024-12-22 11:52:25,029] Trial 665 pruned. Trial was pruned at iteration 0.\n",
      "[I 2024-12-22 11:52:26,795] Trial 666 pruned. Trial was pruned at iteration 13.\n",
      "[I 2024-12-22 11:52:27,925] Trial 667 pruned. Trial was pruned at iteration 0.\n",
      "[I 2024-12-22 11:52:28,981] Trial 668 pruned. Trial was pruned at iteration 0.\n",
      "[I 2024-12-22 11:52:30,035] Trial 669 pruned. Trial was pruned at iteration 0.\n",
      "[I 2024-12-22 11:52:31,082] Trial 670 pruned. Trial was pruned at iteration 0.\n",
      "[I 2024-12-22 11:52:32,132] Trial 671 pruned. Trial was pruned at iteration 0.\n",
      "[I 2024-12-22 11:52:33,221] Trial 672 pruned. Trial was pruned at iteration 0.\n",
      "[I 2024-12-22 11:52:34,920] Trial 673 pruned. Trial was pruned at iteration 10.\n",
      "[I 2024-12-22 11:52:36,354] Trial 674 pruned. Trial was pruned at iteration 6.\n",
      "[I 2024-12-22 11:52:37,389] Trial 675 pruned. Trial was pruned at iteration 0.\n",
      "[I 2024-12-22 11:52:38,809] Trial 676 pruned. Trial was pruned at iteration 7.\n",
      "[I 2024-12-22 11:52:40,423] Trial 677 pruned. Trial was pruned at iteration 11.\n",
      "[I 2024-12-22 11:52:41,473] Trial 678 pruned. Trial was pruned at iteration 0.\n",
      "[I 2024-12-22 11:52:42,565] Trial 679 pruned. Trial was pruned at iteration 0.\n",
      "[I 2024-12-22 11:52:43,694] Trial 680 pruned. Trial was pruned at iteration 0.\n",
      "[I 2024-12-22 11:52:44,745] Trial 681 pruned. Trial was pruned at iteration 0.\n",
      "[I 2024-12-22 11:52:45,818] Trial 682 pruned. Trial was pruned at iteration 1.\n",
      "[I 2024-12-22 11:52:46,887] Trial 683 pruned. Trial was pruned at iteration 0.\n",
      "[I 2024-12-22 11:52:48,601] Trial 684 pruned. Trial was pruned at iteration 13.\n",
      "[I 2024-12-22 11:52:50,414] Trial 685 pruned. Trial was pruned at iteration 14.\n",
      "[I 2024-12-22 11:52:51,669] Trial 686 pruned. Trial was pruned at iteration 0.\n",
      "[I 2024-12-22 11:52:52,720] Trial 687 pruned. Trial was pruned at iteration 0.\n",
      "[I 2024-12-22 11:52:53,771] Trial 688 pruned. Trial was pruned at iteration 0.\n",
      "[I 2024-12-22 11:52:54,814] Trial 689 pruned. Trial was pruned at iteration 0.\n",
      "[I 2024-12-22 11:52:55,868] Trial 690 pruned. Trial was pruned at iteration 0.\n",
      "[I 2024-12-22 11:52:57,240] Trial 691 pruned. Trial was pruned at iteration 6.\n",
      "[I 2024-12-22 11:52:58,353] Trial 692 pruned. Trial was pruned at iteration 0.\n",
      "[I 2024-12-22 11:52:59,676] Trial 693 pruned. Trial was pruned at iteration 0.\n",
      "[I 2024-12-22 11:53:00,718] Trial 694 pruned. Trial was pruned at iteration 0.\n",
      "[I 2024-12-22 11:53:01,748] Trial 695 pruned. Trial was pruned at iteration 0.\n",
      "[I 2024-12-22 11:53:02,763] Trial 696 pruned. Trial was pruned at iteration 0.\n",
      "[I 2024-12-22 11:53:03,793] Trial 697 pruned. Trial was pruned at iteration 0.\n",
      "[I 2024-12-22 11:53:05,341] Trial 698 pruned. Trial was pruned at iteration 10.\n",
      "[I 2024-12-22 11:53:06,434] Trial 699 pruned. Trial was pruned at iteration 0.\n",
      "[I 2024-12-22 11:53:07,794] Trial 700 pruned. Trial was pruned at iteration 0.\n",
      "[I 2024-12-22 11:53:09,200] Trial 701 pruned. Trial was pruned at iteration 8.\n",
      "[I 2024-12-22 11:53:10,455] Trial 702 pruned. Trial was pruned at iteration 5.\n",
      "[I 2024-12-22 11:53:11,709] Trial 703 pruned. Trial was pruned at iteration 5.\n",
      "[I 2024-12-22 11:53:12,689] Trial 704 pruned. Trial was pruned at iteration 0.\n",
      "[I 2024-12-22 11:53:14,211] Trial 705 pruned. Trial was pruned at iteration 10.\n",
      "[I 2024-12-22 11:53:15,246] Trial 706 pruned. Trial was pruned at iteration 0.\n",
      "[I 2024-12-22 11:53:16,370] Trial 707 pruned. Trial was pruned at iteration 0.\n",
      "[I 2024-12-22 11:53:17,406] Trial 708 pruned. Trial was pruned at iteration 0.\n",
      "[I 2024-12-22 11:53:18,776] Trial 709 pruned. Trial was pruned at iteration 6.\n",
      "[I 2024-12-22 11:53:19,826] Trial 710 pruned. Trial was pruned at iteration 0.\n",
      "[I 2024-12-22 11:53:20,853] Trial 711 pruned. Trial was pruned at iteration 0.\n",
      "[I 2024-12-22 11:53:21,924] Trial 712 pruned. Trial was pruned at iteration 0.\n",
      "[I 2024-12-22 11:53:23,476] Trial 713 pruned. Trial was pruned at iteration 8.\n",
      "[I 2024-12-22 11:53:24,581] Trial 714 pruned. Trial was pruned at iteration 0.\n",
      "[I 2024-12-22 11:53:25,616] Trial 715 pruned. Trial was pruned at iteration 0.\n",
      "[I 2024-12-22 11:53:26,658] Trial 716 pruned. Trial was pruned at iteration 0.\n",
      "[I 2024-12-22 11:53:27,705] Trial 717 pruned. Trial was pruned at iteration 0.\n",
      "[I 2024-12-22 11:53:28,765] Trial 718 pruned. Trial was pruned at iteration 1.\n",
      "[I 2024-12-22 11:53:29,834] Trial 719 pruned. Trial was pruned at iteration 0.\n",
      "[I 2024-12-22 11:53:31,350] Trial 720 pruned. Trial was pruned at iteration 6.\n",
      "[I 2024-12-22 11:53:32,376] Trial 721 pruned. Trial was pruned at iteration 0.\n",
      "[I 2024-12-22 11:53:33,772] Trial 722 pruned. Trial was pruned at iteration 7.\n",
      "[I 2024-12-22 11:53:35,222] Trial 723 pruned. Trial was pruned at iteration 8.\n",
      "[I 2024-12-22 11:53:36,246] Trial 724 pruned. Trial was pruned at iteration 0.\n",
      "[I 2024-12-22 11:53:37,301] Trial 725 pruned. Trial was pruned at iteration 0.\n",
      "[I 2024-12-22 11:53:38,396] Trial 726 pruned. Trial was pruned at iteration 0.\n",
      "[I 2024-12-22 11:53:39,640] Trial 727 pruned. Trial was pruned at iteration 0.\n",
      "[I 2024-12-22 11:53:41,213] Trial 728 pruned. Trial was pruned at iteration 10.\n",
      "[I 2024-12-22 11:53:42,254] Trial 729 pruned. Trial was pruned at iteration 0.\n",
      "[I 2024-12-22 11:53:43,309] Trial 730 pruned. Trial was pruned at iteration 0.\n",
      "[I 2024-12-22 11:53:44,366] Trial 731 pruned. Trial was pruned at iteration 0.\n",
      "[I 2024-12-22 11:53:45,407] Trial 732 pruned. Trial was pruned at iteration 0.\n",
      "[I 2024-12-22 11:53:46,517] Trial 733 pruned. Trial was pruned at iteration 0.\n",
      "[I 2024-12-22 11:53:47,803] Trial 734 pruned. Trial was pruned at iteration 0.\n",
      "[I 2024-12-22 11:53:48,935] Trial 735 pruned. Trial was pruned at iteration 3.\n",
      "[I 2024-12-22 11:53:49,969] Trial 736 pruned. Trial was pruned at iteration 0.\n",
      "[I 2024-12-22 11:53:51,012] Trial 737 pruned. Trial was pruned at iteration 0.\n",
      "[I 2024-12-22 11:53:52,050] Trial 738 pruned. Trial was pruned at iteration 0.\n",
      "[I 2024-12-22 11:53:53,077] Trial 739 pruned. Trial was pruned at iteration 0.\n",
      "[I 2024-12-22 11:53:54,157] Trial 740 pruned. Trial was pruned at iteration 0.\n",
      "[I 2024-12-22 11:53:55,729] Trial 741 pruned. Trial was pruned at iteration 6.\n",
      "[I 2024-12-22 11:53:56,785] Trial 742 pruned. Trial was pruned at iteration 0.\n",
      "[I 2024-12-22 11:53:57,844] Trial 743 pruned. Trial was pruned at iteration 0.\n",
      "[I 2024-12-22 11:53:59,413] Trial 744 pruned. Trial was pruned at iteration 10.\n",
      "[I 2024-12-22 11:54:00,468] Trial 745 pruned. Trial was pruned at iteration 0.\n",
      "[I 2024-12-22 11:54:01,515] Trial 746 pruned. Trial was pruned at iteration 0.\n",
      "[I 2024-12-22 11:54:02,622] Trial 747 pruned. Trial was pruned at iteration 0.\n",
      "[I 2024-12-22 11:54:03,763] Trial 748 pruned. Trial was pruned at iteration 0.\n",
      "[I 2024-12-22 11:54:04,788] Trial 749 pruned. Trial was pruned at iteration 0.\n",
      "[I 2024-12-22 11:54:06,160] Trial 750 pruned. Trial was pruned at iteration 6.\n",
      "[I 2024-12-22 11:54:07,614] Trial 751 pruned. Trial was pruned at iteration 8.\n",
      "[I 2024-12-22 11:54:08,651] Trial 752 pruned. Trial was pruned at iteration 0.\n",
      "[I 2024-12-22 11:54:09,710] Trial 753 pruned. Trial was pruned at iteration 0.\n",
      "[I 2024-12-22 11:54:11,390] Trial 754 pruned. Trial was pruned at iteration 9.\n",
      "[I 2024-12-22 11:54:12,441] Trial 755 pruned. Trial was pruned at iteration 0.\n",
      "[I 2024-12-22 11:54:13,481] Trial 756 pruned. Trial was pruned at iteration 0.\n",
      "[I 2024-12-22 11:54:14,541] Trial 757 pruned. Trial was pruned at iteration 0.\n",
      "[I 2024-12-22 11:54:16,028] Trial 758 pruned. Trial was pruned at iteration 8.\n",
      "[I 2024-12-22 11:54:17,438] Trial 759 pruned. Trial was pruned at iteration 7.\n",
      "[I 2024-12-22 11:54:18,520] Trial 760 pruned. Trial was pruned at iteration 0.\n",
      "[I 2024-12-22 11:54:19,646] Trial 761 pruned. Trial was pruned at iteration 0.\n",
      "[I 2024-12-22 11:54:21,056] Trial 762 pruned. Trial was pruned at iteration 7.\n",
      "[I 2024-12-22 11:54:22,108] Trial 763 pruned. Trial was pruned at iteration 0.\n",
      "[I 2024-12-22 11:54:23,145] Trial 764 pruned. Trial was pruned at iteration 0.\n",
      "[I 2024-12-22 11:54:24,207] Trial 765 pruned. Trial was pruned at iteration 0.\n",
      "[I 2024-12-22 11:54:25,518] Trial 766 pruned. Trial was pruned at iteration 4.\n",
      "[I 2024-12-22 11:54:26,702] Trial 767 pruned. Trial was pruned at iteration 0.\n",
      "[I 2024-12-22 11:54:28,157] Trial 768 pruned. Trial was pruned at iteration 6.\n",
      "[I 2024-12-22 11:54:29,219] Trial 769 pruned. Trial was pruned at iteration 0.\n",
      "[I 2024-12-22 11:54:30,274] Trial 770 pruned. Trial was pruned at iteration 0.\n",
      "[I 2024-12-22 11:54:31,320] Trial 771 pruned. Trial was pruned at iteration 0.\n",
      "[I 2024-12-22 11:54:32,695] Trial 772 pruned. Trial was pruned at iteration 6.\n",
      "[I 2024-12-22 11:54:33,823] Trial 773 pruned. Trial was pruned at iteration 0.\n",
      "[I 2024-12-22 11:54:35,082] Trial 774 pruned. Trial was pruned at iteration 0.\n",
      "[I 2024-12-22 11:54:36,503] Trial 775 pruned. Trial was pruned at iteration 7.\n",
      "[I 2024-12-22 11:54:37,569] Trial 776 pruned. Trial was pruned at iteration 0.\n",
      "[I 2024-12-22 11:54:38,630] Trial 777 pruned. Trial was pruned at iteration 0.\n",
      "[I 2024-12-22 11:54:39,696] Trial 778 pruned. Trial was pruned at iteration 0.\n",
      "[I 2024-12-22 11:54:40,960] Trial 779 pruned. Trial was pruned at iteration 4.\n",
      "[I 2024-12-22 11:54:42,391] Trial 780 pruned. Trial was pruned at iteration 6.\n",
      "[I 2024-12-22 11:54:43,655] Trial 781 pruned. Trial was pruned at iteration 0.\n",
      "[I 2024-12-22 11:54:44,684] Trial 782 pruned. Trial was pruned at iteration 0.\n",
      "[I 2024-12-22 11:54:46,187] Trial 783 pruned. Trial was pruned at iteration 9.\n",
      "[I 2024-12-22 11:54:47,229] Trial 784 pruned. Trial was pruned at iteration 0.\n",
      "[I 2024-12-22 11:54:48,271] Trial 785 pruned. Trial was pruned at iteration 0.\n",
      "[I 2024-12-22 11:54:49,334] Trial 786 pruned. Trial was pruned at iteration 0.\n",
      "[I 2024-12-22 11:54:50,854] Trial 787 pruned. Trial was pruned at iteration 6.\n",
      "[I 2024-12-22 11:54:52,091] Trial 788 pruned. Trial was pruned at iteration 4.\n",
      "[I 2024-12-22 11:54:53,112] Trial 789 pruned. Trial was pruned at iteration 0.\n",
      "[I 2024-12-22 11:54:54,149] Trial 790 pruned. Trial was pruned at iteration 0.\n",
      "[I 2024-12-22 11:54:55,184] Trial 791 pruned. Trial was pruned at iteration 0.\n",
      "[I 2024-12-22 11:54:56,210] Trial 792 pruned. Trial was pruned at iteration 0.\n",
      "[I 2024-12-22 11:54:57,494] Trial 793 pruned. Trial was pruned at iteration 4.\n",
      "[I 2024-12-22 11:54:58,703] Trial 794 pruned. Trial was pruned at iteration 0.\n",
      "[I 2024-12-22 11:54:59,738] Trial 795 pruned. Trial was pruned at iteration 0.\n",
      "[I 2024-12-22 11:55:00,760] Trial 796 pruned. Trial was pruned at iteration 0.\n",
      "[I 2024-12-22 11:55:02,014] Trial 797 pruned. Trial was pruned at iteration 4.\n",
      "[I 2024-12-22 11:55:03,049] Trial 798 pruned. Trial was pruned at iteration 0.\n",
      "[I 2024-12-22 11:55:04,081] Trial 799 pruned. Trial was pruned at iteration 0.\n",
      "[I 2024-12-22 11:55:05,135] Trial 800 pruned. Trial was pruned at iteration 0.\n",
      "[I 2024-12-22 11:55:06,382] Trial 801 pruned. Trial was pruned at iteration 0.\n",
      "[I 2024-12-22 11:55:07,790] Trial 802 pruned. Trial was pruned at iteration 7.\n",
      "[I 2024-12-22 11:55:08,828] Trial 803 pruned. Trial was pruned at iteration 0.\n",
      "[I 2024-12-22 11:55:09,878] Trial 804 pruned. Trial was pruned at iteration 0.\n",
      "[I 2024-12-22 11:55:10,929] Trial 805 pruned. Trial was pruned at iteration 0.\n",
      "[I 2024-12-22 11:55:11,984] Trial 806 pruned. Trial was pruned at iteration 0.\n",
      "[I 2024-12-22 11:55:13,063] Trial 807 pruned. Trial was pruned at iteration 0.\n",
      "[I 2024-12-22 11:55:14,349] Trial 808 pruned. Trial was pruned at iteration 0.\n",
      "[I 2024-12-22 11:55:15,386] Trial 809 pruned. Trial was pruned at iteration 0.\n",
      "[I 2024-12-22 11:55:16,420] Trial 810 pruned. Trial was pruned at iteration 0.\n",
      "[I 2024-12-22 11:55:17,816] Trial 811 pruned. Trial was pruned at iteration 7.\n",
      "[I 2024-12-22 11:55:18,853] Trial 812 pruned. Trial was pruned at iteration 0.\n",
      "[I 2024-12-22 11:55:19,890] Trial 813 pruned. Trial was pruned at iteration 0.\n",
      "[I 2024-12-22 11:55:20,954] Trial 814 pruned. Trial was pruned at iteration 0.\n",
      "[I 2024-12-22 11:55:22,206] Trial 815 pruned. Trial was pruned at iteration 0.\n",
      "[I 2024-12-22 11:55:23,264] Trial 816 pruned. Trial was pruned at iteration 0.\n",
      "[I 2024-12-22 11:55:24,310] Trial 817 pruned. Trial was pruned at iteration 0.\n",
      "[I 2024-12-22 11:55:25,942] Trial 818 pruned. Trial was pruned at iteration 7.\n",
      "[I 2024-12-22 11:55:26,994] Trial 819 pruned. Trial was pruned at iteration 0.\n",
      "[I 2024-12-22 11:55:28,405] Trial 820 pruned. Trial was pruned at iteration 7.\n",
      "[I 2024-12-22 11:55:29,514] Trial 821 pruned. Trial was pruned at iteration 0.\n",
      "[I 2024-12-22 11:55:30,635] Trial 822 pruned. Trial was pruned at iteration 0.\n",
      "[I 2024-12-22 11:55:31,686] Trial 823 pruned. Trial was pruned at iteration 0.\n",
      "[I 2024-12-22 11:55:33,234] Trial 824 pruned. Trial was pruned at iteration 10.\n",
      "[I 2024-12-22 11:55:34,255] Trial 825 pruned. Trial was pruned at iteration 0.\n",
      "[I 2024-12-22 11:55:35,310] Trial 826 pruned. Trial was pruned at iteration 0.\n",
      "[I 2024-12-22 11:55:36,382] Trial 827 pruned. Trial was pruned at iteration 0.\n",
      "[I 2024-12-22 11:55:37,912] Trial 828 pruned. Trial was pruned at iteration 6.\n",
      "[I 2024-12-22 11:55:39,619] Trial 829 pruned. Trial was pruned at iteration 13.\n",
      "[I 2024-12-22 11:55:40,654] Trial 830 pruned. Trial was pruned at iteration 0.\n",
      "[I 2024-12-22 11:55:41,705] Trial 831 pruned. Trial was pruned at iteration 0.\n",
      "[I 2024-12-22 11:55:42,741] Trial 832 pruned. Trial was pruned at iteration 0.\n",
      "[I 2024-12-22 11:55:43,796] Trial 833 pruned. Trial was pruned at iteration 0.\n",
      "[I 2024-12-22 11:55:44,920] Trial 834 pruned. Trial was pruned at iteration 0.\n",
      "[I 2024-12-22 11:55:46,167] Trial 835 pruned. Trial was pruned at iteration 0.\n",
      "[I 2024-12-22 11:55:47,536] Trial 836 pruned. Trial was pruned at iteration 6.\n",
      "[I 2024-12-22 11:55:48,586] Trial 837 pruned. Trial was pruned at iteration 0.\n",
      "[I 2024-12-22 11:55:49,665] Trial 838 pruned. Trial was pruned at iteration 0.\n",
      "[I 2024-12-22 11:55:50,706] Trial 839 pruned. Trial was pruned at iteration 0.\n",
      "[I 2024-12-22 11:55:52,124] Trial 840 pruned. Trial was pruned at iteration 7.\n",
      "[I 2024-12-22 11:55:53,235] Trial 841 pruned. Trial was pruned at iteration 0.\n",
      "[I 2024-12-22 11:55:54,512] Trial 842 pruned. Trial was pruned at iteration 0.\n",
      "[I 2024-12-22 11:55:55,588] Trial 843 pruned. Trial was pruned at iteration 1.\n",
      "[I 2024-12-22 11:55:56,639] Trial 844 pruned. Trial was pruned at iteration 0.\n",
      "[I 2024-12-22 11:55:57,691] Trial 845 pruned. Trial was pruned at iteration 0.\n",
      "[I 2024-12-22 11:55:58,738] Trial 846 pruned. Trial was pruned at iteration 0.\n",
      "[I 2024-12-22 11:55:59,804] Trial 847 pruned. Trial was pruned at iteration 0.\n",
      "[I 2024-12-22 11:56:00,924] Trial 848 pruned. Trial was pruned at iteration 0.\n",
      "[I 2024-12-22 11:56:02,726] Trial 849 pruned. Trial was pruned at iteration 10.\n",
      "[I 2024-12-22 11:56:03,746] Trial 850 pruned. Trial was pruned at iteration 0.\n",
      "[I 2024-12-22 11:56:05,435] Trial 851 pruned. Trial was pruned at iteration 13.\n",
      "[I 2024-12-22 11:56:06,887] Trial 852 pruned. Trial was pruned at iteration 8.\n",
      "[I 2024-12-22 11:56:07,921] Trial 853 pruned. Trial was pruned at iteration 0.\n",
      "[I 2024-12-22 11:56:08,940] Trial 854 pruned. Trial was pruned at iteration 0.\n",
      "[I 2024-12-22 11:56:10,127] Trial 855 pruned. Trial was pruned at iteration 0.\n",
      "[I 2024-12-22 11:56:11,179] Trial 856 pruned. Trial was pruned at iteration 0.\n",
      "[I 2024-12-22 11:56:12,784] Trial 857 pruned. Trial was pruned at iteration 7.\n",
      "[I 2024-12-22 11:56:14,246] Trial 858 pruned. Trial was pruned at iteration 8.\n",
      "[I 2024-12-22 11:56:15,296] Trial 859 pruned. Trial was pruned at iteration 0.\n",
      "[I 2024-12-22 11:56:16,331] Trial 860 pruned. Trial was pruned at iteration 0.\n",
      "[I 2024-12-22 11:56:17,458] Trial 861 pruned. Trial was pruned at iteration 0.\n",
      "[I 2024-12-22 11:56:18,853] Trial 862 pruned. Trial was pruned at iteration 0.\n",
      "[I 2024-12-22 11:56:19,852] Trial 863 pruned. Trial was pruned at iteration 0.\n",
      "[I 2024-12-22 11:56:20,852] Trial 864 pruned. Trial was pruned at iteration 0.\n",
      "[I 2024-12-22 11:56:21,948] Trial 865 pruned. Trial was pruned at iteration 3.\n",
      "[I 2024-12-22 11:56:22,942] Trial 866 pruned. Trial was pruned at iteration 0.\n",
      "[I 2024-12-22 11:56:24,252] Trial 867 pruned. Trial was pruned at iteration 6.\n",
      "[I 2024-12-22 11:56:25,520] Trial 868 pruned. Trial was pruned at iteration 4.\n",
      "[I 2024-12-22 11:56:26,715] Trial 869 pruned. Trial was pruned at iteration 0.\n",
      "[I 2024-12-22 11:56:28,137] Trial 870 pruned. Trial was pruned at iteration 8.\n",
      "[I 2024-12-22 11:56:29,137] Trial 871 pruned. Trial was pruned at iteration 0.\n",
      "[I 2024-12-22 11:56:30,124] Trial 872 pruned. Trial was pruned at iteration 0.\n",
      "[I 2024-12-22 11:56:31,639] Trial 873 pruned. Trial was pruned at iteration 10.\n",
      "[I 2024-12-22 11:56:32,639] Trial 874 pruned. Trial was pruned at iteration 0.\n",
      "[I 2024-12-22 11:56:33,981] Trial 875 pruned. Trial was pruned at iteration 6.\n",
      "[I 2024-12-22 11:56:35,129] Trial 876 pruned. Trial was pruned at iteration 0.\n",
      "[I 2024-12-22 11:56:36,167] Trial 877 pruned. Trial was pruned at iteration 0.\n",
      "[I 2024-12-22 11:56:37,204] Trial 878 pruned. Trial was pruned at iteration 0.\n",
      "[I 2024-12-22 11:56:38,228] Trial 879 pruned. Trial was pruned at iteration 0.\n",
      "[I 2024-12-22 11:56:39,270] Trial 880 pruned. Trial was pruned at iteration 0.\n",
      "[I 2024-12-22 11:56:40,337] Trial 881 pruned. Trial was pruned at iteration 0.\n",
      "[I 2024-12-22 11:56:41,928] Trial 882 pruned. Trial was pruned at iteration 9.\n",
      "[I 2024-12-22 11:56:43,144] Trial 883 pruned. Trial was pruned at iteration 3.\n",
      "[I 2024-12-22 11:56:44,189] Trial 884 pruned. Trial was pruned at iteration 0.\n",
      "[I 2024-12-22 11:56:45,249] Trial 885 pruned. Trial was pruned at iteration 0.\n",
      "[I 2024-12-22 11:56:46,277] Trial 886 pruned. Trial was pruned at iteration 0.\n",
      "[I 2024-12-22 11:56:47,319] Trial 887 pruned. Trial was pruned at iteration 0.\n",
      "[I 2024-12-22 11:56:48,394] Trial 888 pruned. Trial was pruned at iteration 0.\n",
      "[I 2024-12-22 11:56:49,817] Trial 889 pruned. Trial was pruned at iteration 4.\n",
      "[I 2024-12-22 11:56:50,859] Trial 890 pruned. Trial was pruned at iteration 0.\n",
      "[I 2024-12-22 11:56:51,883] Trial 891 pruned. Trial was pruned at iteration 0.\n",
      "[I 2024-12-22 11:56:52,944] Trial 892 pruned. Trial was pruned at iteration 0.\n",
      "[I 2024-12-22 11:56:53,984] Trial 893 pruned. Trial was pruned at iteration 0.\n",
      "[I 2024-12-22 11:56:55,013] Trial 894 pruned. Trial was pruned at iteration 0.\n",
      "[I 2024-12-22 11:56:56,401] Trial 895 pruned. Trial was pruned at iteration 6.\n",
      "[I 2024-12-22 11:56:58,305] Trial 896 pruned. Trial was pruned at iteration 13.\n",
      "[I 2024-12-22 11:56:59,397] Trial 897 pruned. Trial was pruned at iteration 0.\n",
      "[I 2024-12-22 11:57:00,556] Trial 898 pruned. Trial was pruned at iteration 3.\n",
      "[I 2024-12-22 11:57:01,619] Trial 899 pruned. Trial was pruned at iteration 0.\n",
      "[I 2024-12-22 11:57:02,988] Trial 900 pruned. Trial was pruned at iteration 6.\n",
      "[I 2024-12-22 11:57:04,034] Trial 901 pruned. Trial was pruned at iteration 0.\n",
      "[I 2024-12-22 11:57:05,651] Trial 902 pruned. Trial was pruned at iteration 10.\n",
      "[I 2024-12-22 11:57:06,794] Trial 903 pruned. Trial was pruned at iteration 0.\n",
      "[I 2024-12-22 11:57:07,836] Trial 904 pruned. Trial was pruned at iteration 0.\n",
      "[I 2024-12-22 11:57:08,884] Trial 905 pruned. Trial was pruned at iteration 0.\n",
      "[I 2024-12-22 11:57:09,929] Trial 906 pruned. Trial was pruned at iteration 0.\n",
      "[I 2024-12-22 11:57:10,969] Trial 907 pruned. Trial was pruned at iteration 0.\n",
      "[I 2024-12-22 11:57:12,052] Trial 908 pruned. Trial was pruned at iteration 0.\n",
      "[I 2024-12-22 11:57:13,187] Trial 909 pruned. Trial was pruned at iteration 0.\n",
      "[I 2024-12-22 11:57:14,848] Trial 910 pruned. Trial was pruned at iteration 10.\n",
      "[I 2024-12-22 11:57:15,909] Trial 911 pruned. Trial was pruned at iteration 0.\n",
      "[I 2024-12-22 11:57:16,954] Trial 912 pruned. Trial was pruned at iteration 0.\n",
      "[I 2024-12-22 11:57:18,016] Trial 913 pruned. Trial was pruned at iteration 0.\n",
      "[I 2024-12-22 11:57:19,080] Trial 914 pruned. Trial was pruned at iteration 0.\n",
      "[I 2024-12-22 11:57:20,193] Trial 915 pruned. Trial was pruned at iteration 0.\n",
      "[I 2024-12-22 11:57:21,879] Trial 916 pruned. Trial was pruned at iteration 8.\n",
      "[I 2024-12-22 11:57:22,956] Trial 917 pruned. Trial was pruned at iteration 0.\n",
      "[I 2024-12-22 11:57:24,222] Trial 918 pruned. Trial was pruned at iteration 4.\n",
      "[I 2024-12-22 11:57:25,270] Trial 919 pruned. Trial was pruned at iteration 0.\n",
      "[I 2024-12-22 11:57:26,331] Trial 920 pruned. Trial was pruned at iteration 0.\n",
      "[I 2024-12-22 11:57:27,765] Trial 921 pruned. Trial was pruned at iteration 7.\n",
      "[I 2024-12-22 11:57:28,891] Trial 922 pruned. Trial was pruned at iteration 0.\n",
      "[I 2024-12-22 11:57:30,028] Trial 923 pruned. Trial was pruned at iteration 0.\n",
      "[I 2024-12-22 11:57:31,055] Trial 924 pruned. Trial was pruned at iteration 0.\n",
      "[I 2024-12-22 11:57:32,604] Trial 925 pruned. Trial was pruned at iteration 10.\n",
      "[I 2024-12-22 11:57:33,629] Trial 926 pruned. Trial was pruned at iteration 0.\n",
      "[I 2024-12-22 11:57:35,083] Trial 927 pruned. Trial was pruned at iteration 8.\n",
      "[I 2024-12-22 11:57:36,195] Trial 928 pruned. Trial was pruned at iteration 0.\n",
      "[I 2024-12-22 11:57:37,486] Trial 929 pruned. Trial was pruned at iteration 0.\n",
      "[I 2024-12-22 11:57:38,566] Trial 930 pruned. Trial was pruned at iteration 1.\n",
      "[I 2024-12-22 11:57:39,623] Trial 931 pruned. Trial was pruned at iteration 0.\n",
      "[I 2024-12-22 11:57:40,990] Trial 932 pruned. Trial was pruned at iteration 6.\n",
      "[I 2024-12-22 11:57:42,082] Trial 933 pruned. Trial was pruned at iteration 1.\n",
      "[I 2024-12-22 11:57:43,453] Trial 934 pruned. Trial was pruned at iteration 6.\n",
      "[I 2024-12-22 11:57:44,574] Trial 935 pruned. Trial was pruned at iteration 0.\n",
      "[I 2024-12-22 11:57:46,265] Trial 936 pruned. Trial was pruned at iteration 8.\n",
      "[I 2024-12-22 11:57:47,346] Trial 937 pruned. Trial was pruned at iteration 0.\n",
      "[I 2024-12-22 11:57:48,391] Trial 938 pruned. Trial was pruned at iteration 0.\n",
      "[I 2024-12-22 11:57:49,449] Trial 939 pruned. Trial was pruned at iteration 0.\n",
      "[I 2024-12-22 11:57:50,519] Trial 940 pruned. Trial was pruned at iteration 0.\n",
      "[I 2024-12-22 11:57:51,582] Trial 941 pruned. Trial was pruned at iteration 0.\n",
      "[I 2024-12-22 11:57:53,067] Trial 942 pruned. Trial was pruned at iteration 7.\n",
      "[I 2024-12-22 11:57:54,300] Trial 943 pruned. Trial was pruned at iteration 0.\n",
      "[I 2024-12-22 11:57:55,332] Trial 944 pruned. Trial was pruned at iteration 0.\n",
      "[I 2024-12-22 11:57:56,352] Trial 945 pruned. Trial was pruned at iteration 0.\n",
      "[I 2024-12-22 11:57:57,389] Trial 946 pruned. Trial was pruned at iteration 0.\n",
      "[I 2024-12-22 11:57:58,782] Trial 947 pruned. Trial was pruned at iteration 7.\n",
      "[I 2024-12-22 11:58:00,182] Trial 948 pruned. Trial was pruned at iteration 6.\n",
      "[I 2024-12-22 11:58:01,383] Trial 949 pruned. Trial was pruned at iteration 0.\n",
      "[I 2024-12-22 11:58:02,418] Trial 950 pruned. Trial was pruned at iteration 0.\n",
      "[I 2024-12-22 11:58:03,814] Trial 951 pruned. Trial was pruned at iteration 7.\n",
      "[I 2024-12-22 11:58:04,852] Trial 952 pruned. Trial was pruned at iteration 0.\n",
      "[I 2024-12-22 11:58:05,900] Trial 953 pruned. Trial was pruned at iteration 0.\n",
      "[I 2024-12-22 11:58:06,928] Trial 954 pruned. Trial was pruned at iteration 0.\n",
      "[I 2024-12-22 11:58:08,012] Trial 955 pruned. Trial was pruned at iteration 0.\n",
      "[I 2024-12-22 11:58:09,213] Trial 956 pruned. Trial was pruned at iteration 0.\n",
      "[I 2024-12-22 11:58:10,716] Trial 957 pruned. Trial was pruned at iteration 9.\n",
      "[I 2024-12-22 11:58:12,180] Trial 958 pruned. Trial was pruned at iteration 8.\n",
      "[I 2024-12-22 11:58:13,207] Trial 959 pruned. Trial was pruned at iteration 0.\n",
      "[I 2024-12-22 11:58:14,246] Trial 960 pruned. Trial was pruned at iteration 0.\n",
      "[I 2024-12-22 11:58:15,287] Trial 961 pruned. Trial was pruned at iteration 0.\n",
      "[I 2024-12-22 11:58:16,353] Trial 962 pruned. Trial was pruned at iteration 0.\n",
      "[I 2024-12-22 11:58:17,624] Trial 963 pruned. Trial was pruned at iteration 0.\n",
      "[I 2024-12-22 11:58:19,098] Trial 964 pruned. Trial was pruned at iteration 8.\n",
      "[I 2024-12-22 11:58:20,157] Trial 965 pruned. Trial was pruned at iteration 0.\n",
      "[I 2024-12-22 11:58:21,203] Trial 966 pruned. Trial was pruned at iteration 0.\n",
      "[I 2024-12-22 11:58:22,574] Trial 967 pruned. Trial was pruned at iteration 6.\n",
      "[I 2024-12-22 11:58:24,145] Trial 968 pruned. Trial was pruned at iteration 10.\n",
      "[I 2024-12-22 11:58:25,266] Trial 969 pruned. Trial was pruned at iteration 0.\n",
      "[I 2024-12-22 11:58:26,524] Trial 970 pruned. Trial was pruned at iteration 0.\n",
      "[I 2024-12-22 11:58:27,588] Trial 971 pruned. Trial was pruned at iteration 0.\n",
      "[I 2024-12-22 11:58:28,989] Trial 972 pruned. Trial was pruned at iteration 7.\n",
      "[I 2024-12-22 11:58:30,055] Trial 973 pruned. Trial was pruned at iteration 0.\n",
      "[I 2024-12-22 11:58:31,081] Trial 974 pruned. Trial was pruned at iteration 0.\n",
      "[I 2024-12-22 11:58:32,130] Trial 975 pruned. Trial was pruned at iteration 0.\n",
      "[I 2024-12-22 11:58:33,240] Trial 976 pruned. Trial was pruned at iteration 0.\n",
      "[I 2024-12-22 11:58:34,892] Trial 977 pruned. Trial was pruned at iteration 10.\n",
      "[I 2024-12-22 11:58:35,917] Trial 978 pruned. Trial was pruned at iteration 0.\n",
      "[I 2024-12-22 11:58:37,471] Trial 979 pruned. Trial was pruned at iteration 10.\n",
      "[I 2024-12-22 11:58:38,515] Trial 980 pruned. Trial was pruned at iteration 0.\n",
      "[I 2024-12-22 11:58:39,540] Trial 981 pruned. Trial was pruned at iteration 0.\n",
      "[I 2024-12-22 11:58:41,132] Trial 982 pruned. Trial was pruned at iteration 10.\n",
      "[I 2024-12-22 11:58:42,608] Trial 983 pruned. Trial was pruned at iteration 4.\n",
      "[I 2024-12-22 11:58:43,669] Trial 984 pruned. Trial was pruned at iteration 0.\n",
      "[I 2024-12-22 11:58:44,714] Trial 985 pruned. Trial was pruned at iteration 0.\n",
      "[I 2024-12-22 11:58:46,136] Trial 986 pruned. Trial was pruned at iteration 7.\n",
      "[I 2024-12-22 11:58:47,607] Trial 987 pruned. Trial was pruned at iteration 8.\n",
      "[I 2024-12-22 11:58:48,674] Trial 988 pruned. Trial was pruned at iteration 0.\n",
      "[I 2024-12-22 11:58:49,802] Trial 989 pruned. Trial was pruned at iteration 0.\n",
      "[I 2024-12-22 11:58:51,056] Trial 990 pruned. Trial was pruned at iteration 0.\n",
      "[I 2024-12-22 11:58:52,121] Trial 991 pruned. Trial was pruned at iteration 0.\n",
      "[I 2024-12-22 11:58:53,170] Trial 992 pruned. Trial was pruned at iteration 0.\n",
      "[I 2024-12-22 11:58:54,231] Trial 993 pruned. Trial was pruned at iteration 0.\n",
      "[I 2024-12-22 11:58:55,280] Trial 994 pruned. Trial was pruned at iteration 0.\n",
      "[I 2024-12-22 11:58:56,652] Trial 995 pruned. Trial was pruned at iteration 6.\n",
      "[I 2024-12-22 11:58:58,036] Trial 996 pruned. Trial was pruned at iteration 5.\n",
      "[I 2024-12-22 11:58:59,764] Trial 997 pruned. Trial was pruned at iteration 8.\n",
      "[I 2024-12-22 11:59:01,167] Trial 998 pruned. Trial was pruned at iteration 5.\n",
      "[I 2024-12-22 11:59:02,426] Trial 999 pruned. Trial was pruned at iteration 5.\n",
      "2024-12-22 11:59:02,580 - logger - INFO - Number of finished trials: 1000\n",
      "2024-12-22 11:59:02,605 - logger - INFO - Best trial:\n",
      "2024-12-22 11:59:02,606 - logger - INFO -   Value: 1.052065022541493\n",
      "2024-12-22 11:59:02,606 - logger - INFO -   Params: \n",
      "2024-12-22 11:59:02,606 - logger - INFO -     lambda: 148.99629545002682\n",
      "2024-12-22 11:59:02,607 - logger - INFO -     max_depth: 8\n",
      "2024-12-22 11:59:02,607 - logger - INFO -     min_child_weight: 4\n",
      "2024-12-22 11:59:02,607 - logger - INFO -     eta: 0.24952668897998526\n"
     ]
    }
   ],
   "source": [
    "prep_data_path = PREP_DATA_PATH / \"prepared_data.feather\"\n",
    "target_column = \"Premium Amount\"\n",
    "\n",
    "df = pd.read_feather(prep_data_path)\n",
    "\n",
    "feat_cols = get_feat_columns()\n",
    "feat_names = feat_cols.names\n",
    "\n",
    "features = df.drop(columns=[target_column])\n",
    "features = features[feat_names]\n",
    "logger.info(f\"features shape: {features.shape}\")\n",
    "\n",
    "labels = df[target_column]\n",
    "\n",
    "X_train = features[feat_names]\n",
    "y_train = np.log1p(labels)\n",
    "\n",
    "# Fit the pipeline\n",
    "data_pipeline = make_xgboost_pipeline()\n",
    "X_train = data_pipeline.fit_transform(X_train)\n",
    "for col in feat_cols.categorical:\n",
    "    X_train[col] = X_train[col].astype(\"category\")\n",
    "\n",
    "dtrain = xgb.DMatrix(\n",
    "    X_train,\n",
    "    label=y_train,\n",
    "    enable_categorical=True,\n",
    "    feature_names=X_train.columns.to_list(),\n",
    ")\n",
    "\n",
    "\n",
    "base_param = {\n",
    "    \"device\": \"cuda\",\n",
    "    \"verbosity\": 0,\n",
    "    \"objective\": \"reg:squarederror\",\n",
    "    \"random_state\": 42,\n",
    "    \"eval_metric\": \"rmse\",\n",
    "    # use exact for small dataset.\n",
    "    \"tree_method\": \"auto\",\n",
    "}\n",
    "\n",
    "\n",
    "def objective(trial):\n",
    "    param = copy.deepcopy(base_param)\n",
    "    param.update(\n",
    "        {\n",
    "            # # defines booster, gblinear for linear functions.\n",
    "            # \"booster\": trial.suggest_categorical(\"booster\", [\"gbtree\", \"dart\"]),\n",
    "            \"booster\": \"gbtree\",\n",
    "            # L2 regularization weight.\n",
    "            \"lambda\": trial.suggest_float(\"lambda\", 10, 200),\n",
    "            # L1 regularization weight.\n",
    "            # \"alpha\": trial.suggest_float(\"alpha\", 1e-3, 0.2, log=True),\n",
    "            \"alpha\": 0.1,\n",
    "            # sampling ratio for training data.\n",
    "            # \"subsample\": trial.suggest_float(\"subsample\", 0.2, 1.0),\n",
    "            # # sampling according to each tree.\n",
    "            # \"colsample_bytree\": trial.suggest_float(\"colsample_bytree\", 0.2, 1.0),\n",
    "        }\n",
    "    )\n",
    "\n",
    "    if param[\"booster\"] in [\"gbtree\", \"dart\"]:\n",
    "        # maximum depth of the tree, signifies complexity of the tree.\n",
    "        param[\"max_depth\"] = trial.suggest_int(\"max_depth\", 8, 10, step=1)\n",
    "        # minimum child weight, larger the term more conservative the tree.\n",
    "        param[\"min_child_weight\"] = trial.suggest_int(\"min_child_weight\", 2, 10)\n",
    "        param[\"eta\"] = trial.suggest_float(\"eta\", 0.15, 0.25)\n",
    "        # defines how selective algorithm is.\n",
    "        param[\"gamma\"] = 3e-6\n",
    "        # param[\"grow_policy\"] = trial.suggest_categorical(\"grow_policy\", [\"depthwise\", \"lossguide\"])\n",
    "        param[\"grow_policy\"] = \"depthwise\"\n",
    "\n",
    "    # if param[\"booster\"] == \"dart\":\n",
    "    #     param[\"sample_type\"] = trial.suggest_categorical(\"sample_type\", [\"uniform\", \"weighted\"])\n",
    "    #     param[\"normalize_type\"] = trial.suggest_categorical(\n",
    "    #         \"normalize_type\", [\"tree\", \"forest\"]\n",
    "    #     )\n",
    "    #     param[\"rate_drop\"] = trial.suggest_float(\"rate_drop\", 1e-8, 1.0, log=True)\n",
    "    #     param[\"skip_drop\"] = trial.suggest_float(\"skip_drop\", 1e-8, 1.0, log=True)\n",
    "\n",
    "    # num_boost_round = trial.suggest_int(\"num_boost_round\", 10, 40)\n",
    "    num_boost_round = 20\n",
    "\n",
    "    pruning_callback = optuna.integration.XGBoostPruningCallback(trial, \"test-rmse\")\n",
    "    history = xgb.cv(param, dtrain, num_boost_round=num_boost_round, callbacks=[pruning_callback])\n",
    "    mean_rmse = history[\"test-rmse-mean\"].values[-1]\n",
    "\n",
    "    logger.info(f\"Out-of-fold RMSLE: {mean_rmse:.4f}\")\n",
    "    return mean_rmse\n",
    "\n",
    "\n",
    "study = optuna.create_study(\n",
    "    direction=\"minimize\",\n",
    "    sampler=optuna.samplers.TPESampler(seed=42),\n",
    "    # pruner=optuna.pruners.MedianPruner(),\n",
    ")\n",
    "study.optimize(objective, n_trials=1000)\n",
    "\n",
    "\n",
    "logger.info(f\"Number of finished trials: {len(study.trials)}\")\n",
    "logger.info(\"Best trial:\")\n",
    "trial = study.best_trial\n",
    "\n",
    "logger.info(\"  Value: {}\".format(trial.value))\n",
    "logger.info(\"  Params: \")\n",
    "for key, value in trial.params.items():\n",
    "    logger.info(\"    {}: {}\".format(key, value))\n",
    "    base_param[key] = value"
   ]
  },
  {
   "cell_type": "code",
   "execution_count": 7,
   "metadata": {},
   "outputs": [
    {
     "data": {
      "text/plain": [
       "{'lambda': 148.99629545002682,\n",
       " 'max_depth': 8,\n",
       " 'min_child_weight': 4,\n",
       " 'eta': 0.24952668897998526}"
      ]
     },
     "execution_count": 7,
     "metadata": {},
     "output_type": "execute_result"
    }
   ],
   "source": [
    "trial.params"
   ]
  },
  {
   "cell_type": "code",
   "execution_count": 4,
   "metadata": {},
   "outputs": [],
   "source": [
    "from optuna.visualization import plot_contour\n",
    "from optuna.visualization import plot_edf\n",
    "from optuna.visualization import plot_intermediate_values\n",
    "from optuna.visualization import plot_optimization_history\n",
    "from optuna.visualization import plot_parallel_coordinate\n",
    "from optuna.visualization import plot_param_importances\n",
    "from optuna.visualization import plot_rank\n",
    "from optuna.visualization import plot_slice\n",
    "from optuna.visualization import plot_timeline"
   ]
  },
  {
   "cell_type": "code",
   "execution_count": 5,
   "metadata": {},
   "outputs": [
    {
     "data": {
      "application/vnd.plotly.v1+json": {
       "config": {
        "plotlyServerURL": "https://plot.ly"
       },
       "data": [
        {
         "type": "scatter",
         "xaxis": "x",
         "yaxis": "y"
        },
        {
         "colorbar": {
          "title": {
           "text": "Objective Value"
          }
         },
         "colorscale": [
          [
           0,
           "rgb(247,251,255)"
          ],
          [
           0.125,
           "rgb(222,235,247)"
          ],
          [
           0.25,
           "rgb(198,219,239)"
          ],
          [
           0.375,
           "rgb(158,202,225)"
          ],
          [
           0.5,
           "rgb(107,174,214)"
          ],
          [
           0.625,
           "rgb(66,146,198)"
          ],
          [
           0.75,
           "rgb(33,113,181)"
          ],
          [
           0.875,
           "rgb(8,81,156)"
          ],
          [
           1,
           "rgb(8,48,107)"
          ]
         ],
         "connectgaps": true,
         "contours": {
          "coloring": "heatmap"
         },
         "hoverinfo": "none",
         "line": {
          "smoothing": 1.3
         },
         "reversescale": true,
         "showscale": true,
         "type": "contour",
         "x": [
          0.16425859009509772,
          0.16834045098534337,
          0.17912291401980418,
          0.20986584841970365,
          0.23661761457749353,
          0.24468049264135633,
          0.2469269852048718,
          0.24699098521619944,
          0.24753895016177294,
          0.24758500422390978,
          0.24801078016965392,
          0.24812316705034101,
          0.248269484952899,
          0.2482906706149228,
          0.2483212158770654,
          0.24835694062356345,
          0.24845390578304163,
          0.2489461255532115,
          0.24952668897998526,
          0.2496168685630858,
          0.24971386963476672,
          0.24976913156403052,
          0.24989860916354575,
          0.24991783192812148,
          0.24993118242690152,
          0.24993894389778556,
          0.24997456747858884,
          0.24997595916056628,
          0.24997766879025657,
          0.2540595296805022
         ],
         "xaxis": "x5",
         "y": [
          24.238936690369897,
          32.47449038460792,
          39.64354168406294,
          40.89979767605377,
          43.11602813634241,
          67.80602616231216,
          81.16262258099887,
          124.21185223120968,
          129.42010993632587,
          135.17005713633648,
          141.44200727996292,
          148.99629545002682,
          168.16410175208014,
          168.46466094183324,
          174.0582746076279,
          183.3448418096625,
          183.59230572154684,
          186.0179496350655,
          186.0475127969662,
          188.56296528716115,
          189.35845620327572,
          189.49282767820483,
          191.49309636383265,
          192.39583284220797,
          194.03705901460268,
          194.2859635443494,
          194.32166149510252,
          197.08319843383177,
          197.1855642693683,
          205.42111796360632
         ],
         "yaxis": "y5",
         "z": [
          [
           null,
           null,
           null,
           null,
           null,
           null,
           null,
           null,
           null,
           null,
           null,
           null,
           null,
           null,
           null,
           null,
           null,
           null,
           null,
           null,
           null,
           null,
           null,
           null,
           null,
           null,
           null,
           null,
           null,
           null
          ],
          [
           null,
           null,
           null,
           null,
           null,
           null,
           null,
           null,
           1.0523062430270806,
           null,
           null,
           null,
           null,
           null,
           null,
           null,
           null,
           null,
           null,
           null,
           null,
           null,
           null,
           null,
           null,
           null,
           null,
           null,
           null,
           null
          ],
          [
           null,
           null,
           null,
           null,
           1.0522698682146687,
           null,
           null,
           null,
           null,
           null,
           null,
           null,
           null,
           null,
           null,
           null,
           null,
           null,
           null,
           null,
           null,
           null,
           null,
           null,
           null,
           null,
           null,
           null,
           null,
           null
          ],
          [
           null,
           null,
           null,
           null,
           null,
           null,
           1.0522479380596679,
           null,
           null,
           null,
           null,
           null,
           null,
           null,
           null,
           null,
           null,
           null,
           null,
           null,
           null,
           null,
           null,
           null,
           null,
           null,
           null,
           null,
           null,
           null
          ],
          [
           null,
           null,
           null,
           null,
           null,
           1.0522233686821665,
           null,
           null,
           null,
           null,
           null,
           null,
           null,
           null,
           null,
           null,
           null,
           null,
           null,
           null,
           null,
           null,
           null,
           null,
           null,
           null,
           null,
           null,
           null,
           null
          ],
          [
           null,
           null,
           1.0522340135393051,
           null,
           null,
           null,
           null,
           null,
           null,
           null,
           null,
           null,
           null,
           null,
           null,
           null,
           null,
           null,
           null,
           null,
           null,
           null,
           null,
           null,
           null,
           null,
           null,
           null,
           null,
           null
          ],
          [
           null,
           null,
           null,
           1.0526831455027024,
           null,
           null,
           null,
           null,
           null,
           null,
           null,
           null,
           null,
           null,
           null,
           null,
           null,
           null,
           null,
           null,
           null,
           null,
           null,
           null,
           null,
           null,
           null,
           null,
           null,
           null
          ],
          [
           null,
           null,
           null,
           null,
           null,
           null,
           null,
           1.0528460754598776,
           null,
           null,
           null,
           null,
           null,
           null,
           null,
           null,
           null,
           null,
           null,
           null,
           null,
           null,
           null,
           null,
           null,
           null,
           null,
           null,
           null,
           null
          ],
          [
           null,
           null,
           null,
           null,
           null,
           null,
           null,
           null,
           null,
           null,
           null,
           null,
           null,
           null,
           null,
           null,
           null,
           null,
           null,
           null,
           null,
           null,
           null,
           null,
           null,
           null,
           null,
           null,
           1.0520773546523614,
           null
          ],
          [
           null,
           null,
           null,
           null,
           null,
           null,
           null,
           null,
           null,
           null,
           null,
           null,
           null,
           null,
           null,
           null,
           null,
           1.052158303202547,
           null,
           null,
           null,
           null,
           null,
           null,
           null,
           null,
           null,
           null,
           null,
           null
          ],
          [
           null,
           null,
           null,
           null,
           null,
           null,
           null,
           null,
           null,
           null,
           null,
           null,
           null,
           null,
           null,
           null,
           null,
           null,
           null,
           null,
           1.0522001111453327,
           null,
           null,
           null,
           null,
           null,
           null,
           null,
           null,
           null
          ],
          [
           null,
           null,
           null,
           null,
           null,
           null,
           null,
           null,
           null,
           null,
           null,
           null,
           null,
           null,
           null,
           null,
           null,
           null,
           1.052065022541493,
           null,
           null,
           null,
           null,
           null,
           null,
           null,
           null,
           null,
           null,
           null
          ],
          [
           null,
           1.0521976802099775,
           null,
           null,
           null,
           null,
           null,
           null,
           null,
           null,
           null,
           null,
           null,
           null,
           null,
           null,
           null,
           null,
           null,
           null,
           null,
           null,
           null,
           null,
           null,
           null,
           null,
           null,
           null,
           null
          ],
          [
           null,
           null,
           null,
           null,
           null,
           null,
           null,
           null,
           null,
           null,
           null,
           null,
           null,
           null,
           null,
           1.0522420071555807,
           null,
           null,
           null,
           null,
           null,
           null,
           null,
           null,
           null,
           null,
           null,
           null,
           null,
           null
          ],
          [
           null,
           null,
           null,
           null,
           null,
           null,
           null,
           null,
           null,
           null,
           null,
           1.0522117112812917,
           null,
           null,
           null,
           null,
           null,
           null,
           null,
           null,
           null,
           null,
           null,
           null,
           null,
           null,
           null,
           null,
           null,
           null
          ],
          [
           null,
           null,
           null,
           null,
           null,
           null,
           null,
           null,
           null,
           null,
           null,
           null,
           null,
           null,
           null,
           null,
           null,
           null,
           null,
           1.0522071267574429,
           null,
           null,
           null,
           null,
           null,
           null,
           null,
           null,
           null,
           null
          ],
          [
           null,
           null,
           null,
           null,
           null,
           null,
           null,
           null,
           null,
           null,
           null,
           null,
           null,
           null,
           null,
           null,
           null,
           null,
           null,
           null,
           null,
           null,
           null,
           null,
           1.052191937494924,
           null,
           null,
           null,
           null,
           null
          ],
          [
           null,
           null,
           null,
           null,
           null,
           null,
           null,
           null,
           null,
           null,
           null,
           null,
           null,
           null,
           null,
           null,
           null,
           null,
           null,
           null,
           null,
           null,
           null,
           null,
           null,
           1.0521474207363393,
           null,
           null,
           null,
           null
          ],
          [
           null,
           null,
           null,
           null,
           null,
           null,
           null,
           null,
           null,
           null,
           null,
           null,
           null,
           null,
           null,
           null,
           1.0521424054056012,
           null,
           null,
           null,
           null,
           null,
           null,
           null,
           null,
           null,
           null,
           null,
           null,
           null
          ],
          [
           null,
           null,
           null,
           null,
           null,
           null,
           null,
           null,
           null,
           null,
           null,
           null,
           1.0522349775231727,
           null,
           null,
           null,
           null,
           null,
           null,
           null,
           null,
           null,
           null,
           null,
           null,
           null,
           null,
           null,
           null,
           null
          ],
          [
           null,
           null,
           null,
           null,
           null,
           null,
           null,
           null,
           null,
           null,
           null,
           null,
           null,
           null,
           null,
           null,
           null,
           null,
           null,
           null,
           null,
           null,
           null,
           1.0522329278391123,
           null,
           null,
           null,
           null,
           null,
           null
          ],
          [
           null,
           null,
           null,
           null,
           null,
           null,
           null,
           null,
           null,
           null,
           null,
           null,
           null,
           null,
           null,
           null,
           null,
           null,
           null,
           null,
           null,
           null,
           null,
           null,
           null,
           null,
           1.0522220522294448,
           null,
           null,
           null
          ],
          [
           null,
           null,
           null,
           null,
           null,
           null,
           null,
           null,
           null,
           null,
           null,
           null,
           null,
           null,
           null,
           null,
           null,
           null,
           null,
           null,
           null,
           null,
           1.0521696109764485,
           null,
           null,
           null,
           null,
           null,
           null,
           null
          ],
          [
           null,
           null,
           null,
           null,
           null,
           null,
           null,
           null,
           null,
           null,
           null,
           null,
           null,
           null,
           null,
           null,
           null,
           null,
           null,
           null,
           null,
           1.0522140204529327,
           null,
           null,
           null,
           null,
           null,
           null,
           null,
           null
          ],
          [
           null,
           null,
           null,
           null,
           null,
           null,
           null,
           null,
           null,
           1.0521972356239793,
           null,
           null,
           null,
           null,
           null,
           null,
           null,
           null,
           null,
           null,
           null,
           null,
           null,
           null,
           null,
           null,
           null,
           null,
           null,
           null
          ],
          [
           null,
           null,
           null,
           null,
           null,
           null,
           null,
           null,
           null,
           null,
           1.0522269925107022,
           null,
           null,
           null,
           null,
           null,
           null,
           null,
           null,
           null,
           null,
           null,
           null,
           null,
           null,
           null,
           null,
           null,
           null,
           null
          ],
          [
           null,
           null,
           null,
           null,
           null,
           null,
           null,
           null,
           null,
           null,
           null,
           null,
           null,
           1.0521266936231262,
           null,
           null,
           null,
           null,
           null,
           null,
           null,
           null,
           null,
           null,
           null,
           null,
           null,
           null,
           null,
           null
          ],
          [
           null,
           null,
           null,
           null,
           null,
           null,
           null,
           null,
           null,
           null,
           null,
           null,
           null,
           null,
           null,
           null,
           null,
           null,
           null,
           null,
           null,
           null,
           null,
           null,
           null,
           null,
           null,
           1.0521827683454765,
           null,
           null
          ],
          [
           null,
           null,
           null,
           null,
           null,
           null,
           null,
           null,
           null,
           null,
           null,
           null,
           null,
           null,
           1.0522627664310866,
           null,
           null,
           null,
           null,
           null,
           null,
           null,
           null,
           null,
           null,
           null,
           null,
           null,
           null,
           null
          ],
          [
           null,
           null,
           null,
           null,
           null,
           null,
           null,
           null,
           null,
           null,
           null,
           null,
           null,
           null,
           null,
           null,
           null,
           null,
           null,
           null,
           null,
           null,
           null,
           null,
           null,
           null,
           null,
           null,
           null,
           null
          ]
         ]
        },
        {
         "marker": {
          "color": "black",
          "line": {
           "color": "Gray",
           "width": 2
          }
         },
         "mode": "markers",
         "name": "Feasible Trial",
         "showlegend": false,
         "type": "scatter",
         "x": [
          0.20986584841970365,
          0.23661761457749353,
          0.24699098521619944,
          0.16834045098534337,
          0.17912291401980418,
          0.2469269852048718,
          0.24468049264135633,
          0.24753895016177294,
          0.2489461255532115,
          0.24952668897998526,
          0.24997766879025657,
          0.24971386963476672,
          0.2496168685630858,
          0.24758500422390978,
          0.24801078016965392,
          0.2483212158770654,
          0.24835694062356345,
          0.24976913156403052,
          0.24812316705034101,
          0.24993118242690152,
          0.2482906706149228,
          0.24997456747858884,
          0.248269484952899,
          0.24991783192812148,
          0.24997595916056628,
          0.24993894389778556,
          0.24845390578304163,
          0.24989860916354575
         ],
         "xaxis": "x5",
         "y": [
          81.16262258099887,
          39.64354168406294,
          124.21185223120968,
          168.16410175208014,
          67.80602616231216,
          40.89979767605377,
          43.11602813634241,
          32.47449038460792,
          135.17005713633648,
          148.99629545002682,
          129.42010993632587,
          141.44200727996292,
          183.3448418096625,
          194.03705901460268,
          194.2859635443494,
          197.1855642693683,
          168.46466094183324,
          192.39583284220797,
          174.0582746076279,
          183.59230572154684,
          194.32166149510252,
          189.49282767820483,
          188.56296528716115,
          189.35845620327572,
          197.08319843383177,
          186.0179496350655,
          186.0475127969662,
          191.49309636383265
         ],
         "yaxis": "y5"
        },
        {
         "colorbar": {
          "title": {
           "text": "Objective Value"
          }
         },
         "colorscale": [
          [
           0,
           "rgb(247,251,255)"
          ],
          [
           0.125,
           "rgb(222,235,247)"
          ],
          [
           0.25,
           "rgb(198,219,239)"
          ],
          [
           0.375,
           "rgb(158,202,225)"
          ],
          [
           0.5,
           "rgb(107,174,214)"
          ],
          [
           0.625,
           "rgb(66,146,198)"
          ],
          [
           0.75,
           "rgb(33,113,181)"
          ],
          [
           0.875,
           "rgb(8,81,156)"
          ],
          [
           1,
           "rgb(8,48,107)"
          ]
         ],
         "connectgaps": true,
         "contours": {
          "coloring": "heatmap"
         },
         "hoverinfo": "none",
         "line": {
          "smoothing": 1.3
         },
         "reversescale": true,
         "showscale": false,
         "type": "contour",
         "x": [
          0.16425859009509772,
          0.16834045098534337,
          0.17912291401980418,
          0.20986584841970365,
          0.23661761457749353,
          0.24468049264135633,
          0.2469269852048718,
          0.24699098521619944,
          0.24753895016177294,
          0.24758500422390978,
          0.24801078016965392,
          0.24812316705034101,
          0.248269484952899,
          0.2482906706149228,
          0.2483212158770654,
          0.24835694062356345,
          0.24845390578304163,
          0.2489461255532115,
          0.24952668897998526,
          0.2496168685630858,
          0.24971386963476672,
          0.24976913156403052,
          0.24989860916354575,
          0.24991783192812148,
          0.24993118242690152,
          0.24993894389778556,
          0.24997456747858884,
          0.24997595916056628,
          0.24997766879025657,
          0.2540595296805022
         ],
         "xaxis": "x9",
         "y": [
          7.9,
          8,
          9,
          10,
          10.1
         ],
         "yaxis": "y9",
         "z": [
          [
           null,
           null,
           null,
           null,
           null,
           null,
           null,
           null,
           null,
           null,
           null,
           null,
           null,
           null,
           null,
           null,
           null,
           null,
           null,
           null,
           null,
           null,
           null,
           null,
           null,
           null,
           null,
           null,
           null,
           null
          ],
          [
           null,
           1.0521976802099775,
           null,
           null,
           1.0522698682146687,
           1.0522233686821665,
           1.0522479380596679,
           null,
           1.0523062430270806,
           null,
           null,
           null,
           null,
           null,
           null,
           null,
           null,
           1.052158303202547,
           1.052065022541493,
           null,
           null,
           null,
           null,
           null,
           null,
           null,
           null,
           null,
           1.0520773546523614,
           null
          ],
          [
           null,
           null,
           1.0522340135393051,
           null,
           null,
           null,
           null,
           null,
           null,
           1.0521972356239793,
           1.0522269925107022,
           1.0522117112812917,
           1.0522349775231727,
           1.0521266936231262,
           1.0522627664310866,
           1.0522420071555807,
           1.0521424054056012,
           null,
           null,
           1.0522071267574429,
           1.0522001111453327,
           1.0522140204529327,
           1.0521696109764485,
           1.0522329278391123,
           1.052191937494924,
           1.0521474207363393,
           1.0522220522294448,
           1.0521827683454765,
           null,
           null
          ],
          [
           null,
           null,
           null,
           1.0526831455027024,
           null,
           null,
           null,
           1.0528460754598776,
           null,
           null,
           null,
           null,
           null,
           null,
           null,
           null,
           null,
           null,
           null,
           null,
           null,
           null,
           null,
           null,
           null,
           null,
           null,
           null,
           null,
           null
          ],
          [
           null,
           null,
           null,
           null,
           null,
           null,
           null,
           null,
           null,
           null,
           null,
           null,
           null,
           null,
           null,
           null,
           null,
           null,
           null,
           null,
           null,
           null,
           null,
           null,
           null,
           null,
           null,
           null,
           null,
           null
          ]
         ]
        },
        {
         "marker": {
          "color": "black",
          "line": {
           "color": "Gray",
           "width": 2
          }
         },
         "mode": "markers",
         "name": "Feasible Trial",
         "showlegend": false,
         "type": "scatter",
         "x": [
          0.20986584841970365,
          0.23661761457749353,
          0.24699098521619944,
          0.16834045098534337,
          0.17912291401980418,
          0.2469269852048718,
          0.24468049264135633,
          0.24753895016177294,
          0.2489461255532115,
          0.24952668897998526,
          0.24997766879025657,
          0.24971386963476672,
          0.2496168685630858,
          0.24758500422390978,
          0.24801078016965392,
          0.2483212158770654,
          0.24835694062356345,
          0.24976913156403052,
          0.24812316705034101,
          0.24993118242690152,
          0.2482906706149228,
          0.24997456747858884,
          0.248269484952899,
          0.24991783192812148,
          0.24997595916056628,
          0.24993894389778556,
          0.24845390578304163,
          0.24989860916354575
         ],
         "xaxis": "x9",
         "y": [
          10,
          8,
          10,
          8,
          9,
          8,
          8,
          8,
          8,
          8,
          8,
          9,
          9,
          9,
          9,
          9,
          9,
          9,
          9,
          9,
          9,
          9,
          9,
          9,
          9,
          9,
          9,
          9
         ],
         "yaxis": "y9"
        },
        {
         "colorbar": {
          "title": {
           "text": "Objective Value"
          }
         },
         "colorscale": [
          [
           0,
           "rgb(247,251,255)"
          ],
          [
           0.125,
           "rgb(222,235,247)"
          ],
          [
           0.25,
           "rgb(198,219,239)"
          ],
          [
           0.375,
           "rgb(158,202,225)"
          ],
          [
           0.5,
           "rgb(107,174,214)"
          ],
          [
           0.625,
           "rgb(66,146,198)"
          ],
          [
           0.75,
           "rgb(33,113,181)"
          ],
          [
           0.875,
           "rgb(8,81,156)"
          ],
          [
           1,
           "rgb(8,48,107)"
          ]
         ],
         "connectgaps": true,
         "contours": {
          "coloring": "heatmap"
         },
         "hoverinfo": "none",
         "line": {
          "smoothing": 1.3
         },
         "reversescale": true,
         "showscale": false,
         "type": "contour",
         "x": [
          0.16425859009509772,
          0.16834045098534337,
          0.17912291401980418,
          0.20986584841970365,
          0.23661761457749353,
          0.24468049264135633,
          0.2469269852048718,
          0.24699098521619944,
          0.24753895016177294,
          0.24758500422390978,
          0.24801078016965392,
          0.24812316705034101,
          0.248269484952899,
          0.2482906706149228,
          0.2483212158770654,
          0.24835694062356345,
          0.24845390578304163,
          0.2489461255532115,
          0.24952668897998526,
          0.2496168685630858,
          0.24971386963476672,
          0.24976913156403052,
          0.24989860916354575,
          0.24991783192812148,
          0.24993118242690152,
          0.24993894389778556,
          0.24997456747858884,
          0.24997595916056628,
          0.24997766879025657,
          0.2540595296805022
         ],
         "xaxis": "x13",
         "y": [
          1.6,
          2,
          3,
          4,
          5,
          8,
          9,
          10,
          10.4
         ],
         "yaxis": "y13",
         "z": [
          [
           null,
           null,
           null,
           null,
           null,
           null,
           null,
           null,
           null,
           null,
           null,
           null,
           null,
           null,
           null,
           null,
           null,
           null,
           null,
           null,
           null,
           null,
           null,
           null,
           null,
           null,
           null,
           null,
           null,
           null
          ],
          [
           null,
           null,
           null,
           null,
           1.0522698682146687,
           1.0522233686821665,
           1.0522479380596679,
           1.0528460754598776,
           1.0523062430270806,
           null,
           null,
           null,
           null,
           null,
           null,
           null,
           null,
           null,
           null,
           null,
           null,
           null,
           null,
           null,
           null,
           null,
           null,
           null,
           null,
           null
          ],
          [
           null,
           1.0521976802099775,
           null,
           null,
           null,
           null,
           null,
           null,
           null,
           null,
           null,
           null,
           null,
           null,
           null,
           null,
           null,
           1.052158303202547,
           null,
           null,
           null,
           null,
           null,
           null,
           null,
           null,
           null,
           null,
           null,
           null
          ],
          [
           null,
           null,
           null,
           null,
           null,
           null,
           null,
           null,
           null,
           null,
           null,
           null,
           null,
           null,
           null,
           null,
           null,
           null,
           1.052065022541493,
           null,
           null,
           null,
           null,
           null,
           null,
           null,
           null,
           null,
           1.0520773546523614,
           null
          ],
          [
           null,
           null,
           1.0522340135393051,
           null,
           null,
           null,
           null,
           null,
           null,
           null,
           null,
           null,
           null,
           null,
           null,
           null,
           null,
           null,
           null,
           null,
           null,
           null,
           null,
           null,
           null,
           null,
           null,
           1.0521827683454765,
           null,
           null
          ],
          [
           null,
           null,
           null,
           1.0526831455027024,
           null,
           null,
           null,
           null,
           null,
           null,
           null,
           null,
           null,
           null,
           null,
           null,
           null,
           null,
           null,
           null,
           1.0522001111453327,
           null,
           null,
           null,
           null,
           null,
           null,
           null,
           null,
           null
          ],
          [
           null,
           null,
           null,
           null,
           null,
           null,
           null,
           null,
           null,
           null,
           null,
           null,
           null,
           1.0521266936231262,
           null,
           1.0522420071555807,
           null,
           null,
           null,
           null,
           null,
           1.0522140204529327,
           1.0521696109764485,
           null,
           1.052191937494924,
           null,
           null,
           null,
           null,
           null
          ],
          [
           null,
           null,
           null,
           null,
           null,
           null,
           null,
           null,
           null,
           1.0521972356239793,
           1.0522269925107022,
           1.0522117112812917,
           1.0522349775231727,
           null,
           1.0522627664310866,
           null,
           1.0521424054056012,
           null,
           null,
           1.0522071267574429,
           null,
           null,
           null,
           1.0522329278391123,
           null,
           1.0521474207363393,
           1.0522220522294448,
           null,
           null,
           null
          ],
          [
           null,
           null,
           null,
           null,
           null,
           null,
           null,
           null,
           null,
           null,
           null,
           null,
           null,
           null,
           null,
           null,
           null,
           null,
           null,
           null,
           null,
           null,
           null,
           null,
           null,
           null,
           null,
           null,
           null,
           null
          ]
         ]
        },
        {
         "marker": {
          "color": "black",
          "line": {
           "color": "Gray",
           "width": 2
          }
         },
         "mode": "markers",
         "name": "Feasible Trial",
         "showlegend": false,
         "type": "scatter",
         "x": [
          0.20986584841970365,
          0.23661761457749353,
          0.24699098521619944,
          0.16834045098534337,
          0.17912291401980418,
          0.2469269852048718,
          0.24468049264135633,
          0.24753895016177294,
          0.2489461255532115,
          0.24952668897998526,
          0.24997766879025657,
          0.24971386963476672,
          0.2496168685630858,
          0.24758500422390978,
          0.24801078016965392,
          0.2483212158770654,
          0.24835694062356345,
          0.24976913156403052,
          0.24812316705034101,
          0.24993118242690152,
          0.2482906706149228,
          0.24997456747858884,
          0.248269484952899,
          0.24991783192812148,
          0.24997595916056628,
          0.24993894389778556,
          0.24845390578304163,
          0.24989860916354575
         ],
         "xaxis": "x13",
         "y": [
          8,
          2,
          2,
          3,
          5,
          2,
          2,
          2,
          3,
          4,
          4,
          8,
          10,
          10,
          10,
          10,
          9,
          9,
          10,
          9,
          9,
          10,
          10,
          10,
          5,
          10,
          10,
          9
         ],
         "yaxis": "y13"
        },
        {
         "colorbar": {
          "title": {
           "text": "Objective Value"
          }
         },
         "colorscale": [
          [
           0,
           "rgb(247,251,255)"
          ],
          [
           0.125,
           "rgb(222,235,247)"
          ],
          [
           0.25,
           "rgb(198,219,239)"
          ],
          [
           0.375,
           "rgb(158,202,225)"
          ],
          [
           0.5,
           "rgb(107,174,214)"
          ],
          [
           0.625,
           "rgb(66,146,198)"
          ],
          [
           0.75,
           "rgb(33,113,181)"
          ],
          [
           0.875,
           "rgb(8,81,156)"
          ],
          [
           1,
           "rgb(8,48,107)"
          ]
         ],
         "connectgaps": true,
         "contours": {
          "coloring": "heatmap"
         },
         "hoverinfo": "none",
         "line": {
          "smoothing": 1.3
         },
         "reversescale": true,
         "showscale": false,
         "type": "contour",
         "x": [
          24.238936690369897,
          32.47449038460792,
          39.64354168406294,
          40.89979767605377,
          43.11602813634241,
          67.80602616231216,
          81.16262258099887,
          124.21185223120968,
          129.42010993632587,
          135.17005713633648,
          141.44200727996292,
          148.99629545002682,
          168.16410175208014,
          168.46466094183324,
          174.0582746076279,
          183.3448418096625,
          183.59230572154684,
          186.0179496350655,
          186.0475127969662,
          188.56296528716115,
          189.35845620327572,
          189.49282767820483,
          191.49309636383265,
          192.39583284220797,
          194.03705901460268,
          194.2859635443494,
          194.32166149510252,
          197.08319843383177,
          197.1855642693683,
          205.42111796360632
         ],
         "xaxis": "x2",
         "y": [
          0.16425859009509772,
          0.16834045098534337,
          0.17912291401980418,
          0.20986584841970365,
          0.23661761457749353,
          0.24468049264135633,
          0.2469269852048718,
          0.24699098521619944,
          0.24753895016177294,
          0.24758500422390978,
          0.24801078016965392,
          0.24812316705034101,
          0.248269484952899,
          0.2482906706149228,
          0.2483212158770654,
          0.24835694062356345,
          0.24845390578304163,
          0.2489461255532115,
          0.24952668897998526,
          0.2496168685630858,
          0.24971386963476672,
          0.24976913156403052,
          0.24989860916354575,
          0.24991783192812148,
          0.24993118242690152,
          0.24993894389778556,
          0.24997456747858884,
          0.24997595916056628,
          0.24997766879025657,
          0.2540595296805022
         ],
         "yaxis": "y2",
         "z": [
          [
           null,
           null,
           null,
           null,
           null,
           null,
           null,
           null,
           null,
           null,
           null,
           null,
           null,
           null,
           null,
           null,
           null,
           null,
           null,
           null,
           null,
           null,
           null,
           null,
           null,
           null,
           null,
           null,
           null,
           null
          ],
          [
           null,
           null,
           null,
           null,
           null,
           null,
           null,
           null,
           null,
           null,
           null,
           null,
           1.0521976802099775,
           null,
           null,
           null,
           null,
           null,
           null,
           null,
           null,
           null,
           null,
           null,
           null,
           null,
           null,
           null,
           null,
           null
          ],
          [
           null,
           null,
           null,
           null,
           null,
           1.0522340135393051,
           null,
           null,
           null,
           null,
           null,
           null,
           null,
           null,
           null,
           null,
           null,
           null,
           null,
           null,
           null,
           null,
           null,
           null,
           null,
           null,
           null,
           null,
           null,
           null
          ],
          [
           null,
           null,
           null,
           null,
           null,
           null,
           1.0526831455027024,
           null,
           null,
           null,
           null,
           null,
           null,
           null,
           null,
           null,
           null,
           null,
           null,
           null,
           null,
           null,
           null,
           null,
           null,
           null,
           null,
           null,
           null,
           null
          ],
          [
           null,
           null,
           1.0522698682146687,
           null,
           null,
           null,
           null,
           null,
           null,
           null,
           null,
           null,
           null,
           null,
           null,
           null,
           null,
           null,
           null,
           null,
           null,
           null,
           null,
           null,
           null,
           null,
           null,
           null,
           null,
           null
          ],
          [
           null,
           null,
           null,
           null,
           1.0522233686821665,
           null,
           null,
           null,
           null,
           null,
           null,
           null,
           null,
           null,
           null,
           null,
           null,
           null,
           null,
           null,
           null,
           null,
           null,
           null,
           null,
           null,
           null,
           null,
           null,
           null
          ],
          [
           null,
           null,
           null,
           1.0522479380596679,
           null,
           null,
           null,
           null,
           null,
           null,
           null,
           null,
           null,
           null,
           null,
           null,
           null,
           null,
           null,
           null,
           null,
           null,
           null,
           null,
           null,
           null,
           null,
           null,
           null,
           null
          ],
          [
           null,
           null,
           null,
           null,
           null,
           null,
           null,
           1.0528460754598776,
           null,
           null,
           null,
           null,
           null,
           null,
           null,
           null,
           null,
           null,
           null,
           null,
           null,
           null,
           null,
           null,
           null,
           null,
           null,
           null,
           null,
           null
          ],
          [
           null,
           1.0523062430270806,
           null,
           null,
           null,
           null,
           null,
           null,
           null,
           null,
           null,
           null,
           null,
           null,
           null,
           null,
           null,
           null,
           null,
           null,
           null,
           null,
           null,
           null,
           null,
           null,
           null,
           null,
           null,
           null
          ],
          [
           null,
           null,
           null,
           null,
           null,
           null,
           null,
           null,
           null,
           null,
           null,
           null,
           null,
           null,
           null,
           null,
           null,
           null,
           null,
           null,
           null,
           null,
           null,
           null,
           1.0521972356239793,
           null,
           null,
           null,
           null,
           null
          ],
          [
           null,
           null,
           null,
           null,
           null,
           null,
           null,
           null,
           null,
           null,
           null,
           null,
           null,
           null,
           null,
           null,
           null,
           null,
           null,
           null,
           null,
           null,
           null,
           null,
           null,
           1.0522269925107022,
           null,
           null,
           null,
           null
          ],
          [
           null,
           null,
           null,
           null,
           null,
           null,
           null,
           null,
           null,
           null,
           null,
           null,
           null,
           null,
           1.0522117112812917,
           null,
           null,
           null,
           null,
           null,
           null,
           null,
           null,
           null,
           null,
           null,
           null,
           null,
           null,
           null
          ],
          [
           null,
           null,
           null,
           null,
           null,
           null,
           null,
           null,
           null,
           null,
           null,
           null,
           null,
           null,
           null,
           null,
           null,
           null,
           null,
           1.0522349775231727,
           null,
           null,
           null,
           null,
           null,
           null,
           null,
           null,
           null,
           null
          ],
          [
           null,
           null,
           null,
           null,
           null,
           null,
           null,
           null,
           null,
           null,
           null,
           null,
           null,
           null,
           null,
           null,
           null,
           null,
           null,
           null,
           null,
           null,
           null,
           null,
           null,
           null,
           1.0521266936231262,
           null,
           null,
           null
          ],
          [
           null,
           null,
           null,
           null,
           null,
           null,
           null,
           null,
           null,
           null,
           null,
           null,
           null,
           null,
           null,
           null,
           null,
           null,
           null,
           null,
           null,
           null,
           null,
           null,
           null,
           null,
           null,
           null,
           1.0522627664310866,
           null
          ],
          [
           null,
           null,
           null,
           null,
           null,
           null,
           null,
           null,
           null,
           null,
           null,
           null,
           null,
           1.0522420071555807,
           null,
           null,
           null,
           null,
           null,
           null,
           null,
           null,
           null,
           null,
           null,
           null,
           null,
           null,
           null,
           null
          ],
          [
           null,
           null,
           null,
           null,
           null,
           null,
           null,
           null,
           null,
           null,
           null,
           null,
           null,
           null,
           null,
           null,
           null,
           null,
           1.0521424054056012,
           null,
           null,
           null,
           null,
           null,
           null,
           null,
           null,
           null,
           null,
           null
          ],
          [
           null,
           null,
           null,
           null,
           null,
           null,
           null,
           null,
           null,
           1.052158303202547,
           null,
           null,
           null,
           null,
           null,
           null,
           null,
           null,
           null,
           null,
           null,
           null,
           null,
           null,
           null,
           null,
           null,
           null,
           null,
           null
          ],
          [
           null,
           null,
           null,
           null,
           null,
           null,
           null,
           null,
           null,
           null,
           null,
           1.052065022541493,
           null,
           null,
           null,
           null,
           null,
           null,
           null,
           null,
           null,
           null,
           null,
           null,
           null,
           null,
           null,
           null,
           null,
           null
          ],
          [
           null,
           null,
           null,
           null,
           null,
           null,
           null,
           null,
           null,
           null,
           null,
           null,
           null,
           null,
           null,
           1.0522071267574429,
           null,
           null,
           null,
           null,
           null,
           null,
           null,
           null,
           null,
           null,
           null,
           null,
           null,
           null
          ],
          [
           null,
           null,
           null,
           null,
           null,
           null,
           null,
           null,
           null,
           null,
           1.0522001111453327,
           null,
           null,
           null,
           null,
           null,
           null,
           null,
           null,
           null,
           null,
           null,
           null,
           null,
           null,
           null,
           null,
           null,
           null,
           null
          ],
          [
           null,
           null,
           null,
           null,
           null,
           null,
           null,
           null,
           null,
           null,
           null,
           null,
           null,
           null,
           null,
           null,
           null,
           null,
           null,
           null,
           null,
           null,
           null,
           1.0522140204529327,
           null,
           null,
           null,
           null,
           null,
           null
          ],
          [
           null,
           null,
           null,
           null,
           null,
           null,
           null,
           null,
           null,
           null,
           null,
           null,
           null,
           null,
           null,
           null,
           null,
           null,
           null,
           null,
           null,
           null,
           1.0521696109764485,
           null,
           null,
           null,
           null,
           null,
           null,
           null
          ],
          [
           null,
           null,
           null,
           null,
           null,
           null,
           null,
           null,
           null,
           null,
           null,
           null,
           null,
           null,
           null,
           null,
           null,
           null,
           null,
           null,
           1.0522329278391123,
           null,
           null,
           null,
           null,
           null,
           null,
           null,
           null,
           null
          ],
          [
           null,
           null,
           null,
           null,
           null,
           null,
           null,
           null,
           null,
           null,
           null,
           null,
           null,
           null,
           null,
           null,
           1.052191937494924,
           null,
           null,
           null,
           null,
           null,
           null,
           null,
           null,
           null,
           null,
           null,
           null,
           null
          ],
          [
           null,
           null,
           null,
           null,
           null,
           null,
           null,
           null,
           null,
           null,
           null,
           null,
           null,
           null,
           null,
           null,
           null,
           1.0521474207363393,
           null,
           null,
           null,
           null,
           null,
           null,
           null,
           null,
           null,
           null,
           null,
           null
          ],
          [
           null,
           null,
           null,
           null,
           null,
           null,
           null,
           null,
           null,
           null,
           null,
           null,
           null,
           null,
           null,
           null,
           null,
           null,
           null,
           null,
           null,
           1.0522220522294448,
           null,
           null,
           null,
           null,
           null,
           null,
           null,
           null
          ],
          [
           null,
           null,
           null,
           null,
           null,
           null,
           null,
           null,
           null,
           null,
           null,
           null,
           null,
           null,
           null,
           null,
           null,
           null,
           null,
           null,
           null,
           null,
           null,
           null,
           null,
           null,
           null,
           1.0521827683454765,
           null,
           null
          ],
          [
           null,
           null,
           null,
           null,
           null,
           null,
           null,
           null,
           1.0520773546523614,
           null,
           null,
           null,
           null,
           null,
           null,
           null,
           null,
           null,
           null,
           null,
           null,
           null,
           null,
           null,
           null,
           null,
           null,
           null,
           null,
           null
          ],
          [
           null,
           null,
           null,
           null,
           null,
           null,
           null,
           null,
           null,
           null,
           null,
           null,
           null,
           null,
           null,
           null,
           null,
           null,
           null,
           null,
           null,
           null,
           null,
           null,
           null,
           null,
           null,
           null,
           null,
           null
          ]
         ]
        },
        {
         "marker": {
          "color": "black",
          "line": {
           "color": "Gray",
           "width": 2
          }
         },
         "mode": "markers",
         "name": "Feasible Trial",
         "showlegend": false,
         "type": "scatter",
         "x": [
          81.16262258099887,
          39.64354168406294,
          124.21185223120968,
          168.16410175208014,
          67.80602616231216,
          40.89979767605377,
          43.11602813634241,
          32.47449038460792,
          135.17005713633648,
          148.99629545002682,
          129.42010993632587,
          141.44200727996292,
          183.3448418096625,
          194.03705901460268,
          194.2859635443494,
          197.1855642693683,
          168.46466094183324,
          192.39583284220797,
          174.0582746076279,
          183.59230572154684,
          194.32166149510252,
          189.49282767820483,
          188.56296528716115,
          189.35845620327572,
          197.08319843383177,
          186.0179496350655,
          186.0475127969662,
          191.49309636383265
         ],
         "xaxis": "x2",
         "y": [
          0.20986584841970365,
          0.23661761457749353,
          0.24699098521619944,
          0.16834045098534337,
          0.17912291401980418,
          0.2469269852048718,
          0.24468049264135633,
          0.24753895016177294,
          0.2489461255532115,
          0.24952668897998526,
          0.24997766879025657,
          0.24971386963476672,
          0.2496168685630858,
          0.24758500422390978,
          0.24801078016965392,
          0.2483212158770654,
          0.24835694062356345,
          0.24976913156403052,
          0.24812316705034101,
          0.24993118242690152,
          0.2482906706149228,
          0.24997456747858884,
          0.248269484952899,
          0.24991783192812148,
          0.24997595916056628,
          0.24993894389778556,
          0.24845390578304163,
          0.24989860916354575
         ],
         "yaxis": "y2"
        },
        {
         "type": "scatter",
         "xaxis": "x6",
         "yaxis": "y6"
        },
        {
         "colorbar": {
          "title": {
           "text": "Objective Value"
          }
         },
         "colorscale": [
          [
           0,
           "rgb(247,251,255)"
          ],
          [
           0.125,
           "rgb(222,235,247)"
          ],
          [
           0.25,
           "rgb(198,219,239)"
          ],
          [
           0.375,
           "rgb(158,202,225)"
          ],
          [
           0.5,
           "rgb(107,174,214)"
          ],
          [
           0.625,
           "rgb(66,146,198)"
          ],
          [
           0.75,
           "rgb(33,113,181)"
          ],
          [
           0.875,
           "rgb(8,81,156)"
          ],
          [
           1,
           "rgb(8,48,107)"
          ]
         ],
         "connectgaps": true,
         "contours": {
          "coloring": "heatmap"
         },
         "hoverinfo": "none",
         "line": {
          "smoothing": 1.3
         },
         "reversescale": true,
         "showscale": false,
         "type": "contour",
         "x": [
          24.238936690369897,
          32.47449038460792,
          39.64354168406294,
          40.89979767605377,
          43.11602813634241,
          67.80602616231216,
          81.16262258099887,
          124.21185223120968,
          129.42010993632587,
          135.17005713633648,
          141.44200727996292,
          148.99629545002682,
          168.16410175208014,
          168.46466094183324,
          174.0582746076279,
          183.3448418096625,
          183.59230572154684,
          186.0179496350655,
          186.0475127969662,
          188.56296528716115,
          189.35845620327572,
          189.49282767820483,
          191.49309636383265,
          192.39583284220797,
          194.03705901460268,
          194.2859635443494,
          194.32166149510252,
          197.08319843383177,
          197.1855642693683,
          205.42111796360632
         ],
         "xaxis": "x10",
         "y": [
          7.9,
          8,
          9,
          10,
          10.1
         ],
         "yaxis": "y10",
         "z": [
          [
           null,
           null,
           null,
           null,
           null,
           null,
           null,
           null,
           null,
           null,
           null,
           null,
           null,
           null,
           null,
           null,
           null,
           null,
           null,
           null,
           null,
           null,
           null,
           null,
           null,
           null,
           null,
           null,
           null,
           null
          ],
          [
           null,
           1.0523062430270806,
           1.0522698682146687,
           1.0522479380596679,
           1.0522233686821665,
           null,
           null,
           null,
           1.0520773546523614,
           1.052158303202547,
           null,
           1.052065022541493,
           1.0521976802099775,
           null,
           null,
           null,
           null,
           null,
           null,
           null,
           null,
           null,
           null,
           null,
           null,
           null,
           null,
           null,
           null,
           null
          ],
          [
           null,
           null,
           null,
           null,
           null,
           1.0522340135393051,
           null,
           null,
           null,
           null,
           1.0522001111453327,
           null,
           null,
           1.0522420071555807,
           1.0522117112812917,
           1.0522071267574429,
           1.052191937494924,
           1.0521474207363393,
           1.0521424054056012,
           1.0522349775231727,
           1.0522329278391123,
           1.0522220522294448,
           1.0521696109764485,
           1.0522140204529327,
           1.0521972356239793,
           1.0522269925107022,
           1.0521266936231262,
           1.0521827683454765,
           1.0522627664310866,
           null
          ],
          [
           null,
           null,
           null,
           null,
           null,
           null,
           1.0526831455027024,
           1.0528460754598776,
           null,
           null,
           null,
           null,
           null,
           null,
           null,
           null,
           null,
           null,
           null,
           null,
           null,
           null,
           null,
           null,
           null,
           null,
           null,
           null,
           null,
           null
          ],
          [
           null,
           null,
           null,
           null,
           null,
           null,
           null,
           null,
           null,
           null,
           null,
           null,
           null,
           null,
           null,
           null,
           null,
           null,
           null,
           null,
           null,
           null,
           null,
           null,
           null,
           null,
           null,
           null,
           null,
           null
          ]
         ]
        },
        {
         "marker": {
          "color": "black",
          "line": {
           "color": "Gray",
           "width": 2
          }
         },
         "mode": "markers",
         "name": "Feasible Trial",
         "showlegend": false,
         "type": "scatter",
         "x": [
          81.16262258099887,
          39.64354168406294,
          124.21185223120968,
          168.16410175208014,
          67.80602616231216,
          40.89979767605377,
          43.11602813634241,
          32.47449038460792,
          135.17005713633648,
          148.99629545002682,
          129.42010993632587,
          141.44200727996292,
          183.3448418096625,
          194.03705901460268,
          194.2859635443494,
          197.1855642693683,
          168.46466094183324,
          192.39583284220797,
          174.0582746076279,
          183.59230572154684,
          194.32166149510252,
          189.49282767820483,
          188.56296528716115,
          189.35845620327572,
          197.08319843383177,
          186.0179496350655,
          186.0475127969662,
          191.49309636383265
         ],
         "xaxis": "x10",
         "y": [
          10,
          8,
          10,
          8,
          9,
          8,
          8,
          8,
          8,
          8,
          8,
          9,
          9,
          9,
          9,
          9,
          9,
          9,
          9,
          9,
          9,
          9,
          9,
          9,
          9,
          9,
          9,
          9
         ],
         "yaxis": "y10"
        },
        {
         "colorbar": {
          "title": {
           "text": "Objective Value"
          }
         },
         "colorscale": [
          [
           0,
           "rgb(247,251,255)"
          ],
          [
           0.125,
           "rgb(222,235,247)"
          ],
          [
           0.25,
           "rgb(198,219,239)"
          ],
          [
           0.375,
           "rgb(158,202,225)"
          ],
          [
           0.5,
           "rgb(107,174,214)"
          ],
          [
           0.625,
           "rgb(66,146,198)"
          ],
          [
           0.75,
           "rgb(33,113,181)"
          ],
          [
           0.875,
           "rgb(8,81,156)"
          ],
          [
           1,
           "rgb(8,48,107)"
          ]
         ],
         "connectgaps": true,
         "contours": {
          "coloring": "heatmap"
         },
         "hoverinfo": "none",
         "line": {
          "smoothing": 1.3
         },
         "reversescale": true,
         "showscale": false,
         "type": "contour",
         "x": [
          24.238936690369897,
          32.47449038460792,
          39.64354168406294,
          40.89979767605377,
          43.11602813634241,
          67.80602616231216,
          81.16262258099887,
          124.21185223120968,
          129.42010993632587,
          135.17005713633648,
          141.44200727996292,
          148.99629545002682,
          168.16410175208014,
          168.46466094183324,
          174.0582746076279,
          183.3448418096625,
          183.59230572154684,
          186.0179496350655,
          186.0475127969662,
          188.56296528716115,
          189.35845620327572,
          189.49282767820483,
          191.49309636383265,
          192.39583284220797,
          194.03705901460268,
          194.2859635443494,
          194.32166149510252,
          197.08319843383177,
          197.1855642693683,
          205.42111796360632
         ],
         "xaxis": "x14",
         "y": [
          1.6,
          2,
          3,
          4,
          5,
          8,
          9,
          10,
          10.4
         ],
         "yaxis": "y14",
         "z": [
          [
           null,
           null,
           null,
           null,
           null,
           null,
           null,
           null,
           null,
           null,
           null,
           null,
           null,
           null,
           null,
           null,
           null,
           null,
           null,
           null,
           null,
           null,
           null,
           null,
           null,
           null,
           null,
           null,
           null,
           null
          ],
          [
           null,
           1.0523062430270806,
           1.0522698682146687,
           1.0522479380596679,
           1.0522233686821665,
           null,
           null,
           1.0528460754598776,
           null,
           null,
           null,
           null,
           null,
           null,
           null,
           null,
           null,
           null,
           null,
           null,
           null,
           null,
           null,
           null,
           null,
           null,
           null,
           null,
           null,
           null
          ],
          [
           null,
           null,
           null,
           null,
           null,
           null,
           null,
           null,
           null,
           1.052158303202547,
           null,
           null,
           1.0521976802099775,
           null,
           null,
           null,
           null,
           null,
           null,
           null,
           null,
           null,
           null,
           null,
           null,
           null,
           null,
           null,
           null,
           null
          ],
          [
           null,
           null,
           null,
           null,
           null,
           null,
           null,
           null,
           1.0520773546523614,
           null,
           null,
           1.052065022541493,
           null,
           null,
           null,
           null,
           null,
           null,
           null,
           null,
           null,
           null,
           null,
           null,
           null,
           null,
           null,
           null,
           null,
           null
          ],
          [
           null,
           null,
           null,
           null,
           null,
           1.0522340135393051,
           null,
           null,
           null,
           null,
           null,
           null,
           null,
           null,
           null,
           null,
           null,
           null,
           null,
           null,
           null,
           null,
           null,
           null,
           null,
           null,
           null,
           1.0521827683454765,
           null,
           null
          ],
          [
           null,
           null,
           null,
           null,
           null,
           null,
           1.0526831455027024,
           null,
           null,
           null,
           1.0522001111453327,
           null,
           null,
           null,
           null,
           null,
           null,
           null,
           null,
           null,
           null,
           null,
           null,
           null,
           null,
           null,
           null,
           null,
           null,
           null
          ],
          [
           null,
           null,
           null,
           null,
           null,
           null,
           null,
           null,
           null,
           null,
           null,
           null,
           null,
           1.0522420071555807,
           null,
           null,
           1.052191937494924,
           null,
           null,
           null,
           null,
           null,
           1.0521696109764485,
           1.0522140204529327,
           null,
           null,
           1.0521266936231262,
           null,
           null,
           null
          ],
          [
           null,
           null,
           null,
           null,
           null,
           null,
           null,
           null,
           null,
           null,
           null,
           null,
           null,
           null,
           1.0522117112812917,
           1.0522071267574429,
           null,
           1.0521474207363393,
           1.0521424054056012,
           1.0522349775231727,
           1.0522329278391123,
           1.0522220522294448,
           null,
           null,
           1.0521972356239793,
           1.0522269925107022,
           null,
           null,
           1.0522627664310866,
           null
          ],
          [
           null,
           null,
           null,
           null,
           null,
           null,
           null,
           null,
           null,
           null,
           null,
           null,
           null,
           null,
           null,
           null,
           null,
           null,
           null,
           null,
           null,
           null,
           null,
           null,
           null,
           null,
           null,
           null,
           null,
           null
          ]
         ]
        },
        {
         "marker": {
          "color": "black",
          "line": {
           "color": "Gray",
           "width": 2
          }
         },
         "mode": "markers",
         "name": "Feasible Trial",
         "showlegend": false,
         "type": "scatter",
         "x": [
          81.16262258099887,
          39.64354168406294,
          124.21185223120968,
          168.16410175208014,
          67.80602616231216,
          40.89979767605377,
          43.11602813634241,
          32.47449038460792,
          135.17005713633648,
          148.99629545002682,
          129.42010993632587,
          141.44200727996292,
          183.3448418096625,
          194.03705901460268,
          194.2859635443494,
          197.1855642693683,
          168.46466094183324,
          192.39583284220797,
          174.0582746076279,
          183.59230572154684,
          194.32166149510252,
          189.49282767820483,
          188.56296528716115,
          189.35845620327572,
          197.08319843383177,
          186.0179496350655,
          186.0475127969662,
          191.49309636383265
         ],
         "xaxis": "x14",
         "y": [
          8,
          2,
          2,
          3,
          5,
          2,
          2,
          2,
          3,
          4,
          4,
          8,
          10,
          10,
          10,
          10,
          9,
          9,
          10,
          9,
          9,
          10,
          10,
          10,
          5,
          10,
          10,
          9
         ],
         "yaxis": "y14"
        },
        {
         "colorbar": {
          "title": {
           "text": "Objective Value"
          }
         },
         "colorscale": [
          [
           0,
           "rgb(247,251,255)"
          ],
          [
           0.125,
           "rgb(222,235,247)"
          ],
          [
           0.25,
           "rgb(198,219,239)"
          ],
          [
           0.375,
           "rgb(158,202,225)"
          ],
          [
           0.5,
           "rgb(107,174,214)"
          ],
          [
           0.625,
           "rgb(66,146,198)"
          ],
          [
           0.75,
           "rgb(33,113,181)"
          ],
          [
           0.875,
           "rgb(8,81,156)"
          ],
          [
           1,
           "rgb(8,48,107)"
          ]
         ],
         "connectgaps": true,
         "contours": {
          "coloring": "heatmap"
         },
         "hoverinfo": "none",
         "line": {
          "smoothing": 1.3
         },
         "reversescale": true,
         "showscale": false,
         "type": "contour",
         "x": [
          7.9,
          8,
          9,
          10,
          10.1
         ],
         "xaxis": "x3",
         "y": [
          0.16425859009509772,
          0.16834045098534337,
          0.17912291401980418,
          0.20986584841970365,
          0.23661761457749353,
          0.24468049264135633,
          0.2469269852048718,
          0.24699098521619944,
          0.24753895016177294,
          0.24758500422390978,
          0.24801078016965392,
          0.24812316705034101,
          0.248269484952899,
          0.2482906706149228,
          0.2483212158770654,
          0.24835694062356345,
          0.24845390578304163,
          0.2489461255532115,
          0.24952668897998526,
          0.2496168685630858,
          0.24971386963476672,
          0.24976913156403052,
          0.24989860916354575,
          0.24991783192812148,
          0.24993118242690152,
          0.24993894389778556,
          0.24997456747858884,
          0.24997595916056628,
          0.24997766879025657,
          0.2540595296805022
         ],
         "yaxis": "y3",
         "z": [
          [
           null,
           null,
           null,
           null,
           null
          ],
          [
           null,
           1.0521976802099775,
           null,
           null,
           null
          ],
          [
           null,
           null,
           1.0522340135393051,
           null,
           null
          ],
          [
           null,
           null,
           null,
           1.0526831455027024,
           null
          ],
          [
           null,
           1.0522698682146687,
           null,
           null,
           null
          ],
          [
           null,
           1.0522233686821665,
           null,
           null,
           null
          ],
          [
           null,
           1.0522479380596679,
           null,
           null,
           null
          ],
          [
           null,
           null,
           null,
           1.0528460754598776,
           null
          ],
          [
           null,
           1.0523062430270806,
           null,
           null,
           null
          ],
          [
           null,
           null,
           1.0521972356239793,
           null,
           null
          ],
          [
           null,
           null,
           1.0522269925107022,
           null,
           null
          ],
          [
           null,
           null,
           1.0522117112812917,
           null,
           null
          ],
          [
           null,
           null,
           1.0522349775231727,
           null,
           null
          ],
          [
           null,
           null,
           1.0521266936231262,
           null,
           null
          ],
          [
           null,
           null,
           1.0522627664310866,
           null,
           null
          ],
          [
           null,
           null,
           1.0522420071555807,
           null,
           null
          ],
          [
           null,
           null,
           1.0521424054056012,
           null,
           null
          ],
          [
           null,
           1.052158303202547,
           null,
           null,
           null
          ],
          [
           null,
           1.052065022541493,
           null,
           null,
           null
          ],
          [
           null,
           null,
           1.0522071267574429,
           null,
           null
          ],
          [
           null,
           null,
           1.0522001111453327,
           null,
           null
          ],
          [
           null,
           null,
           1.0522140204529327,
           null,
           null
          ],
          [
           null,
           null,
           1.0521696109764485,
           null,
           null
          ],
          [
           null,
           null,
           1.0522329278391123,
           null,
           null
          ],
          [
           null,
           null,
           1.052191937494924,
           null,
           null
          ],
          [
           null,
           null,
           1.0521474207363393,
           null,
           null
          ],
          [
           null,
           null,
           1.0522220522294448,
           null,
           null
          ],
          [
           null,
           null,
           1.0521827683454765,
           null,
           null
          ],
          [
           null,
           1.0520773546523614,
           null,
           null,
           null
          ],
          [
           null,
           null,
           null,
           null,
           null
          ]
         ]
        },
        {
         "marker": {
          "color": "black",
          "line": {
           "color": "Gray",
           "width": 2
          }
         },
         "mode": "markers",
         "name": "Feasible Trial",
         "showlegend": false,
         "type": "scatter",
         "x": [
          10,
          8,
          10,
          8,
          9,
          8,
          8,
          8,
          8,
          8,
          8,
          9,
          9,
          9,
          9,
          9,
          9,
          9,
          9,
          9,
          9,
          9,
          9,
          9,
          9,
          9,
          9,
          9
         ],
         "xaxis": "x3",
         "y": [
          0.20986584841970365,
          0.23661761457749353,
          0.24699098521619944,
          0.16834045098534337,
          0.17912291401980418,
          0.2469269852048718,
          0.24468049264135633,
          0.24753895016177294,
          0.2489461255532115,
          0.24952668897998526,
          0.24997766879025657,
          0.24971386963476672,
          0.2496168685630858,
          0.24758500422390978,
          0.24801078016965392,
          0.2483212158770654,
          0.24835694062356345,
          0.24976913156403052,
          0.24812316705034101,
          0.24993118242690152,
          0.2482906706149228,
          0.24997456747858884,
          0.248269484952899,
          0.24991783192812148,
          0.24997595916056628,
          0.24993894389778556,
          0.24845390578304163,
          0.24989860916354575
         ],
         "yaxis": "y3"
        },
        {
         "colorbar": {
          "title": {
           "text": "Objective Value"
          }
         },
         "colorscale": [
          [
           0,
           "rgb(247,251,255)"
          ],
          [
           0.125,
           "rgb(222,235,247)"
          ],
          [
           0.25,
           "rgb(198,219,239)"
          ],
          [
           0.375,
           "rgb(158,202,225)"
          ],
          [
           0.5,
           "rgb(107,174,214)"
          ],
          [
           0.625,
           "rgb(66,146,198)"
          ],
          [
           0.75,
           "rgb(33,113,181)"
          ],
          [
           0.875,
           "rgb(8,81,156)"
          ],
          [
           1,
           "rgb(8,48,107)"
          ]
         ],
         "connectgaps": true,
         "contours": {
          "coloring": "heatmap"
         },
         "hoverinfo": "none",
         "line": {
          "smoothing": 1.3
         },
         "reversescale": true,
         "showscale": false,
         "type": "contour",
         "x": [
          7.9,
          8,
          9,
          10,
          10.1
         ],
         "xaxis": "x7",
         "y": [
          24.238936690369897,
          32.47449038460792,
          39.64354168406294,
          40.89979767605377,
          43.11602813634241,
          67.80602616231216,
          81.16262258099887,
          124.21185223120968,
          129.42010993632587,
          135.17005713633648,
          141.44200727996292,
          148.99629545002682,
          168.16410175208014,
          168.46466094183324,
          174.0582746076279,
          183.3448418096625,
          183.59230572154684,
          186.0179496350655,
          186.0475127969662,
          188.56296528716115,
          189.35845620327572,
          189.49282767820483,
          191.49309636383265,
          192.39583284220797,
          194.03705901460268,
          194.2859635443494,
          194.32166149510252,
          197.08319843383177,
          197.1855642693683,
          205.42111796360632
         ],
         "yaxis": "y7",
         "z": [
          [
           null,
           null,
           null,
           null,
           null
          ],
          [
           null,
           1.0523062430270806,
           null,
           null,
           null
          ],
          [
           null,
           1.0522698682146687,
           null,
           null,
           null
          ],
          [
           null,
           1.0522479380596679,
           null,
           null,
           null
          ],
          [
           null,
           1.0522233686821665,
           null,
           null,
           null
          ],
          [
           null,
           null,
           1.0522340135393051,
           null,
           null
          ],
          [
           null,
           null,
           null,
           1.0526831455027024,
           null
          ],
          [
           null,
           null,
           null,
           1.0528460754598776,
           null
          ],
          [
           null,
           1.0520773546523614,
           null,
           null,
           null
          ],
          [
           null,
           1.052158303202547,
           null,
           null,
           null
          ],
          [
           null,
           null,
           1.0522001111453327,
           null,
           null
          ],
          [
           null,
           1.052065022541493,
           null,
           null,
           null
          ],
          [
           null,
           1.0521976802099775,
           null,
           null,
           null
          ],
          [
           null,
           null,
           1.0522420071555807,
           null,
           null
          ],
          [
           null,
           null,
           1.0522117112812917,
           null,
           null
          ],
          [
           null,
           null,
           1.0522071267574429,
           null,
           null
          ],
          [
           null,
           null,
           1.052191937494924,
           null,
           null
          ],
          [
           null,
           null,
           1.0521474207363393,
           null,
           null
          ],
          [
           null,
           null,
           1.0521424054056012,
           null,
           null
          ],
          [
           null,
           null,
           1.0522349775231727,
           null,
           null
          ],
          [
           null,
           null,
           1.0522329278391123,
           null,
           null
          ],
          [
           null,
           null,
           1.0522220522294448,
           null,
           null
          ],
          [
           null,
           null,
           1.0521696109764485,
           null,
           null
          ],
          [
           null,
           null,
           1.0522140204529327,
           null,
           null
          ],
          [
           null,
           null,
           1.0521972356239793,
           null,
           null
          ],
          [
           null,
           null,
           1.0522269925107022,
           null,
           null
          ],
          [
           null,
           null,
           1.0521266936231262,
           null,
           null
          ],
          [
           null,
           null,
           1.0521827683454765,
           null,
           null
          ],
          [
           null,
           null,
           1.0522627664310866,
           null,
           null
          ],
          [
           null,
           null,
           null,
           null,
           null
          ]
         ]
        },
        {
         "marker": {
          "color": "black",
          "line": {
           "color": "Gray",
           "width": 2
          }
         },
         "mode": "markers",
         "name": "Feasible Trial",
         "showlegend": false,
         "type": "scatter",
         "x": [
          10,
          8,
          10,
          8,
          9,
          8,
          8,
          8,
          8,
          8,
          8,
          9,
          9,
          9,
          9,
          9,
          9,
          9,
          9,
          9,
          9,
          9,
          9,
          9,
          9,
          9,
          9,
          9
         ],
         "xaxis": "x7",
         "y": [
          81.16262258099887,
          39.64354168406294,
          124.21185223120968,
          168.16410175208014,
          67.80602616231216,
          40.89979767605377,
          43.11602813634241,
          32.47449038460792,
          135.17005713633648,
          148.99629545002682,
          129.42010993632587,
          141.44200727996292,
          183.3448418096625,
          194.03705901460268,
          194.2859635443494,
          197.1855642693683,
          168.46466094183324,
          192.39583284220797,
          174.0582746076279,
          183.59230572154684,
          194.32166149510252,
          189.49282767820483,
          188.56296528716115,
          189.35845620327572,
          197.08319843383177,
          186.0179496350655,
          186.0475127969662,
          191.49309636383265
         ],
         "yaxis": "y7"
        },
        {
         "type": "scatter",
         "xaxis": "x11",
         "yaxis": "y11"
        },
        {
         "colorbar": {
          "title": {
           "text": "Objective Value"
          }
         },
         "colorscale": [
          [
           0,
           "rgb(247,251,255)"
          ],
          [
           0.125,
           "rgb(222,235,247)"
          ],
          [
           0.25,
           "rgb(198,219,239)"
          ],
          [
           0.375,
           "rgb(158,202,225)"
          ],
          [
           0.5,
           "rgb(107,174,214)"
          ],
          [
           0.625,
           "rgb(66,146,198)"
          ],
          [
           0.75,
           "rgb(33,113,181)"
          ],
          [
           0.875,
           "rgb(8,81,156)"
          ],
          [
           1,
           "rgb(8,48,107)"
          ]
         ],
         "connectgaps": true,
         "contours": {
          "coloring": "heatmap"
         },
         "hoverinfo": "none",
         "line": {
          "smoothing": 1.3
         },
         "reversescale": true,
         "showscale": false,
         "type": "contour",
         "x": [
          7.9,
          8,
          9,
          10,
          10.1
         ],
         "xaxis": "x15",
         "y": [
          1.6,
          2,
          3,
          4,
          5,
          8,
          9,
          10,
          10.4
         ],
         "yaxis": "y15",
         "z": [
          [
           null,
           null,
           null,
           null,
           null
          ],
          [
           null,
           1.0522233686821665,
           null,
           1.0528460754598776,
           null
          ],
          [
           null,
           1.052158303202547,
           null,
           null,
           null
          ],
          [
           null,
           1.052065022541493,
           null,
           null,
           null
          ],
          [
           null,
           null,
           1.0521827683454765,
           null,
           null
          ],
          [
           null,
           null,
           1.0522001111453327,
           1.0526831455027024,
           null
          ],
          [
           null,
           null,
           1.0521266936231262,
           null,
           null
          ],
          [
           null,
           null,
           1.0521424054056012,
           null,
           null
          ],
          [
           null,
           null,
           null,
           null,
           null
          ]
         ]
        },
        {
         "marker": {
          "color": "black",
          "line": {
           "color": "Gray",
           "width": 2
          }
         },
         "mode": "markers",
         "name": "Feasible Trial",
         "showlegend": false,
         "type": "scatter",
         "x": [
          10,
          8,
          10,
          8,
          9,
          8,
          8,
          8,
          8,
          8,
          8,
          9,
          9,
          9,
          9,
          9,
          9,
          9,
          9,
          9,
          9,
          9,
          9,
          9,
          9,
          9,
          9,
          9
         ],
         "xaxis": "x15",
         "y": [
          8,
          2,
          2,
          3,
          5,
          2,
          2,
          2,
          3,
          4,
          4,
          8,
          10,
          10,
          10,
          10,
          9,
          9,
          10,
          9,
          9,
          10,
          10,
          10,
          5,
          10,
          10,
          9
         ],
         "yaxis": "y15"
        },
        {
         "colorbar": {
          "title": {
           "text": "Objective Value"
          }
         },
         "colorscale": [
          [
           0,
           "rgb(247,251,255)"
          ],
          [
           0.125,
           "rgb(222,235,247)"
          ],
          [
           0.25,
           "rgb(198,219,239)"
          ],
          [
           0.375,
           "rgb(158,202,225)"
          ],
          [
           0.5,
           "rgb(107,174,214)"
          ],
          [
           0.625,
           "rgb(66,146,198)"
          ],
          [
           0.75,
           "rgb(33,113,181)"
          ],
          [
           0.875,
           "rgb(8,81,156)"
          ],
          [
           1,
           "rgb(8,48,107)"
          ]
         ],
         "connectgaps": true,
         "contours": {
          "coloring": "heatmap"
         },
         "hoverinfo": "none",
         "line": {
          "smoothing": 1.3
         },
         "reversescale": true,
         "showscale": false,
         "type": "contour",
         "x": [
          1.6,
          2,
          3,
          4,
          5,
          8,
          9,
          10,
          10.4
         ],
         "xaxis": "x4",
         "y": [
          0.16425859009509772,
          0.16834045098534337,
          0.17912291401980418,
          0.20986584841970365,
          0.23661761457749353,
          0.24468049264135633,
          0.2469269852048718,
          0.24699098521619944,
          0.24753895016177294,
          0.24758500422390978,
          0.24801078016965392,
          0.24812316705034101,
          0.248269484952899,
          0.2482906706149228,
          0.2483212158770654,
          0.24835694062356345,
          0.24845390578304163,
          0.2489461255532115,
          0.24952668897998526,
          0.2496168685630858,
          0.24971386963476672,
          0.24976913156403052,
          0.24989860916354575,
          0.24991783192812148,
          0.24993118242690152,
          0.24993894389778556,
          0.24997456747858884,
          0.24997595916056628,
          0.24997766879025657,
          0.2540595296805022
         ],
         "yaxis": "y4",
         "z": [
          [
           null,
           null,
           null,
           null,
           null,
           null,
           null,
           null,
           null
          ],
          [
           null,
           null,
           1.0521976802099775,
           null,
           null,
           null,
           null,
           null,
           null
          ],
          [
           null,
           null,
           null,
           null,
           1.0522340135393051,
           null,
           null,
           null,
           null
          ],
          [
           null,
           null,
           null,
           null,
           null,
           1.0526831455027024,
           null,
           null,
           null
          ],
          [
           null,
           1.0522698682146687,
           null,
           null,
           null,
           null,
           null,
           null,
           null
          ],
          [
           null,
           1.0522233686821665,
           null,
           null,
           null,
           null,
           null,
           null,
           null
          ],
          [
           null,
           1.0522479380596679,
           null,
           null,
           null,
           null,
           null,
           null,
           null
          ],
          [
           null,
           1.0528460754598776,
           null,
           null,
           null,
           null,
           null,
           null,
           null
          ],
          [
           null,
           1.0523062430270806,
           null,
           null,
           null,
           null,
           null,
           null,
           null
          ],
          [
           null,
           null,
           null,
           null,
           null,
           null,
           null,
           1.0521972356239793,
           null
          ],
          [
           null,
           null,
           null,
           null,
           null,
           null,
           null,
           1.0522269925107022,
           null
          ],
          [
           null,
           null,
           null,
           null,
           null,
           null,
           null,
           1.0522117112812917,
           null
          ],
          [
           null,
           null,
           null,
           null,
           null,
           null,
           null,
           1.0522349775231727,
           null
          ],
          [
           null,
           null,
           null,
           null,
           null,
           null,
           1.0521266936231262,
           null,
           null
          ],
          [
           null,
           null,
           null,
           null,
           null,
           null,
           null,
           1.0522627664310866,
           null
          ],
          [
           null,
           null,
           null,
           null,
           null,
           null,
           1.0522420071555807,
           null,
           null
          ],
          [
           null,
           null,
           null,
           null,
           null,
           null,
           null,
           1.0521424054056012,
           null
          ],
          [
           null,
           null,
           1.052158303202547,
           null,
           null,
           null,
           null,
           null,
           null
          ],
          [
           null,
           null,
           null,
           1.052065022541493,
           null,
           null,
           null,
           null,
           null
          ],
          [
           null,
           null,
           null,
           null,
           null,
           null,
           null,
           1.0522071267574429,
           null
          ],
          [
           null,
           null,
           null,
           null,
           null,
           1.0522001111453327,
           null,
           null,
           null
          ],
          [
           null,
           null,
           null,
           null,
           null,
           null,
           1.0522140204529327,
           null,
           null
          ],
          [
           null,
           null,
           null,
           null,
           null,
           null,
           1.0521696109764485,
           null,
           null
          ],
          [
           null,
           null,
           null,
           null,
           null,
           null,
           null,
           1.0522329278391123,
           null
          ],
          [
           null,
           null,
           null,
           null,
           null,
           null,
           1.052191937494924,
           null,
           null
          ],
          [
           null,
           null,
           null,
           null,
           null,
           null,
           null,
           1.0521474207363393,
           null
          ],
          [
           null,
           null,
           null,
           null,
           null,
           null,
           null,
           1.0522220522294448,
           null
          ],
          [
           null,
           null,
           null,
           null,
           1.0521827683454765,
           null,
           null,
           null,
           null
          ],
          [
           null,
           null,
           null,
           1.0520773546523614,
           null,
           null,
           null,
           null,
           null
          ],
          [
           null,
           null,
           null,
           null,
           null,
           null,
           null,
           null,
           null
          ]
         ]
        },
        {
         "marker": {
          "color": "black",
          "line": {
           "color": "Gray",
           "width": 2
          }
         },
         "mode": "markers",
         "name": "Feasible Trial",
         "showlegend": false,
         "type": "scatter",
         "x": [
          8,
          2,
          2,
          3,
          5,
          2,
          2,
          2,
          3,
          4,
          4,
          8,
          10,
          10,
          10,
          10,
          9,
          9,
          10,
          9,
          9,
          10,
          10,
          10,
          5,
          10,
          10,
          9
         ],
         "xaxis": "x4",
         "y": [
          0.20986584841970365,
          0.23661761457749353,
          0.24699098521619944,
          0.16834045098534337,
          0.17912291401980418,
          0.2469269852048718,
          0.24468049264135633,
          0.24753895016177294,
          0.2489461255532115,
          0.24952668897998526,
          0.24997766879025657,
          0.24971386963476672,
          0.2496168685630858,
          0.24758500422390978,
          0.24801078016965392,
          0.2483212158770654,
          0.24835694062356345,
          0.24976913156403052,
          0.24812316705034101,
          0.24993118242690152,
          0.2482906706149228,
          0.24997456747858884,
          0.248269484952899,
          0.24991783192812148,
          0.24997595916056628,
          0.24993894389778556,
          0.24845390578304163,
          0.24989860916354575
         ],
         "yaxis": "y4"
        },
        {
         "colorbar": {
          "title": {
           "text": "Objective Value"
          }
         },
         "colorscale": [
          [
           0,
           "rgb(247,251,255)"
          ],
          [
           0.125,
           "rgb(222,235,247)"
          ],
          [
           0.25,
           "rgb(198,219,239)"
          ],
          [
           0.375,
           "rgb(158,202,225)"
          ],
          [
           0.5,
           "rgb(107,174,214)"
          ],
          [
           0.625,
           "rgb(66,146,198)"
          ],
          [
           0.75,
           "rgb(33,113,181)"
          ],
          [
           0.875,
           "rgb(8,81,156)"
          ],
          [
           1,
           "rgb(8,48,107)"
          ]
         ],
         "connectgaps": true,
         "contours": {
          "coloring": "heatmap"
         },
         "hoverinfo": "none",
         "line": {
          "smoothing": 1.3
         },
         "reversescale": true,
         "showscale": false,
         "type": "contour",
         "x": [
          1.6,
          2,
          3,
          4,
          5,
          8,
          9,
          10,
          10.4
         ],
         "xaxis": "x8",
         "y": [
          24.238936690369897,
          32.47449038460792,
          39.64354168406294,
          40.89979767605377,
          43.11602813634241,
          67.80602616231216,
          81.16262258099887,
          124.21185223120968,
          129.42010993632587,
          135.17005713633648,
          141.44200727996292,
          148.99629545002682,
          168.16410175208014,
          168.46466094183324,
          174.0582746076279,
          183.3448418096625,
          183.59230572154684,
          186.0179496350655,
          186.0475127969662,
          188.56296528716115,
          189.35845620327572,
          189.49282767820483,
          191.49309636383265,
          192.39583284220797,
          194.03705901460268,
          194.2859635443494,
          194.32166149510252,
          197.08319843383177,
          197.1855642693683,
          205.42111796360632
         ],
         "yaxis": "y8",
         "z": [
          [
           null,
           null,
           null,
           null,
           null,
           null,
           null,
           null,
           null
          ],
          [
           null,
           1.0523062430270806,
           null,
           null,
           null,
           null,
           null,
           null,
           null
          ],
          [
           null,
           1.0522698682146687,
           null,
           null,
           null,
           null,
           null,
           null,
           null
          ],
          [
           null,
           1.0522479380596679,
           null,
           null,
           null,
           null,
           null,
           null,
           null
          ],
          [
           null,
           1.0522233686821665,
           null,
           null,
           null,
           null,
           null,
           null,
           null
          ],
          [
           null,
           null,
           null,
           null,
           1.0522340135393051,
           null,
           null,
           null,
           null
          ],
          [
           null,
           null,
           null,
           null,
           null,
           1.0526831455027024,
           null,
           null,
           null
          ],
          [
           null,
           1.0528460754598776,
           null,
           null,
           null,
           null,
           null,
           null,
           null
          ],
          [
           null,
           null,
           null,
           1.0520773546523614,
           null,
           null,
           null,
           null,
           null
          ],
          [
           null,
           null,
           1.052158303202547,
           null,
           null,
           null,
           null,
           null,
           null
          ],
          [
           null,
           null,
           null,
           null,
           null,
           1.0522001111453327,
           null,
           null,
           null
          ],
          [
           null,
           null,
           null,
           1.052065022541493,
           null,
           null,
           null,
           null,
           null
          ],
          [
           null,
           null,
           1.0521976802099775,
           null,
           null,
           null,
           null,
           null,
           null
          ],
          [
           null,
           null,
           null,
           null,
           null,
           null,
           1.0522420071555807,
           null,
           null
          ],
          [
           null,
           null,
           null,
           null,
           null,
           null,
           null,
           1.0522117112812917,
           null
          ],
          [
           null,
           null,
           null,
           null,
           null,
           null,
           null,
           1.0522071267574429,
           null
          ],
          [
           null,
           null,
           null,
           null,
           null,
           null,
           1.052191937494924,
           null,
           null
          ],
          [
           null,
           null,
           null,
           null,
           null,
           null,
           null,
           1.0521474207363393,
           null
          ],
          [
           null,
           null,
           null,
           null,
           null,
           null,
           null,
           1.0521424054056012,
           null
          ],
          [
           null,
           null,
           null,
           null,
           null,
           null,
           null,
           1.0522349775231727,
           null
          ],
          [
           null,
           null,
           null,
           null,
           null,
           null,
           null,
           1.0522329278391123,
           null
          ],
          [
           null,
           null,
           null,
           null,
           null,
           null,
           null,
           1.0522220522294448,
           null
          ],
          [
           null,
           null,
           null,
           null,
           null,
           null,
           1.0521696109764485,
           null,
           null
          ],
          [
           null,
           null,
           null,
           null,
           null,
           null,
           1.0522140204529327,
           null,
           null
          ],
          [
           null,
           null,
           null,
           null,
           null,
           null,
           null,
           1.0521972356239793,
           null
          ],
          [
           null,
           null,
           null,
           null,
           null,
           null,
           null,
           1.0522269925107022,
           null
          ],
          [
           null,
           null,
           null,
           null,
           null,
           null,
           1.0521266936231262,
           null,
           null
          ],
          [
           null,
           null,
           null,
           null,
           1.0521827683454765,
           null,
           null,
           null,
           null
          ],
          [
           null,
           null,
           null,
           null,
           null,
           null,
           null,
           1.0522627664310866,
           null
          ],
          [
           null,
           null,
           null,
           null,
           null,
           null,
           null,
           null,
           null
          ]
         ]
        },
        {
         "marker": {
          "color": "black",
          "line": {
           "color": "Gray",
           "width": 2
          }
         },
         "mode": "markers",
         "name": "Feasible Trial",
         "showlegend": false,
         "type": "scatter",
         "x": [
          8,
          2,
          2,
          3,
          5,
          2,
          2,
          2,
          3,
          4,
          4,
          8,
          10,
          10,
          10,
          10,
          9,
          9,
          10,
          9,
          9,
          10,
          10,
          10,
          5,
          10,
          10,
          9
         ],
         "xaxis": "x8",
         "y": [
          81.16262258099887,
          39.64354168406294,
          124.21185223120968,
          168.16410175208014,
          67.80602616231216,
          40.89979767605377,
          43.11602813634241,
          32.47449038460792,
          135.17005713633648,
          148.99629545002682,
          129.42010993632587,
          141.44200727996292,
          183.3448418096625,
          194.03705901460268,
          194.2859635443494,
          197.1855642693683,
          168.46466094183324,
          192.39583284220797,
          174.0582746076279,
          183.59230572154684,
          194.32166149510252,
          189.49282767820483,
          188.56296528716115,
          189.35845620327572,
          197.08319843383177,
          186.0179496350655,
          186.0475127969662,
          191.49309636383265
         ],
         "yaxis": "y8"
        },
        {
         "colorbar": {
          "title": {
           "text": "Objective Value"
          }
         },
         "colorscale": [
          [
           0,
           "rgb(247,251,255)"
          ],
          [
           0.125,
           "rgb(222,235,247)"
          ],
          [
           0.25,
           "rgb(198,219,239)"
          ],
          [
           0.375,
           "rgb(158,202,225)"
          ],
          [
           0.5,
           "rgb(107,174,214)"
          ],
          [
           0.625,
           "rgb(66,146,198)"
          ],
          [
           0.75,
           "rgb(33,113,181)"
          ],
          [
           0.875,
           "rgb(8,81,156)"
          ],
          [
           1,
           "rgb(8,48,107)"
          ]
         ],
         "connectgaps": true,
         "contours": {
          "coloring": "heatmap"
         },
         "hoverinfo": "none",
         "line": {
          "smoothing": 1.3
         },
         "reversescale": true,
         "showscale": false,
         "type": "contour",
         "x": [
          1.6,
          2,
          3,
          4,
          5,
          8,
          9,
          10,
          10.4
         ],
         "xaxis": "x12",
         "y": [
          7.9,
          8,
          9,
          10,
          10.1
         ],
         "yaxis": "y12",
         "z": [
          [
           null,
           null,
           null,
           null,
           null,
           null,
           null,
           null,
           null
          ],
          [
           null,
           1.0522233686821665,
           1.052158303202547,
           1.052065022541493,
           null,
           null,
           null,
           null,
           null
          ],
          [
           null,
           null,
           null,
           null,
           1.0521827683454765,
           1.0522001111453327,
           1.0521266936231262,
           1.0521424054056012,
           null
          ],
          [
           null,
           1.0528460754598776,
           null,
           null,
           null,
           1.0526831455027024,
           null,
           null,
           null
          ],
          [
           null,
           null,
           null,
           null,
           null,
           null,
           null,
           null,
           null
          ]
         ]
        },
        {
         "marker": {
          "color": "black",
          "line": {
           "color": "Gray",
           "width": 2
          }
         },
         "mode": "markers",
         "name": "Feasible Trial",
         "showlegend": false,
         "type": "scatter",
         "x": [
          8,
          2,
          2,
          3,
          5,
          2,
          2,
          2,
          3,
          4,
          4,
          8,
          10,
          10,
          10,
          10,
          9,
          9,
          10,
          9,
          9,
          10,
          10,
          10,
          5,
          10,
          10,
          9
         ],
         "xaxis": "x12",
         "y": [
          10,
          8,
          10,
          8,
          9,
          8,
          8,
          8,
          8,
          8,
          8,
          9,
          9,
          9,
          9,
          9,
          9,
          9,
          9,
          9,
          9,
          9,
          9,
          9,
          9,
          9,
          9,
          9
         ],
         "yaxis": "y12"
        },
        {
         "type": "scatter",
         "xaxis": "x16",
         "yaxis": "y16"
        }
       ],
       "layout": {
        "template": {
         "data": {
          "bar": [
           {
            "error_x": {
             "color": "#2a3f5f"
            },
            "error_y": {
             "color": "#2a3f5f"
            },
            "marker": {
             "line": {
              "color": "#E5ECF6",
              "width": 0.5
             },
             "pattern": {
              "fillmode": "overlay",
              "size": 10,
              "solidity": 0.2
             }
            },
            "type": "bar"
           }
          ],
          "barpolar": [
           {
            "marker": {
             "line": {
              "color": "#E5ECF6",
              "width": 0.5
             },
             "pattern": {
              "fillmode": "overlay",
              "size": 10,
              "solidity": 0.2
             }
            },
            "type": "barpolar"
           }
          ],
          "carpet": [
           {
            "aaxis": {
             "endlinecolor": "#2a3f5f",
             "gridcolor": "white",
             "linecolor": "white",
             "minorgridcolor": "white",
             "startlinecolor": "#2a3f5f"
            },
            "baxis": {
             "endlinecolor": "#2a3f5f",
             "gridcolor": "white",
             "linecolor": "white",
             "minorgridcolor": "white",
             "startlinecolor": "#2a3f5f"
            },
            "type": "carpet"
           }
          ],
          "choropleth": [
           {
            "colorbar": {
             "outlinewidth": 0,
             "ticks": ""
            },
            "type": "choropleth"
           }
          ],
          "contour": [
           {
            "colorbar": {
             "outlinewidth": 0,
             "ticks": ""
            },
            "colorscale": [
             [
              0,
              "#0d0887"
             ],
             [
              0.1111111111111111,
              "#46039f"
             ],
             [
              0.2222222222222222,
              "#7201a8"
             ],
             [
              0.3333333333333333,
              "#9c179e"
             ],
             [
              0.4444444444444444,
              "#bd3786"
             ],
             [
              0.5555555555555556,
              "#d8576b"
             ],
             [
              0.6666666666666666,
              "#ed7953"
             ],
             [
              0.7777777777777778,
              "#fb9f3a"
             ],
             [
              0.8888888888888888,
              "#fdca26"
             ],
             [
              1,
              "#f0f921"
             ]
            ],
            "type": "contour"
           }
          ],
          "contourcarpet": [
           {
            "colorbar": {
             "outlinewidth": 0,
             "ticks": ""
            },
            "type": "contourcarpet"
           }
          ],
          "heatmap": [
           {
            "colorbar": {
             "outlinewidth": 0,
             "ticks": ""
            },
            "colorscale": [
             [
              0,
              "#0d0887"
             ],
             [
              0.1111111111111111,
              "#46039f"
             ],
             [
              0.2222222222222222,
              "#7201a8"
             ],
             [
              0.3333333333333333,
              "#9c179e"
             ],
             [
              0.4444444444444444,
              "#bd3786"
             ],
             [
              0.5555555555555556,
              "#d8576b"
             ],
             [
              0.6666666666666666,
              "#ed7953"
             ],
             [
              0.7777777777777778,
              "#fb9f3a"
             ],
             [
              0.8888888888888888,
              "#fdca26"
             ],
             [
              1,
              "#f0f921"
             ]
            ],
            "type": "heatmap"
           }
          ],
          "heatmapgl": [
           {
            "colorbar": {
             "outlinewidth": 0,
             "ticks": ""
            },
            "colorscale": [
             [
              0,
              "#0d0887"
             ],
             [
              0.1111111111111111,
              "#46039f"
             ],
             [
              0.2222222222222222,
              "#7201a8"
             ],
             [
              0.3333333333333333,
              "#9c179e"
             ],
             [
              0.4444444444444444,
              "#bd3786"
             ],
             [
              0.5555555555555556,
              "#d8576b"
             ],
             [
              0.6666666666666666,
              "#ed7953"
             ],
             [
              0.7777777777777778,
              "#fb9f3a"
             ],
             [
              0.8888888888888888,
              "#fdca26"
             ],
             [
              1,
              "#f0f921"
             ]
            ],
            "type": "heatmapgl"
           }
          ],
          "histogram": [
           {
            "marker": {
             "pattern": {
              "fillmode": "overlay",
              "size": 10,
              "solidity": 0.2
             }
            },
            "type": "histogram"
           }
          ],
          "histogram2d": [
           {
            "colorbar": {
             "outlinewidth": 0,
             "ticks": ""
            },
            "colorscale": [
             [
              0,
              "#0d0887"
             ],
             [
              0.1111111111111111,
              "#46039f"
             ],
             [
              0.2222222222222222,
              "#7201a8"
             ],
             [
              0.3333333333333333,
              "#9c179e"
             ],
             [
              0.4444444444444444,
              "#bd3786"
             ],
             [
              0.5555555555555556,
              "#d8576b"
             ],
             [
              0.6666666666666666,
              "#ed7953"
             ],
             [
              0.7777777777777778,
              "#fb9f3a"
             ],
             [
              0.8888888888888888,
              "#fdca26"
             ],
             [
              1,
              "#f0f921"
             ]
            ],
            "type": "histogram2d"
           }
          ],
          "histogram2dcontour": [
           {
            "colorbar": {
             "outlinewidth": 0,
             "ticks": ""
            },
            "colorscale": [
             [
              0,
              "#0d0887"
             ],
             [
              0.1111111111111111,
              "#46039f"
             ],
             [
              0.2222222222222222,
              "#7201a8"
             ],
             [
              0.3333333333333333,
              "#9c179e"
             ],
             [
              0.4444444444444444,
              "#bd3786"
             ],
             [
              0.5555555555555556,
              "#d8576b"
             ],
             [
              0.6666666666666666,
              "#ed7953"
             ],
             [
              0.7777777777777778,
              "#fb9f3a"
             ],
             [
              0.8888888888888888,
              "#fdca26"
             ],
             [
              1,
              "#f0f921"
             ]
            ],
            "type": "histogram2dcontour"
           }
          ],
          "mesh3d": [
           {
            "colorbar": {
             "outlinewidth": 0,
             "ticks": ""
            },
            "type": "mesh3d"
           }
          ],
          "parcoords": [
           {
            "line": {
             "colorbar": {
              "outlinewidth": 0,
              "ticks": ""
             }
            },
            "type": "parcoords"
           }
          ],
          "pie": [
           {
            "automargin": true,
            "type": "pie"
           }
          ],
          "scatter": [
           {
            "fillpattern": {
             "fillmode": "overlay",
             "size": 10,
             "solidity": 0.2
            },
            "type": "scatter"
           }
          ],
          "scatter3d": [
           {
            "line": {
             "colorbar": {
              "outlinewidth": 0,
              "ticks": ""
             }
            },
            "marker": {
             "colorbar": {
              "outlinewidth": 0,
              "ticks": ""
             }
            },
            "type": "scatter3d"
           }
          ],
          "scattercarpet": [
           {
            "marker": {
             "colorbar": {
              "outlinewidth": 0,
              "ticks": ""
             }
            },
            "type": "scattercarpet"
           }
          ],
          "scattergeo": [
           {
            "marker": {
             "colorbar": {
              "outlinewidth": 0,
              "ticks": ""
             }
            },
            "type": "scattergeo"
           }
          ],
          "scattergl": [
           {
            "marker": {
             "colorbar": {
              "outlinewidth": 0,
              "ticks": ""
             }
            },
            "type": "scattergl"
           }
          ],
          "scattermapbox": [
           {
            "marker": {
             "colorbar": {
              "outlinewidth": 0,
              "ticks": ""
             }
            },
            "type": "scattermapbox"
           }
          ],
          "scatterpolar": [
           {
            "marker": {
             "colorbar": {
              "outlinewidth": 0,
              "ticks": ""
             }
            },
            "type": "scatterpolar"
           }
          ],
          "scatterpolargl": [
           {
            "marker": {
             "colorbar": {
              "outlinewidth": 0,
              "ticks": ""
             }
            },
            "type": "scatterpolargl"
           }
          ],
          "scatterternary": [
           {
            "marker": {
             "colorbar": {
              "outlinewidth": 0,
              "ticks": ""
             }
            },
            "type": "scatterternary"
           }
          ],
          "surface": [
           {
            "colorbar": {
             "outlinewidth": 0,
             "ticks": ""
            },
            "colorscale": [
             [
              0,
              "#0d0887"
             ],
             [
              0.1111111111111111,
              "#46039f"
             ],
             [
              0.2222222222222222,
              "#7201a8"
             ],
             [
              0.3333333333333333,
              "#9c179e"
             ],
             [
              0.4444444444444444,
              "#bd3786"
             ],
             [
              0.5555555555555556,
              "#d8576b"
             ],
             [
              0.6666666666666666,
              "#ed7953"
             ],
             [
              0.7777777777777778,
              "#fb9f3a"
             ],
             [
              0.8888888888888888,
              "#fdca26"
             ],
             [
              1,
              "#f0f921"
             ]
            ],
            "type": "surface"
           }
          ],
          "table": [
           {
            "cells": {
             "fill": {
              "color": "#EBF0F8"
             },
             "line": {
              "color": "white"
             }
            },
            "header": {
             "fill": {
              "color": "#C8D4E3"
             },
             "line": {
              "color": "white"
             }
            },
            "type": "table"
           }
          ]
         },
         "layout": {
          "annotationdefaults": {
           "arrowcolor": "#2a3f5f",
           "arrowhead": 0,
           "arrowwidth": 1
          },
          "autotypenumbers": "strict",
          "coloraxis": {
           "colorbar": {
            "outlinewidth": 0,
            "ticks": ""
           }
          },
          "colorscale": {
           "diverging": [
            [
             0,
             "#8e0152"
            ],
            [
             0.1,
             "#c51b7d"
            ],
            [
             0.2,
             "#de77ae"
            ],
            [
             0.3,
             "#f1b6da"
            ],
            [
             0.4,
             "#fde0ef"
            ],
            [
             0.5,
             "#f7f7f7"
            ],
            [
             0.6,
             "#e6f5d0"
            ],
            [
             0.7,
             "#b8e186"
            ],
            [
             0.8,
             "#7fbc41"
            ],
            [
             0.9,
             "#4d9221"
            ],
            [
             1,
             "#276419"
            ]
           ],
           "sequential": [
            [
             0,
             "#0d0887"
            ],
            [
             0.1111111111111111,
             "#46039f"
            ],
            [
             0.2222222222222222,
             "#7201a8"
            ],
            [
             0.3333333333333333,
             "#9c179e"
            ],
            [
             0.4444444444444444,
             "#bd3786"
            ],
            [
             0.5555555555555556,
             "#d8576b"
            ],
            [
             0.6666666666666666,
             "#ed7953"
            ],
            [
             0.7777777777777778,
             "#fb9f3a"
            ],
            [
             0.8888888888888888,
             "#fdca26"
            ],
            [
             1,
             "#f0f921"
            ]
           ],
           "sequentialminus": [
            [
             0,
             "#0d0887"
            ],
            [
             0.1111111111111111,
             "#46039f"
            ],
            [
             0.2222222222222222,
             "#7201a8"
            ],
            [
             0.3333333333333333,
             "#9c179e"
            ],
            [
             0.4444444444444444,
             "#bd3786"
            ],
            [
             0.5555555555555556,
             "#d8576b"
            ],
            [
             0.6666666666666666,
             "#ed7953"
            ],
            [
             0.7777777777777778,
             "#fb9f3a"
            ],
            [
             0.8888888888888888,
             "#fdca26"
            ],
            [
             1,
             "#f0f921"
            ]
           ]
          },
          "colorway": [
           "#636efa",
           "#EF553B",
           "#00cc96",
           "#ab63fa",
           "#FFA15A",
           "#19d3f3",
           "#FF6692",
           "#B6E880",
           "#FF97FF",
           "#FECB52"
          ],
          "font": {
           "color": "#2a3f5f"
          },
          "geo": {
           "bgcolor": "white",
           "lakecolor": "white",
           "landcolor": "#E5ECF6",
           "showlakes": true,
           "showland": true,
           "subunitcolor": "white"
          },
          "hoverlabel": {
           "align": "left"
          },
          "hovermode": "closest",
          "mapbox": {
           "style": "light"
          },
          "paper_bgcolor": "white",
          "plot_bgcolor": "#E5ECF6",
          "polar": {
           "angularaxis": {
            "gridcolor": "white",
            "linecolor": "white",
            "ticks": ""
           },
           "bgcolor": "#E5ECF6",
           "radialaxis": {
            "gridcolor": "white",
            "linecolor": "white",
            "ticks": ""
           }
          },
          "scene": {
           "xaxis": {
            "backgroundcolor": "#E5ECF6",
            "gridcolor": "white",
            "gridwidth": 2,
            "linecolor": "white",
            "showbackground": true,
            "ticks": "",
            "zerolinecolor": "white"
           },
           "yaxis": {
            "backgroundcolor": "#E5ECF6",
            "gridcolor": "white",
            "gridwidth": 2,
            "linecolor": "white",
            "showbackground": true,
            "ticks": "",
            "zerolinecolor": "white"
           },
           "zaxis": {
            "backgroundcolor": "#E5ECF6",
            "gridcolor": "white",
            "gridwidth": 2,
            "linecolor": "white",
            "showbackground": true,
            "ticks": "",
            "zerolinecolor": "white"
           }
          },
          "shapedefaults": {
           "line": {
            "color": "#2a3f5f"
           }
          },
          "ternary": {
           "aaxis": {
            "gridcolor": "white",
            "linecolor": "white",
            "ticks": ""
           },
           "baxis": {
            "gridcolor": "white",
            "linecolor": "white",
            "ticks": ""
           },
           "bgcolor": "#E5ECF6",
           "caxis": {
            "gridcolor": "white",
            "linecolor": "white",
            "ticks": ""
           }
          },
          "title": {
           "x": 0.05
          },
          "xaxis": {
           "automargin": true,
           "gridcolor": "white",
           "linecolor": "white",
           "ticks": "",
           "title": {
            "standoff": 15
           },
           "zerolinecolor": "white",
           "zerolinewidth": 2
          },
          "yaxis": {
           "automargin": true,
           "gridcolor": "white",
           "linecolor": "white",
           "ticks": "",
           "title": {
            "standoff": 15
           },
           "zerolinecolor": "white",
           "zerolinewidth": 2
          }
         }
        },
        "title": {
         "text": "Contour Plot"
        },
        "xaxis": {
         "anchor": "y",
         "domain": [
          0,
          0.2125
         ],
         "matches": "x13",
         "range": [
          0.16425859009509772,
          0.2540595296805022
         ],
         "showticklabels": false
        },
        "xaxis10": {
         "anchor": "y10",
         "domain": [
          0.2625,
          0.475
         ],
         "matches": "x14",
         "range": [
          24.238936690369897,
          205.42111796360632
         ],
         "showticklabels": false
        },
        "xaxis11": {
         "anchor": "y11",
         "domain": [
          0.525,
          0.7375
         ],
         "matches": "x15",
         "range": [
          7.9,
          10.1
         ],
         "showticklabels": false
        },
        "xaxis12": {
         "anchor": "y12",
         "domain": [
          0.7875,
          1
         ],
         "matches": "x16",
         "range": [
          1.6,
          10.4
         ],
         "showticklabels": false
        },
        "xaxis13": {
         "anchor": "y13",
         "domain": [
          0,
          0.2125
         ],
         "range": [
          0.16425859009509772,
          0.2540595296805022
         ],
         "title": {
          "text": "eta"
         }
        },
        "xaxis14": {
         "anchor": "y14",
         "domain": [
          0.2625,
          0.475
         ],
         "range": [
          24.238936690369897,
          205.42111796360632
         ],
         "title": {
          "text": "lambda"
         }
        },
        "xaxis15": {
         "anchor": "y15",
         "domain": [
          0.525,
          0.7375
         ],
         "range": [
          7.9,
          10.1
         ],
         "title": {
          "text": "max_depth"
         }
        },
        "xaxis16": {
         "anchor": "y16",
         "domain": [
          0.7875,
          1
         ],
         "range": [
          1.6,
          10.4
         ],
         "title": {
          "text": "min_child_weight"
         }
        },
        "xaxis2": {
         "anchor": "y2",
         "domain": [
          0.2625,
          0.475
         ],
         "matches": "x14",
         "range": [
          24.238936690369897,
          205.42111796360632
         ],
         "showticklabels": false
        },
        "xaxis3": {
         "anchor": "y3",
         "domain": [
          0.525,
          0.7375
         ],
         "matches": "x15",
         "range": [
          7.9,
          10.1
         ],
         "showticklabels": false
        },
        "xaxis4": {
         "anchor": "y4",
         "domain": [
          0.7875,
          1
         ],
         "matches": "x16",
         "range": [
          1.6,
          10.4
         ],
         "showticklabels": false
        },
        "xaxis5": {
         "anchor": "y5",
         "domain": [
          0,
          0.2125
         ],
         "matches": "x13",
         "range": [
          0.16425859009509772,
          0.2540595296805022
         ],
         "showticklabels": false
        },
        "xaxis6": {
         "anchor": "y6",
         "domain": [
          0.2625,
          0.475
         ],
         "matches": "x14",
         "range": [
          24.238936690369897,
          205.42111796360632
         ],
         "showticklabels": false
        },
        "xaxis7": {
         "anchor": "y7",
         "domain": [
          0.525,
          0.7375
         ],
         "matches": "x15",
         "range": [
          7.9,
          10.1
         ],
         "showticklabels": false
        },
        "xaxis8": {
         "anchor": "y8",
         "domain": [
          0.7875,
          1
         ],
         "matches": "x16",
         "range": [
          1.6,
          10.4
         ],
         "showticklabels": false
        },
        "xaxis9": {
         "anchor": "y9",
         "domain": [
          0,
          0.2125
         ],
         "matches": "x13",
         "range": [
          0.16425859009509772,
          0.2540595296805022
         ],
         "showticklabels": false
        },
        "yaxis": {
         "anchor": "x",
         "domain": [
          0.80625,
          1
         ],
         "range": [
          0.16425859009509772,
          0.2540595296805022
         ],
         "title": {
          "text": "eta"
         }
        },
        "yaxis10": {
         "anchor": "x10",
         "domain": [
          0.26875,
          0.4625
         ],
         "matches": "y9",
         "range": [
          7.9,
          10.1
         ],
         "showticklabels": false
        },
        "yaxis11": {
         "anchor": "x11",
         "domain": [
          0.26875,
          0.4625
         ],
         "matches": "y9",
         "range": [
          7.9,
          10.1
         ],
         "showticklabels": false
        },
        "yaxis12": {
         "anchor": "x12",
         "domain": [
          0.26875,
          0.4625
         ],
         "matches": "y9",
         "range": [
          7.9,
          10.1
         ],
         "showticklabels": false
        },
        "yaxis13": {
         "anchor": "x13",
         "domain": [
          0,
          0.19375
         ],
         "range": [
          1.6,
          10.4
         ],
         "title": {
          "text": "min_child_weight"
         }
        },
        "yaxis14": {
         "anchor": "x14",
         "domain": [
          0,
          0.19375
         ],
         "matches": "y13",
         "range": [
          1.6,
          10.4
         ],
         "showticklabels": false
        },
        "yaxis15": {
         "anchor": "x15",
         "domain": [
          0,
          0.19375
         ],
         "matches": "y13",
         "range": [
          1.6,
          10.4
         ],
         "showticklabels": false
        },
        "yaxis16": {
         "anchor": "x16",
         "domain": [
          0,
          0.19375
         ],
         "matches": "y13",
         "range": [
          1.6,
          10.4
         ],
         "showticklabels": false
        },
        "yaxis2": {
         "anchor": "x2",
         "domain": [
          0.80625,
          1
         ],
         "matches": "y",
         "range": [
          0.16425859009509772,
          0.2540595296805022
         ],
         "showticklabels": false
        },
        "yaxis3": {
         "anchor": "x3",
         "domain": [
          0.80625,
          1
         ],
         "matches": "y",
         "range": [
          0.16425859009509772,
          0.2540595296805022
         ],
         "showticklabels": false
        },
        "yaxis4": {
         "anchor": "x4",
         "domain": [
          0.80625,
          1
         ],
         "matches": "y",
         "range": [
          0.16425859009509772,
          0.2540595296805022
         ],
         "showticklabels": false
        },
        "yaxis5": {
         "anchor": "x5",
         "domain": [
          0.5375,
          0.73125
         ],
         "range": [
          24.238936690369897,
          205.42111796360632
         ],
         "title": {
          "text": "lambda"
         }
        },
        "yaxis6": {
         "anchor": "x6",
         "domain": [
          0.5375,
          0.73125
         ],
         "matches": "y5",
         "range": [
          24.238936690369897,
          205.42111796360632
         ],
         "showticklabels": false
        },
        "yaxis7": {
         "anchor": "x7",
         "domain": [
          0.5375,
          0.73125
         ],
         "matches": "y5",
         "range": [
          24.238936690369897,
          205.42111796360632
         ],
         "showticklabels": false
        },
        "yaxis8": {
         "anchor": "x8",
         "domain": [
          0.5375,
          0.73125
         ],
         "matches": "y5",
         "range": [
          24.238936690369897,
          205.42111796360632
         ],
         "showticklabels": false
        },
        "yaxis9": {
         "anchor": "x9",
         "domain": [
          0.26875,
          0.4625
         ],
         "range": [
          7.9,
          10.1
         ],
         "title": {
          "text": "max_depth"
         }
        }
       }
      }
     },
     "metadata": {},
     "output_type": "display_data"
    }
   ],
   "source": [
    "plot_contour(study)\n"
   ]
  },
  {
   "cell_type": "code",
   "execution_count": 6,
   "metadata": {},
   "outputs": [
    {
     "data": {
      "application/vnd.plotly.v1+json": {
       "config": {
        "plotlyServerURL": "https://plot.ly"
       },
       "data": [
        {
         "cliponaxis": false,
         "hovertemplate": [
          "min_child_weight (IntDistribution): 0.014205632059053825<extra></extra>",
          "eta (FloatDistribution): 0.06265427615284654<extra></extra>",
          "lambda (FloatDistribution): 0.13577860624489335<extra></extra>",
          "max_depth (IntDistribution): 0.7873614855432062<extra></extra>"
         ],
         "name": "Objective Value",
         "orientation": "h",
         "text": [
          "0.01",
          "0.06",
          "0.14",
          "0.79"
         ],
         "textposition": "outside",
         "type": "bar",
         "x": [
          0.014205632059053825,
          0.06265427615284654,
          0.13577860624489335,
          0.7873614855432062
         ],
         "y": [
          "min_child_weight",
          "eta",
          "lambda",
          "max_depth"
         ]
        }
       ],
       "layout": {
        "template": {
         "data": {
          "bar": [
           {
            "error_x": {
             "color": "#2a3f5f"
            },
            "error_y": {
             "color": "#2a3f5f"
            },
            "marker": {
             "line": {
              "color": "#E5ECF6",
              "width": 0.5
             },
             "pattern": {
              "fillmode": "overlay",
              "size": 10,
              "solidity": 0.2
             }
            },
            "type": "bar"
           }
          ],
          "barpolar": [
           {
            "marker": {
             "line": {
              "color": "#E5ECF6",
              "width": 0.5
             },
             "pattern": {
              "fillmode": "overlay",
              "size": 10,
              "solidity": 0.2
             }
            },
            "type": "barpolar"
           }
          ],
          "carpet": [
           {
            "aaxis": {
             "endlinecolor": "#2a3f5f",
             "gridcolor": "white",
             "linecolor": "white",
             "minorgridcolor": "white",
             "startlinecolor": "#2a3f5f"
            },
            "baxis": {
             "endlinecolor": "#2a3f5f",
             "gridcolor": "white",
             "linecolor": "white",
             "minorgridcolor": "white",
             "startlinecolor": "#2a3f5f"
            },
            "type": "carpet"
           }
          ],
          "choropleth": [
           {
            "colorbar": {
             "outlinewidth": 0,
             "ticks": ""
            },
            "type": "choropleth"
           }
          ],
          "contour": [
           {
            "colorbar": {
             "outlinewidth": 0,
             "ticks": ""
            },
            "colorscale": [
             [
              0,
              "#0d0887"
             ],
             [
              0.1111111111111111,
              "#46039f"
             ],
             [
              0.2222222222222222,
              "#7201a8"
             ],
             [
              0.3333333333333333,
              "#9c179e"
             ],
             [
              0.4444444444444444,
              "#bd3786"
             ],
             [
              0.5555555555555556,
              "#d8576b"
             ],
             [
              0.6666666666666666,
              "#ed7953"
             ],
             [
              0.7777777777777778,
              "#fb9f3a"
             ],
             [
              0.8888888888888888,
              "#fdca26"
             ],
             [
              1,
              "#f0f921"
             ]
            ],
            "type": "contour"
           }
          ],
          "contourcarpet": [
           {
            "colorbar": {
             "outlinewidth": 0,
             "ticks": ""
            },
            "type": "contourcarpet"
           }
          ],
          "heatmap": [
           {
            "colorbar": {
             "outlinewidth": 0,
             "ticks": ""
            },
            "colorscale": [
             [
              0,
              "#0d0887"
             ],
             [
              0.1111111111111111,
              "#46039f"
             ],
             [
              0.2222222222222222,
              "#7201a8"
             ],
             [
              0.3333333333333333,
              "#9c179e"
             ],
             [
              0.4444444444444444,
              "#bd3786"
             ],
             [
              0.5555555555555556,
              "#d8576b"
             ],
             [
              0.6666666666666666,
              "#ed7953"
             ],
             [
              0.7777777777777778,
              "#fb9f3a"
             ],
             [
              0.8888888888888888,
              "#fdca26"
             ],
             [
              1,
              "#f0f921"
             ]
            ],
            "type": "heatmap"
           }
          ],
          "heatmapgl": [
           {
            "colorbar": {
             "outlinewidth": 0,
             "ticks": ""
            },
            "colorscale": [
             [
              0,
              "#0d0887"
             ],
             [
              0.1111111111111111,
              "#46039f"
             ],
             [
              0.2222222222222222,
              "#7201a8"
             ],
             [
              0.3333333333333333,
              "#9c179e"
             ],
             [
              0.4444444444444444,
              "#bd3786"
             ],
             [
              0.5555555555555556,
              "#d8576b"
             ],
             [
              0.6666666666666666,
              "#ed7953"
             ],
             [
              0.7777777777777778,
              "#fb9f3a"
             ],
             [
              0.8888888888888888,
              "#fdca26"
             ],
             [
              1,
              "#f0f921"
             ]
            ],
            "type": "heatmapgl"
           }
          ],
          "histogram": [
           {
            "marker": {
             "pattern": {
              "fillmode": "overlay",
              "size": 10,
              "solidity": 0.2
             }
            },
            "type": "histogram"
           }
          ],
          "histogram2d": [
           {
            "colorbar": {
             "outlinewidth": 0,
             "ticks": ""
            },
            "colorscale": [
             [
              0,
              "#0d0887"
             ],
             [
              0.1111111111111111,
              "#46039f"
             ],
             [
              0.2222222222222222,
              "#7201a8"
             ],
             [
              0.3333333333333333,
              "#9c179e"
             ],
             [
              0.4444444444444444,
              "#bd3786"
             ],
             [
              0.5555555555555556,
              "#d8576b"
             ],
             [
              0.6666666666666666,
              "#ed7953"
             ],
             [
              0.7777777777777778,
              "#fb9f3a"
             ],
             [
              0.8888888888888888,
              "#fdca26"
             ],
             [
              1,
              "#f0f921"
             ]
            ],
            "type": "histogram2d"
           }
          ],
          "histogram2dcontour": [
           {
            "colorbar": {
             "outlinewidth": 0,
             "ticks": ""
            },
            "colorscale": [
             [
              0,
              "#0d0887"
             ],
             [
              0.1111111111111111,
              "#46039f"
             ],
             [
              0.2222222222222222,
              "#7201a8"
             ],
             [
              0.3333333333333333,
              "#9c179e"
             ],
             [
              0.4444444444444444,
              "#bd3786"
             ],
             [
              0.5555555555555556,
              "#d8576b"
             ],
             [
              0.6666666666666666,
              "#ed7953"
             ],
             [
              0.7777777777777778,
              "#fb9f3a"
             ],
             [
              0.8888888888888888,
              "#fdca26"
             ],
             [
              1,
              "#f0f921"
             ]
            ],
            "type": "histogram2dcontour"
           }
          ],
          "mesh3d": [
           {
            "colorbar": {
             "outlinewidth": 0,
             "ticks": ""
            },
            "type": "mesh3d"
           }
          ],
          "parcoords": [
           {
            "line": {
             "colorbar": {
              "outlinewidth": 0,
              "ticks": ""
             }
            },
            "type": "parcoords"
           }
          ],
          "pie": [
           {
            "automargin": true,
            "type": "pie"
           }
          ],
          "scatter": [
           {
            "fillpattern": {
             "fillmode": "overlay",
             "size": 10,
             "solidity": 0.2
            },
            "type": "scatter"
           }
          ],
          "scatter3d": [
           {
            "line": {
             "colorbar": {
              "outlinewidth": 0,
              "ticks": ""
             }
            },
            "marker": {
             "colorbar": {
              "outlinewidth": 0,
              "ticks": ""
             }
            },
            "type": "scatter3d"
           }
          ],
          "scattercarpet": [
           {
            "marker": {
             "colorbar": {
              "outlinewidth": 0,
              "ticks": ""
             }
            },
            "type": "scattercarpet"
           }
          ],
          "scattergeo": [
           {
            "marker": {
             "colorbar": {
              "outlinewidth": 0,
              "ticks": ""
             }
            },
            "type": "scattergeo"
           }
          ],
          "scattergl": [
           {
            "marker": {
             "colorbar": {
              "outlinewidth": 0,
              "ticks": ""
             }
            },
            "type": "scattergl"
           }
          ],
          "scattermapbox": [
           {
            "marker": {
             "colorbar": {
              "outlinewidth": 0,
              "ticks": ""
             }
            },
            "type": "scattermapbox"
           }
          ],
          "scatterpolar": [
           {
            "marker": {
             "colorbar": {
              "outlinewidth": 0,
              "ticks": ""
             }
            },
            "type": "scatterpolar"
           }
          ],
          "scatterpolargl": [
           {
            "marker": {
             "colorbar": {
              "outlinewidth": 0,
              "ticks": ""
             }
            },
            "type": "scatterpolargl"
           }
          ],
          "scatterternary": [
           {
            "marker": {
             "colorbar": {
              "outlinewidth": 0,
              "ticks": ""
             }
            },
            "type": "scatterternary"
           }
          ],
          "surface": [
           {
            "colorbar": {
             "outlinewidth": 0,
             "ticks": ""
            },
            "colorscale": [
             [
              0,
              "#0d0887"
             ],
             [
              0.1111111111111111,
              "#46039f"
             ],
             [
              0.2222222222222222,
              "#7201a8"
             ],
             [
              0.3333333333333333,
              "#9c179e"
             ],
             [
              0.4444444444444444,
              "#bd3786"
             ],
             [
              0.5555555555555556,
              "#d8576b"
             ],
             [
              0.6666666666666666,
              "#ed7953"
             ],
             [
              0.7777777777777778,
              "#fb9f3a"
             ],
             [
              0.8888888888888888,
              "#fdca26"
             ],
             [
              1,
              "#f0f921"
             ]
            ],
            "type": "surface"
           }
          ],
          "table": [
           {
            "cells": {
             "fill": {
              "color": "#EBF0F8"
             },
             "line": {
              "color": "white"
             }
            },
            "header": {
             "fill": {
              "color": "#C8D4E3"
             },
             "line": {
              "color": "white"
             }
            },
            "type": "table"
           }
          ]
         },
         "layout": {
          "annotationdefaults": {
           "arrowcolor": "#2a3f5f",
           "arrowhead": 0,
           "arrowwidth": 1
          },
          "autotypenumbers": "strict",
          "coloraxis": {
           "colorbar": {
            "outlinewidth": 0,
            "ticks": ""
           }
          },
          "colorscale": {
           "diverging": [
            [
             0,
             "#8e0152"
            ],
            [
             0.1,
             "#c51b7d"
            ],
            [
             0.2,
             "#de77ae"
            ],
            [
             0.3,
             "#f1b6da"
            ],
            [
             0.4,
             "#fde0ef"
            ],
            [
             0.5,
             "#f7f7f7"
            ],
            [
             0.6,
             "#e6f5d0"
            ],
            [
             0.7,
             "#b8e186"
            ],
            [
             0.8,
             "#7fbc41"
            ],
            [
             0.9,
             "#4d9221"
            ],
            [
             1,
             "#276419"
            ]
           ],
           "sequential": [
            [
             0,
             "#0d0887"
            ],
            [
             0.1111111111111111,
             "#46039f"
            ],
            [
             0.2222222222222222,
             "#7201a8"
            ],
            [
             0.3333333333333333,
             "#9c179e"
            ],
            [
             0.4444444444444444,
             "#bd3786"
            ],
            [
             0.5555555555555556,
             "#d8576b"
            ],
            [
             0.6666666666666666,
             "#ed7953"
            ],
            [
             0.7777777777777778,
             "#fb9f3a"
            ],
            [
             0.8888888888888888,
             "#fdca26"
            ],
            [
             1,
             "#f0f921"
            ]
           ],
           "sequentialminus": [
            [
             0,
             "#0d0887"
            ],
            [
             0.1111111111111111,
             "#46039f"
            ],
            [
             0.2222222222222222,
             "#7201a8"
            ],
            [
             0.3333333333333333,
             "#9c179e"
            ],
            [
             0.4444444444444444,
             "#bd3786"
            ],
            [
             0.5555555555555556,
             "#d8576b"
            ],
            [
             0.6666666666666666,
             "#ed7953"
            ],
            [
             0.7777777777777778,
             "#fb9f3a"
            ],
            [
             0.8888888888888888,
             "#fdca26"
            ],
            [
             1,
             "#f0f921"
            ]
           ]
          },
          "colorway": [
           "#636efa",
           "#EF553B",
           "#00cc96",
           "#ab63fa",
           "#FFA15A",
           "#19d3f3",
           "#FF6692",
           "#B6E880",
           "#FF97FF",
           "#FECB52"
          ],
          "font": {
           "color": "#2a3f5f"
          },
          "geo": {
           "bgcolor": "white",
           "lakecolor": "white",
           "landcolor": "#E5ECF6",
           "showlakes": true,
           "showland": true,
           "subunitcolor": "white"
          },
          "hoverlabel": {
           "align": "left"
          },
          "hovermode": "closest",
          "mapbox": {
           "style": "light"
          },
          "paper_bgcolor": "white",
          "plot_bgcolor": "#E5ECF6",
          "polar": {
           "angularaxis": {
            "gridcolor": "white",
            "linecolor": "white",
            "ticks": ""
           },
           "bgcolor": "#E5ECF6",
           "radialaxis": {
            "gridcolor": "white",
            "linecolor": "white",
            "ticks": ""
           }
          },
          "scene": {
           "xaxis": {
            "backgroundcolor": "#E5ECF6",
            "gridcolor": "white",
            "gridwidth": 2,
            "linecolor": "white",
            "showbackground": true,
            "ticks": "",
            "zerolinecolor": "white"
           },
           "yaxis": {
            "backgroundcolor": "#E5ECF6",
            "gridcolor": "white",
            "gridwidth": 2,
            "linecolor": "white",
            "showbackground": true,
            "ticks": "",
            "zerolinecolor": "white"
           },
           "zaxis": {
            "backgroundcolor": "#E5ECF6",
            "gridcolor": "white",
            "gridwidth": 2,
            "linecolor": "white",
            "showbackground": true,
            "ticks": "",
            "zerolinecolor": "white"
           }
          },
          "shapedefaults": {
           "line": {
            "color": "#2a3f5f"
           }
          },
          "ternary": {
           "aaxis": {
            "gridcolor": "white",
            "linecolor": "white",
            "ticks": ""
           },
           "baxis": {
            "gridcolor": "white",
            "linecolor": "white",
            "ticks": ""
           },
           "bgcolor": "#E5ECF6",
           "caxis": {
            "gridcolor": "white",
            "linecolor": "white",
            "ticks": ""
           }
          },
          "title": {
           "x": 0.05
          },
          "xaxis": {
           "automargin": true,
           "gridcolor": "white",
           "linecolor": "white",
           "ticks": "",
           "title": {
            "standoff": 15
           },
           "zerolinecolor": "white",
           "zerolinewidth": 2
          },
          "yaxis": {
           "automargin": true,
           "gridcolor": "white",
           "linecolor": "white",
           "ticks": "",
           "title": {
            "standoff": 15
           },
           "zerolinecolor": "white",
           "zerolinewidth": 2
          }
         }
        },
        "title": {
         "text": "Hyperparameter Importances"
        },
        "xaxis": {
         "title": {
          "text": "Hyperparameter Importance"
         }
        },
        "yaxis": {
         "title": {
          "text": "Hyperparameter"
         }
        }
       }
      }
     },
     "metadata": {},
     "output_type": "display_data"
    }
   ],
   "source": [
    "plot_param_importances(study)"
   ]
  },
  {
   "cell_type": "code",
   "execution_count": null,
   "metadata": {},
   "outputs": [],
   "source": []
  },
  {
   "cell_type": "code",
   "execution_count": null,
   "metadata": {},
   "outputs": [],
   "source": []
  }
 ],
 "metadata": {
  "kernelspec": {
   "display_name": ".venv",
   "language": "python",
   "name": "python3"
  },
  "language_info": {
   "codemirror_mode": {
    "name": "ipython",
    "version": 3
   },
   "file_extension": ".py",
   "mimetype": "text/x-python",
   "name": "python",
   "nbconvert_exporter": "python",
   "pygments_lexer": "ipython3",
   "version": "3.11.2"
  }
 },
 "nbformat": 4,
 "nbformat_minor": 2
}
