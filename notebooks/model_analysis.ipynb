{
 "cells": [
  {
   "cell_type": "code",
   "execution_count": 6,
   "metadata": {},
   "outputs": [],
   "source": [
    "import pickle\n",
    "from pathlib import Path\n",
    "\n",
    "model = Path(\"../out/models/model_xgboost.pkl\")\n",
    "\n",
    "pipeline = pickle.load(model.open(\"rb\"))"
   ]
  },
  {
   "cell_type": "code",
   "execution_count": null,
   "metadata": {},
   "outputs": [
    {
     "data": {
      "text/plain": [
       "{'f0': 7.82830286026001,\n",
       " 'f1': 7.4775590896606445,\n",
       " 'f2': 7.383369445800781,\n",
       " 'f3': 189.20040893554688,\n",
       " 'f4': 93.48474884033203,\n",
       " 'f5': 140.6058807373047,\n",
       " 'f6': 7.5588836669921875,\n",
       " 'f7': 173.8084716796875,\n",
       " 'f8': 7.447538375854492,\n",
       " 'f9': 8.912823677062988,\n",
       " 'f10': 8.773795127868652,\n",
       " 'f11': 6.904857158660889,\n",
       " 'f12': 13.896919250488281,\n",
       " 'f13': 6.418236255645752,\n",
       " 'f14': 7.954673767089844,\n",
       " 'f15': 6.981865882873535,\n",
       " 'f16': 5.74038553237915,\n",
       " 'f17': 9.960440635681152,\n",
       " 'f18': 7.646090030670166,\n",
       " 'f19': 6.187377452850342,\n",
       " 'f20': 5.8417534828186035,\n",
       " 'f21': 6.9054274559021,\n",
       " 'f22': 6.6663899421691895,\n",
       " 'f23': 5.531105041503906,\n",
       " 'f24': 7.348333835601807,\n",
       " 'f25': 6.565821170806885,\n",
       " 'f26': 104.3058090209961,\n",
       " 'f27': 17.227767944335938,\n",
       " 'f28': 9.294692039489746,\n",
       " 'f29': 6.657708168029785,\n",
       " 'f30': 6.416149616241455,\n",
       " 'f31': 8.127700805664062,\n",
       " 'f32': 8.357871055603027,\n",
       " 'f33': 7.286323070526123,\n",
       " 'f34': 8.400349617004395,\n",
       " 'f35': 7.4847588539123535,\n",
       " 'f36': 6.986750602722168,\n",
       " 'f37': 9.265724182128906}"
      ]
     },
     "execution_count": 17,
     "metadata": {},
     "output_type": "execute_result"
    }
   ],
   "source": [
    "pipeline[\"model\"].get_booster().get_score(importance_type=\"gain\")"
   ]
  },
  {
   "cell_type": "code",
   "execution_count": null,
   "metadata": {},
   "outputs": [],
   "source": []
  }
 ],
 "metadata": {
  "kernelspec": {
   "display_name": ".venv",
   "language": "python",
   "name": "python3"
  },
  "language_info": {
   "codemirror_mode": {
    "name": "ipython",
    "version": 3
   },
   "file_extension": ".py",
   "mimetype": "text/x-python",
   "name": "python",
   "nbconvert_exporter": "python",
   "pygments_lexer": "ipython3",
   "version": "3.11.2"
  }
 },
 "nbformat": 4,
 "nbformat_minor": 2
}
